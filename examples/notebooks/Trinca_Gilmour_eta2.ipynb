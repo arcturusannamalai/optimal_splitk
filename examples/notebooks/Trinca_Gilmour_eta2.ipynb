{
 "cells": [
  {
   "cell_type": "code",
   "execution_count": 1,
   "metadata": {},
   "outputs": [],
   "source": [
    "import pandas as pd\n",
    "import numpy as np\n",
    "from doe_gensplit.doe import x2fx\n",
    "from doe_gensplit.utils import obs_var\n",
    "\n",
    "model = np.array([\n",
    "    [0, 0, 0, 0, 0, 0],\n",
    "    [1, 0, 0, 0, 0, 0],\n",
    "    [0, 1, 0, 0, 0, 0],\n",
    "    [0, 0, 1, 0, 0, 0],\n",
    "    [0, 0, 0, 1, 0, 0],\n",
    "    [0, 0, 0, 0, 1, 0],\n",
    "    [0, 0, 0, 0, 0, 1],\n",
    "    [1, 1, 0, 0, 0, 0],\n",
    "    [1, 0, 1, 0, 0, 0],\n",
    "    [1, 0, 0, 1, 0, 0],\n",
    "    [1, 0, 0, 0, 1, 0],\n",
    "    [1, 0, 0, 0, 0, 1],\n",
    "    [0, 1, 1, 0, 0, 0],\n",
    "    [0, 1, 0, 1, 0, 0],\n",
    "    [0, 1, 0, 0, 1, 0],\n",
    "    [0, 1, 0, 0, 0, 1],\n",
    "    [0, 0, 1, 1, 0, 0],\n",
    "    [0, 0, 1, 0, 1, 0],\n",
    "    [0, 0, 1, 0, 0, 1],\n",
    "    [0, 0, 0, 1, 1, 0],\n",
    "    [0, 0, 0, 1, 0, 1],\n",
    "    [0, 0, 0, 0, 1, 1],\n",
    "])\n",
    "\n",
    "tg_ex5 = pd.read_excel('../assets/ex5_trinca_gilmour.xlsx').to_numpy()\n",
    "Xref = x2fx(tg_ex5, model)"
   ]
  },
  {
   "cell_type": "code",
   "execution_count": 2,
   "metadata": {},
   "outputs": [
    {
     "name": "stderr",
     "output_type": "stream",
     "text": [
      "100%|██████████| 10000/10000 [06:29<00:00, 25.65it/s]\n"
     ]
    },
    {
     "name": "stdout",
     "output_type": "stream",
     "text": [
      "Eta: 2  -- Det: 1.0475679689298587\n"
     ]
    },
    {
     "name": "stderr",
     "output_type": "stream",
     "text": [
      "100%|██████████| 10000/10000 [05:43<00:00, 29.14it/s]\n"
     ]
    },
    {
     "name": "stdout",
     "output_type": "stream",
     "text": [
      "Eta: 3  -- Det: 1.03498571187224\n"
     ]
    },
    {
     "name": "stderr",
     "output_type": "stream",
     "text": [
      "100%|██████████| 10000/10000 [06:01<00:00, 27.69it/s]\n"
     ]
    },
    {
     "name": "stdout",
     "output_type": "stream",
     "text": [
      "Eta: 4  -- Det: 1.0252425645730696\n"
     ]
    },
    {
     "name": "stderr",
     "output_type": "stream",
     "text": [
      "100%|██████████| 10000/10000 [05:44<00:00, 29.01it/s]\n"
     ]
    },
    {
     "name": "stdout",
     "output_type": "stream",
     "text": [
      "Eta: 5  -- Det: 1.0172999617854506\n"
     ]
    },
    {
     "name": "stderr",
     "output_type": "stream",
     "text": [
      "100%|██████████| 10000/10000 [05:55<00:00, 28.14it/s]\n"
     ]
    },
    {
     "name": "stdout",
     "output_type": "stream",
     "text": [
      "Eta: 6  -- Det: 1.0105981341597121\n"
     ]
    },
    {
     "name": "stderr",
     "output_type": "stream",
     "text": [
      "100%|██████████| 10000/10000 [05:42<00:00, 29.23it/s]\n"
     ]
    },
    {
     "name": "stdout",
     "output_type": "stream",
     "text": [
      "Eta: 7  -- Det: 1.0048029628968347\n"
     ]
    },
    {
     "name": "stderr",
     "output_type": "stream",
     "text": [
      "100%|██████████| 10000/10000 [05:43<00:00, 29.10it/s]\n"
     ]
    },
    {
     "name": "stdout",
     "output_type": "stream",
     "text": [
      "Eta: 8  -- Det: 1.0024053281802252\n"
     ]
    },
    {
     "name": "stderr",
     "output_type": "stream",
     "text": [
      "100%|██████████| 10000/10000 [05:39<00:00, 29.49it/s]\n"
     ]
    },
    {
     "name": "stdout",
     "output_type": "stream",
     "text": [
      "Eta: 9  -- Det: 1.0013743623968618\n"
     ]
    },
    {
     "name": "stderr",
     "output_type": "stream",
     "text": [
      "100%|██████████| 10000/10000 [05:36<00:00, 29.72it/s]"
     ]
    },
    {
     "name": "stdout",
     "output_type": "stream",
     "text": [
      "Eta: 10  -- Det: 1.0005056739008265\n"
     ]
    },
    {
     "name": "stderr",
     "output_type": "stream",
     "text": [
      "\n"
     ]
    }
   ],
   "source": [
    "from doe_gensplit.doe import doe\n",
    "from doe_gensplit.validation import validate_design, validate_model\n",
    "\n",
    "# The factor columns\n",
    "factors = np.array([\n",
    "    [2, 1],         # C:   level 2; continuous\n",
    "    [2, 1],         # B:   level 1; continuous\n",
    "    [1, 1],         # A:   level 1; continuous\n",
    "    [0, 1],         # LOC: level 1; continuous\n",
    "    [0, 1],         # Capacity: level 1; continuous\n",
    "    [0, 1],         # RPM: level 1; continuous\n",
    "])\n",
    "\n",
    "# Plot sizes\n",
    "plot_sizes = np.array([2, 2, 8], dtype=np.int64)\n",
    "\n",
    "# Validate the model (assertion)\n",
    "validate_model(model, factors)\n",
    "\n",
    "for eta in range(2, 11):\n",
    "    # Create optimal design\n",
    "    best_Y, metrics = doe(model, plot_sizes, factors, ratios=np.array([1, eta, eta], dtype=np.float64), n_tries=10000)\n",
    "\n",
    "    # Validation and output\n",
    "    validate_design(best_Y, model, factors, plot_sizes)\n",
    "    pd.DataFrame(best_Y).to_csv(f'../out/ex5_eta2/ex5_paper_eta2_{eta}.csv', index=False)\n",
    "\n",
    "    # Det ref\n",
    "    V = obs_var(plot_sizes, ratios=np.array([1, eta, eta], dtype=np.float64))\n",
    "    Mref = Xref.T @ np.linalg.solve(V, Xref)\n",
    "    detref = np.linalg.det(Mref) ** (1/len(model))\n",
    "\n",
    "    # Det\n",
    "    best_X = x2fx(best_Y, model)\n",
    "    best_M = best_X.T @ np.linalg.solve(V, best_X)\n",
    "    best_det = np.linalg.det(best_M) ** (1/len(model))\n",
    "\n",
    "    print('Eta:', eta, ' -- Det:', best_det / detref)"
   ]
  },
  {
   "cell_type": "code",
   "execution_count": null,
   "metadata": {},
   "outputs": [
    {
     "name": "stderr",
     "output_type": "stream",
     "text": [
      "100%|██████████| 10000/10000 [05:32<00:00, 30.09it/s]\n"
     ]
    },
    {
     "name": "stdout",
     "output_type": "stream",
     "text": [
      "Eta: 1  -- Det: 1.0651649833707657\n"
     ]
    },
    {
     "name": "stderr",
     "output_type": "stream",
     "text": [
      "100%|██████████| 10000/10000 [05:36<00:00, 29.68it/s]\n"
     ]
    },
    {
     "name": "stdout",
     "output_type": "stream",
     "text": [
      "Eta: 2  -- Det: 1.0252425645730696\n"
     ]
    },
    {
     "name": "stderr",
     "output_type": "stream",
     "text": [
      "100%|██████████| 10000/10000 [05:42<00:00, 29.20it/s]\n"
     ]
    },
    {
     "name": "stdout",
     "output_type": "stream",
     "text": [
      "Eta: 3  -- Det: 1.0013743623968618\n"
     ]
    },
    {
     "name": "stderr",
     "output_type": "stream",
     "text": [
      "100%|██████████| 10000/10000 [05:30<00:00, 30.29it/s]\n"
     ]
    },
    {
     "name": "stdout",
     "output_type": "stream",
     "text": [
      "Eta: 4  -- Det: 0.9972539675866801\n"
     ]
    },
    {
     "name": "stderr",
     "output_type": "stream",
     "text": [
      "100%|██████████| 10000/10000 [05:32<00:00, 30.09it/s]\n"
     ]
    },
    {
     "name": "stdout",
     "output_type": "stream",
     "text": [
      "Eta: 5  -- Det: 0.9962770022118961\n"
     ]
    },
    {
     "name": "stderr",
     "output_type": "stream",
     "text": [
      "100%|██████████| 10000/10000 [05:43<00:00, 29.10it/s]\n"
     ]
    },
    {
     "name": "stdout",
     "output_type": "stream",
     "text": [
      "Eta: 6  -- Det: 0.9957520462976238\n"
     ]
    },
    {
     "name": "stderr",
     "output_type": "stream",
     "text": [
      "100%|██████████| 10000/10000 [07:03<00:00, 23.63it/s]\n"
     ]
    },
    {
     "name": "stdout",
     "output_type": "stream",
     "text": [
      "Eta: 7  -- Det: 0.996033652837336\n"
     ]
    },
    {
     "name": "stderr",
     "output_type": "stream",
     "text": [
      "100%|██████████| 10000/10000 [05:48<00:00, 28.65it/s]\n"
     ]
    },
    {
     "name": "stdout",
     "output_type": "stream",
     "text": [
      "Eta: 8  -- Det: 0.9997798811818014\n"
     ]
    },
    {
     "name": "stderr",
     "output_type": "stream",
     "text": [
      "100%|██████████| 10000/10000 [05:52<00:00, 28.35it/s]\n"
     ]
    },
    {
     "name": "stdout",
     "output_type": "stream",
     "text": [
      "Eta: 9  -- Det: 0.9955465697535043\n"
     ]
    },
    {
     "name": "stderr",
     "output_type": "stream",
     "text": [
      "100%|██████████| 10000/10000 [05:54<00:00, 28.24it/s]"
     ]
    },
    {
     "name": "stdout",
     "output_type": "stream",
     "text": [
      "Eta: 10  -- Det: 0.9908512682334778\n"
     ]
    },
    {
     "name": "stderr",
     "output_type": "stream",
     "text": [
      "\n"
     ]
    }
   ],
   "source": [
    "from doe_gensplit.doe import doe\n",
    "from doe_gensplit.validation import validate_design, validate_model\n",
    "\n",
    "# The factor columns\n",
    "factors = np.array([\n",
    "    [2, 1],         # C:   level 2; continuous\n",
    "    [2, 1],         # B:   level 1; continuous\n",
    "    [1, 1],         # A:   level 1; continuous\n",
    "    [0, 1],         # LOC: level 1; continuous\n",
    "    [0, 1],         # Capacity: level 1; continuous\n",
    "    [0, 1],         # RPM: level 1; continuous\n",
    "])\n",
    "\n",
    "# Plot sizes\n",
    "plot_sizes = np.array([2, 2, 8], dtype=np.int64)\n",
    "\n",
    "# Validate the model (assertion)\n",
    "validate_model(model, factors)\n",
    "\n",
    "for eta in range(1, 11):\n",
    "    # Create optimal design\n",
    "    best_Y, metrics = doe(model, plot_sizes, factors, ratios=np.array([1, eta, eta], dtype=np.float64), n_tries=10000)\n",
    "\n",
    "    # Validation and output\n",
    "    validate_design(best_Y, model, factors, plot_sizes)\n",
    "    pd.DataFrame(best_Y).to_csv(f'../out/ex5_eta2_2/ex5_paper_eta2_2_{eta}.csv', index=False)\n",
    "\n",
    "    # Det ref\n",
    "    V = obs_var(plot_sizes, ratios=np.array([1, eta, eta], dtype=np.float64))\n",
    "    Mref = Xref.T @ np.linalg.solve(V, Xref)\n",
    "    detref = np.linalg.det(Mref) ** (1/len(model))\n",
    "\n",
    "    # Det\n",
    "    best_X = x2fx(best_Y, model)\n",
    "    best_M = best_X.T @ np.linalg.solve(V, best_X)\n",
    "    best_det = np.linalg.det(best_M) ** (1/len(model))\n",
    "\n",
    "    print('Eta:', eta, ' -- Det:', best_det / detref)"
   ]
  }
 ],
 "metadata": {
  "kernelspec": {
   "display_name": "Python 3",
   "language": "python",
   "name": "python3"
  },
  "language_info": {
   "codemirror_mode": {
    "name": "ipython",
    "version": 3
   },
   "file_extension": ".py",
   "mimetype": "text/x-python",
   "name": "python",
   "nbconvert_exporter": "python",
   "pygments_lexer": "ipython3",
   "version": "3.8.10"
  },
  "orig_nbformat": 4
 },
 "nbformat": 4,
 "nbformat_minor": 2
}
