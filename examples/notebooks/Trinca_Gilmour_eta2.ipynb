{
 "cells": [
  {
   "cell_type": "code",
   "execution_count": 2,
   "metadata": {},
   "outputs": [],
   "source": [
    "import pandas as pd\n",
    "import numpy as np\n",
    "from optimal_splitk.doe import x2fx\n",
    "from optimal_splitk.utils import obs_var\n",
    "\n",
    "model = np.array([\n",
    "    [0, 0, 0, 0, 0, 0],\n",
    "    [1, 0, 0, 0, 0, 0],\n",
    "    [0, 1, 0, 0, 0, 0],\n",
    "    [0, 0, 1, 0, 0, 0],\n",
    "    [0, 0, 0, 1, 0, 0],\n",
    "    [0, 0, 0, 0, 1, 0],\n",
    "    [0, 0, 0, 0, 0, 1],\n",
    "    [1, 1, 0, 0, 0, 0],\n",
    "    [1, 0, 1, 0, 0, 0],\n",
    "    [1, 0, 0, 1, 0, 0],\n",
    "    [1, 0, 0, 0, 1, 0],\n",
    "    [1, 0, 0, 0, 0, 1],\n",
    "    [0, 1, 1, 0, 0, 0],\n",
    "    [0, 1, 0, 1, 0, 0],\n",
    "    [0, 1, 0, 0, 1, 0],\n",
    "    [0, 1, 0, 0, 0, 1],\n",
    "    [0, 0, 1, 1, 0, 0],\n",
    "    [0, 0, 1, 0, 1, 0],\n",
    "    [0, 0, 1, 0, 0, 1],\n",
    "    [0, 0, 0, 1, 1, 0],\n",
    "    [0, 0, 0, 1, 0, 1],\n",
    "    [0, 0, 0, 0, 1, 1],\n",
    "])\n",
    "\n",
    "tg_ex5 = pd.read_excel('../assets/ex5_trinca_gilmour.xlsx').to_numpy()\n",
    "Xref = x2fx(tg_ex5, model)"
   ]
  },
  {
   "cell_type": "code",
   "execution_count": 2,
   "metadata": {},
   "outputs": [
    {
     "name": "stderr",
     "output_type": "stream",
     "text": [
      "100%|██████████| 10000/10000 [06:29<00:00, 25.65it/s]\n"
     ]
    },
    {
     "name": "stdout",
     "output_type": "stream",
     "text": [
      "Eta: 2  -- Det: 1.0475679689298587\n"
     ]
    },
    {
     "name": "stderr",
     "output_type": "stream",
     "text": [
      "100%|██████████| 10000/10000 [05:43<00:00, 29.14it/s]\n"
     ]
    },
    {
     "name": "stdout",
     "output_type": "stream",
     "text": [
      "Eta: 3  -- Det: 1.03498571187224\n"
     ]
    },
    {
     "name": "stderr",
     "output_type": "stream",
     "text": [
      "100%|██████████| 10000/10000 [06:01<00:00, 27.69it/s]\n"
     ]
    },
    {
     "name": "stdout",
     "output_type": "stream",
     "text": [
      "Eta: 4  -- Det: 1.0252425645730696\n"
     ]
    },
    {
     "name": "stderr",
     "output_type": "stream",
     "text": [
      "100%|██████████| 10000/10000 [05:44<00:00, 29.01it/s]\n"
     ]
    },
    {
     "name": "stdout",
     "output_type": "stream",
     "text": [
      "Eta: 5  -- Det: 1.0172999617854506\n"
     ]
    },
    {
     "name": "stderr",
     "output_type": "stream",
     "text": [
      "100%|██████████| 10000/10000 [05:55<00:00, 28.14it/s]\n"
     ]
    },
    {
     "name": "stdout",
     "output_type": "stream",
     "text": [
      "Eta: 6  -- Det: 1.0105981341597121\n"
     ]
    },
    {
     "name": "stderr",
     "output_type": "stream",
     "text": [
      "100%|██████████| 10000/10000 [05:42<00:00, 29.23it/s]\n"
     ]
    },
    {
     "name": "stdout",
     "output_type": "stream",
     "text": [
      "Eta: 7  -- Det: 1.0048029628968347\n"
     ]
    },
    {
     "name": "stderr",
     "output_type": "stream",
     "text": [
      "100%|██████████| 10000/10000 [05:43<00:00, 29.10it/s]\n"
     ]
    },
    {
     "name": "stdout",
     "output_type": "stream",
     "text": [
      "Eta: 8  -- Det: 1.0024053281802252\n"
     ]
    },
    {
     "name": "stderr",
     "output_type": "stream",
     "text": [
      "100%|██████████| 10000/10000 [05:39<00:00, 29.49it/s]\n"
     ]
    },
    {
     "name": "stdout",
     "output_type": "stream",
     "text": [
      "Eta: 9  -- Det: 1.0013743623968618\n"
     ]
    },
    {
     "name": "stderr",
     "output_type": "stream",
     "text": [
      "100%|██████████| 10000/10000 [05:36<00:00, 29.72it/s]"
     ]
    },
    {
     "name": "stdout",
     "output_type": "stream",
     "text": [
      "Eta: 10  -- Det: 1.0005056739008265\n"
     ]
    },
    {
     "name": "stderr",
     "output_type": "stream",
     "text": [
      "\n"
     ]
    }
   ],
   "source": [
    "from optimal_splitk.doe import doe\n",
    "from optimal_splitk.validation import validate_design, validate_model\n",
    "\n",
    "# The factor columns\n",
    "factors = np.array([\n",
    "    [2, 1],         # C:   level 2; continuous\n",
    "    [2, 1],         # B:   level 1; continuous\n",
    "    [1, 1],         # A:   level 1; continuous\n",
    "    [0, 1],         # LOC: level 1; continuous\n",
    "    [0, 1],         # Capacity: level 1; continuous\n",
    "    [0, 1],         # RPM: level 1; continuous\n",
    "])\n",
    "\n",
    "# Plot sizes\n",
    "plot_sizes = np.array([2, 2, 8], dtype=np.int64)\n",
    "\n",
    "# Validate the model (assertion)\n",
    "validate_model(model, factors)\n",
    "\n",
    "for eta in range(2, 11):\n",
    "    # Create optimal design\n",
    "    best_Y, metrics = doe(model, plot_sizes, factors, ratios=np.array([1, eta, eta], dtype=np.float64), n_tries=10000)\n",
    "\n",
    "    # Validation and output\n",
    "    validate_design(best_Y, model, factors, plot_sizes)\n",
    "    pd.DataFrame(best_Y).to_csv(f'../out/ex5_eta2/ex5_paper_eta2_{eta}.csv', index=False)\n",
    "\n",
    "    # Det ref\n",
    "    V = obs_var(plot_sizes, ratios=np.array([1, eta, eta], dtype=np.float64))\n",
    "    Mref = Xref.T @ np.linalg.solve(V, Xref)\n",
    "    detref = np.linalg.det(Mref) ** (1/len(model))\n",
    "\n",
    "    # Det\n",
    "    best_X = x2fx(best_Y, model)\n",
    "    best_M = best_X.T @ np.linalg.solve(V, best_X)\n",
    "    best_det = np.linalg.det(best_M) ** (1/len(model))\n",
    "\n",
    "    print('Eta:', eta, ' -- Det:', best_det / detref)"
   ]
  },
  {
   "cell_type": "code",
   "execution_count": 3,
   "metadata": {},
   "outputs": [
    {
     "name": "stderr",
     "output_type": "stream",
     "text": [
      "100%|██████████| 10000/10000 [06:10<00:00, 26.95it/s]\n"
     ]
    },
    {
     "name": "stdout",
     "output_type": "stream",
     "text": [
      "Eta: 11  -- Det: 0.9999999999999997\n"
     ]
    },
    {
     "name": "stderr",
     "output_type": "stream",
     "text": [
      "100%|██████████| 10000/10000 [05:40<00:00, 29.35it/s]\n"
     ]
    },
    {
     "name": "stdout",
     "output_type": "stream",
     "text": [
      "Eta: 21  -- Det: 1.0001096673147816\n"
     ]
    },
    {
     "name": "stderr",
     "output_type": "stream",
     "text": [
      "100%|██████████| 10000/10000 [05:23<00:00, 30.91it/s]\n"
     ]
    },
    {
     "name": "stdout",
     "output_type": "stream",
     "text": [
      "Eta: 31  -- Det: 1.0000840717862878\n"
     ]
    },
    {
     "name": "stderr",
     "output_type": "stream",
     "text": [
      "100%|██████████| 10000/10000 [05:23<00:00, 30.87it/s]\n"
     ]
    },
    {
     "name": "stdout",
     "output_type": "stream",
     "text": [
      "Eta: 41  -- Det: 1.000067686391076\n"
     ]
    },
    {
     "name": "stderr",
     "output_type": "stream",
     "text": [
      "100%|██████████| 10000/10000 [05:33<00:00, 29.99it/s]\n"
     ]
    },
    {
     "name": "stdout",
     "output_type": "stream",
     "text": [
      "Eta: 51  -- Det: 1.000056524150675\n"
     ]
    },
    {
     "name": "stderr",
     "output_type": "stream",
     "text": [
      "100%|██████████| 10000/10000 [05:24<00:00, 30.80it/s]\n"
     ]
    },
    {
     "name": "stdout",
     "output_type": "stream",
     "text": [
      "Eta: 61  -- Det: 1.0000484793800954\n"
     ]
    },
    {
     "name": "stderr",
     "output_type": "stream",
     "text": [
      "100%|██████████| 10000/10000 [05:44<00:00, 29.04it/s]\n"
     ]
    },
    {
     "name": "stdout",
     "output_type": "stream",
     "text": [
      "Eta: 71  -- Det: 1.0\n"
     ]
    },
    {
     "name": "stderr",
     "output_type": "stream",
     "text": [
      "100%|██████████| 10000/10000 [05:51<00:00, 28.43it/s]\n"
     ]
    },
    {
     "name": "stdout",
     "output_type": "stream",
     "text": [
      "Eta: 81  -- Det: 1.000037699768826\n"
     ]
    },
    {
     "name": "stderr",
     "output_type": "stream",
     "text": [
      "100%|██████████| 10000/10000 [05:49<00:00, 28.59it/s]"
     ]
    },
    {
     "name": "stdout",
     "output_type": "stream",
     "text": [
      "Eta: 91  -- Det: 1.0000000000000004\n"
     ]
    },
    {
     "name": "stderr",
     "output_type": "stream",
     "text": [
      "\n"
     ]
    }
   ],
   "source": [
    "from optimal_splitk.doe import doe\n",
    "from optimal_splitk.validation import validate_design, validate_model\n",
    "\n",
    "# The factor columns\n",
    "factors = np.array([\n",
    "    [2, 1],         # C:   level 2; continuous\n",
    "    [2, 1],         # B:   level 1; continuous\n",
    "    [1, 1],         # A:   level 1; continuous\n",
    "    [0, 1],         # LOC: level 1; continuous\n",
    "    [0, 1],         # Capacity: level 1; continuous\n",
    "    [0, 1],         # RPM: level 1; continuous\n",
    "])\n",
    "\n",
    "# Plot sizes\n",
    "plot_sizes = np.array([2, 2, 8], dtype=np.int64)\n",
    "\n",
    "# Validate the model (assertion)\n",
    "validate_model(model, factors)\n",
    "\n",
    "for eta in range(11, 101, 10):\n",
    "    # Create optimal design\n",
    "    best_Y, metrics = doe(model, plot_sizes, factors, ratios=np.array([1, eta, eta], dtype=np.float64), n_tries=10000)\n",
    "\n",
    "    # Validation and output\n",
    "    validate_design(best_Y, model, factors, plot_sizes)\n",
    "    pd.DataFrame(best_Y).to_csv(f'../out/ex5_eta2/ex5_paper_eta2_{eta}.csv', index=False)\n",
    "\n",
    "    # Det ref\n",
    "    V = obs_var(plot_sizes, ratios=np.array([1, eta, eta], dtype=np.float64))\n",
    "    Mref = Xref.T @ np.linalg.solve(V, Xref)\n",
    "    detref = np.linalg.det(Mref) ** (1/len(model))\n",
    "\n",
    "    # Det\n",
    "    best_X = x2fx(best_Y, model)\n",
    "    best_M = best_X.T @ np.linalg.solve(V, best_X)\n",
    "    best_det = np.linalg.det(best_M) ** (1/len(model))\n",
    "\n",
    "    print('Eta:', eta, ' -- Det:', best_det / detref)"
   ]
  },
  {
   "cell_type": "code",
   "execution_count": 4,
   "metadata": {},
   "outputs": [
    {
     "name": "stderr",
     "output_type": "stream",
     "text": [
      "100%|██████████| 10000/10000 [05:23<00:00, 30.90it/s]\n"
     ]
    },
    {
     "name": "stdout",
     "output_type": "stream",
     "text": [
      "Eta: 100  -- Det: 1.0000000000000004\n"
     ]
    },
    {
     "name": "stderr",
     "output_type": "stream",
     "text": [
      "100%|██████████| 10000/10000 [05:30<00:00, 30.24it/s]\n"
     ]
    },
    {
     "name": "stdout",
     "output_type": "stream",
     "text": [
      "Eta: 200  -- Det: 1.0000161824677678\n"
     ]
    },
    {
     "name": "stderr",
     "output_type": "stream",
     "text": [
      "100%|██████████| 10000/10000 [06:02<00:00, 27.61it/s]\n"
     ]
    },
    {
     "name": "stdout",
     "output_type": "stream",
     "text": [
      "Eta: 300  -- Det: 1.0000109314450198\n"
     ]
    },
    {
     "name": "stderr",
     "output_type": "stream",
     "text": [
      "100%|██████████| 10000/10000 [06:02<00:00, 27.60it/s]\n"
     ]
    },
    {
     "name": "stdout",
     "output_type": "stream",
     "text": [
      "Eta: 400  -- Det: 1.0000082527823597\n"
     ]
    },
    {
     "name": "stderr",
     "output_type": "stream",
     "text": [
      "100%|██████████| 10000/10000 [06:03<00:00, 27.51it/s]\n"
     ]
    },
    {
     "name": "stdout",
     "output_type": "stream",
     "text": [
      "Eta: 500  -- Det: 1.0000066283766285\n"
     ]
    },
    {
     "name": "stderr",
     "output_type": "stream",
     "text": [
      "100%|██████████| 10000/10000 [06:03<00:00, 27.52it/s]\n"
     ]
    },
    {
     "name": "stdout",
     "output_type": "stream",
     "text": [
      "Eta: 600  -- Det: 1.0000055382226645\n"
     ]
    },
    {
     "name": "stderr",
     "output_type": "stream",
     "text": [
      "100%|██████████| 10000/10000 [06:05<00:00, 27.36it/s]\n"
     ]
    },
    {
     "name": "stdout",
     "output_type": "stream",
     "text": [
      "Eta: 700  -- Det: 1.000004755991681\n"
     ]
    },
    {
     "name": "stderr",
     "output_type": "stream",
     "text": [
      "100%|██████████| 10000/10000 [05:42<00:00, 29.22it/s]\n"
     ]
    },
    {
     "name": "stdout",
     "output_type": "stream",
     "text": [
      "Eta: 800  -- Det: 0.9999999999999999\n"
     ]
    },
    {
     "name": "stderr",
     "output_type": "stream",
     "text": [
      "100%|██████████| 10000/10000 [05:24<00:00, 30.85it/s]"
     ]
    },
    {
     "name": "stdout",
     "output_type": "stream",
     "text": [
      "Eta: 900  -- Det: 1.0\n"
     ]
    },
    {
     "name": "stderr",
     "output_type": "stream",
     "text": [
      "\n"
     ]
    }
   ],
   "source": [
    "from optimal_splitk.doe import doe\n",
    "from optimal_splitk.validation import validate_design, validate_model\n",
    "\n",
    "# The factor columns\n",
    "factors = np.array([\n",
    "    [2, 1],         # C:   level 2; continuous\n",
    "    [2, 1],         # B:   level 1; continuous\n",
    "    [1, 1],         # A:   level 1; continuous\n",
    "    [0, 1],         # LOC: level 1; continuous\n",
    "    [0, 1],         # Capacity: level 1; continuous\n",
    "    [0, 1],         # RPM: level 1; continuous\n",
    "])\n",
    "\n",
    "# Plot sizes\n",
    "plot_sizes = np.array([2, 2, 8], dtype=np.int64)\n",
    "\n",
    "# Validate the model (assertion)\n",
    "validate_model(model, factors)\n",
    "\n",
    "for eta in range(100, 1000, 100):\n",
    "    # Create optimal design\n",
    "    best_Y, metrics = doe(model, plot_sizes, factors, ratios=np.array([1, eta, eta], dtype=np.float64), n_tries=10000)\n",
    "\n",
    "    # Validation and output\n",
    "    validate_design(best_Y, model, factors, plot_sizes)\n",
    "    pd.DataFrame(best_Y).to_csv(f'../out/ex5_eta2/ex5_paper_eta2_{eta}.csv', index=False)\n",
    "\n",
    "    # Det ref\n",
    "    V = obs_var(plot_sizes, ratios=np.array([1, eta, eta], dtype=np.float64))\n",
    "    Mref = Xref.T @ np.linalg.solve(V, Xref)\n",
    "    detref = np.linalg.det(Mref) ** (1/len(model))\n",
    "\n",
    "    # Det\n",
    "    best_X = x2fx(best_Y, model)\n",
    "    best_M = best_X.T @ np.linalg.solve(V, best_X)\n",
    "    best_det = np.linalg.det(best_M) ** (1/len(model))\n",
    "\n",
    "    print('Eta:', eta, ' -- Det:', best_det / detref)"
   ]
  }
 ],
 "metadata": {
  "kernelspec": {
   "display_name": "Python 3",
   "language": "python",
   "name": "python3"
  },
  "language_info": {
   "codemirror_mode": {
    "name": "ipython",
    "version": 3
   },
   "file_extension": ".py",
   "mimetype": "text/x-python",
   "name": "python",
   "nbconvert_exporter": "python",
   "pygments_lexer": "ipython3",
   "version": "3.8.10"
  },
  "orig_nbformat": 4
 },
 "nbformat": 4,
 "nbformat_minor": 2
}
