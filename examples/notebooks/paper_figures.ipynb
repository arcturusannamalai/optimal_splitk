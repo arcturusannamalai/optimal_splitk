{
 "cells": [
  {
   "cell_type": "code",
   "execution_count": 9,
   "metadata": {},
   "outputs": [],
   "source": [
    "import numpy as np\n",
    "import pandas as pd\n",
    "np.set_printoptions(precision=3)\n",
    "\n",
    "file = 'sensitivity_10_1e5.csv'"
   ]
  },
  {
   "cell_type": "markdown",
   "metadata": {},
   "source": [
    "### Ratio misspecifications"
   ]
  },
  {
   "cell_type": "code",
   "execution_count": 10,
   "metadata": {},
   "outputs": [
    {
     "data": {
      "text/html": [
       "<div>\n",
       "<style scoped>\n",
       "    .dataframe tbody tr th:only-of-type {\n",
       "        vertical-align: middle;\n",
       "    }\n",
       "\n",
       "    .dataframe tbody tr th {\n",
       "        vertical-align: top;\n",
       "    }\n",
       "\n",
       "    .dataframe thead th {\n",
       "        text-align: right;\n",
       "    }\n",
       "</style>\n",
       "<table border=\"1\" class=\"dataframe\">\n",
       "  <thead>\n",
       "    <tr style=\"text-align: right;\">\n",
       "      <th></th>\n",
       "      <th>r1</th>\n",
       "      <th>r2</th>\n",
       "      <th>r3</th>\n",
       "      <th>t1</th>\n",
       "      <th>t2</th>\n",
       "      <th>t3</th>\n",
       "      <th>det</th>\n",
       "      <th>det_true</th>\n",
       "      <th>det_opt</th>\n",
       "      <th>ratio</th>\n",
       "    </tr>\n",
       "  </thead>\n",
       "  <tbody>\n",
       "    <tr>\n",
       "      <th>0</th>\n",
       "      <td>0.1</td>\n",
       "      <td>0.1</td>\n",
       "      <td>0.1</td>\n",
       "      <td>0.1</td>\n",
       "      <td>0.1</td>\n",
       "      <td>0.1</td>\n",
       "      <td>11.488274</td>\n",
       "      <td>11.488274</td>\n",
       "      <td>11.488274</td>\n",
       "      <td>1.000000</td>\n",
       "    </tr>\n",
       "    <tr>\n",
       "      <th>1</th>\n",
       "      <td>0.1</td>\n",
       "      <td>0.1</td>\n",
       "      <td>1.0</td>\n",
       "      <td>0.1</td>\n",
       "      <td>0.1</td>\n",
       "      <td>0.1</td>\n",
       "      <td>9.317828</td>\n",
       "      <td>11.481080</td>\n",
       "      <td>11.488274</td>\n",
       "      <td>0.999374</td>\n",
       "    </tr>\n",
       "    <tr>\n",
       "      <th>2</th>\n",
       "      <td>0.1</td>\n",
       "      <td>0.1</td>\n",
       "      <td>10.0</td>\n",
       "      <td>0.1</td>\n",
       "      <td>0.1</td>\n",
       "      <td>0.1</td>\n",
       "      <td>6.845921</td>\n",
       "      <td>11.351051</td>\n",
       "      <td>11.488274</td>\n",
       "      <td>0.988055</td>\n",
       "    </tr>\n",
       "    <tr>\n",
       "      <th>3</th>\n",
       "      <td>0.1</td>\n",
       "      <td>1.0</td>\n",
       "      <td>0.1</td>\n",
       "      <td>0.1</td>\n",
       "      <td>0.1</td>\n",
       "      <td>0.1</td>\n",
       "      <td>8.447628</td>\n",
       "      <td>11.448078</td>\n",
       "      <td>11.488274</td>\n",
       "      <td>0.996501</td>\n",
       "    </tr>\n",
       "    <tr>\n",
       "      <th>4</th>\n",
       "      <td>0.1</td>\n",
       "      <td>1.0</td>\n",
       "      <td>1.0</td>\n",
       "      <td>0.1</td>\n",
       "      <td>0.1</td>\n",
       "      <td>0.1</td>\n",
       "      <td>7.488980</td>\n",
       "      <td>11.449215</td>\n",
       "      <td>11.488274</td>\n",
       "      <td>0.996600</td>\n",
       "    </tr>\n",
       "    <tr>\n",
       "      <th>...</th>\n",
       "      <td>...</td>\n",
       "      <td>...</td>\n",
       "      <td>...</td>\n",
       "      <td>...</td>\n",
       "      <td>...</td>\n",
       "      <td>...</td>\n",
       "      <td>...</td>\n",
       "      <td>...</td>\n",
       "      <td>...</td>\n",
       "      <td>...</td>\n",
       "    </tr>\n",
       "    <tr>\n",
       "      <th>724</th>\n",
       "      <td>10.0</td>\n",
       "      <td>1.0</td>\n",
       "      <td>1.0</td>\n",
       "      <td>10.0</td>\n",
       "      <td>10.0</td>\n",
       "      <td>10.0</td>\n",
       "      <td>2.803985</td>\n",
       "      <td>1.971439</td>\n",
       "      <td>1.981430</td>\n",
       "      <td>0.994957</td>\n",
       "    </tr>\n",
       "    <tr>\n",
       "      <th>725</th>\n",
       "      <td>10.0</td>\n",
       "      <td>1.0</td>\n",
       "      <td>10.0</td>\n",
       "      <td>10.0</td>\n",
       "      <td>10.0</td>\n",
       "      <td>10.0</td>\n",
       "      <td>2.351205</td>\n",
       "      <td>1.971956</td>\n",
       "      <td>1.981430</td>\n",
       "      <td>0.995218</td>\n",
       "    </tr>\n",
       "    <tr>\n",
       "      <th>726</th>\n",
       "      <td>10.0</td>\n",
       "      <td>10.0</td>\n",
       "      <td>0.1</td>\n",
       "      <td>10.0</td>\n",
       "      <td>10.0</td>\n",
       "      <td>10.0</td>\n",
       "      <td>2.249044</td>\n",
       "      <td>1.981268</td>\n",
       "      <td>1.981430</td>\n",
       "      <td>0.999918</td>\n",
       "    </tr>\n",
       "    <tr>\n",
       "      <th>727</th>\n",
       "      <td>10.0</td>\n",
       "      <td>10.0</td>\n",
       "      <td>1.0</td>\n",
       "      <td>10.0</td>\n",
       "      <td>10.0</td>\n",
       "      <td>10.0</td>\n",
       "      <td>2.210031</td>\n",
       "      <td>1.980599</td>\n",
       "      <td>1.981430</td>\n",
       "      <td>0.999581</td>\n",
       "    </tr>\n",
       "    <tr>\n",
       "      <th>728</th>\n",
       "      <td>10.0</td>\n",
       "      <td>10.0</td>\n",
       "      <td>10.0</td>\n",
       "      <td>10.0</td>\n",
       "      <td>10.0</td>\n",
       "      <td>10.0</td>\n",
       "      <td>1.981430</td>\n",
       "      <td>1.981430</td>\n",
       "      <td>1.981430</td>\n",
       "      <td>1.000000</td>\n",
       "    </tr>\n",
       "  </tbody>\n",
       "</table>\n",
       "<p>729 rows × 10 columns</p>\n",
       "</div>"
      ],
      "text/plain": [
       "       r1    r2    r3    t1    t2    t3        det   det_true    det_opt  \\\n",
       "0     0.1   0.1   0.1   0.1   0.1   0.1  11.488274  11.488274  11.488274   \n",
       "1     0.1   0.1   1.0   0.1   0.1   0.1   9.317828  11.481080  11.488274   \n",
       "2     0.1   0.1  10.0   0.1   0.1   0.1   6.845921  11.351051  11.488274   \n",
       "3     0.1   1.0   0.1   0.1   0.1   0.1   8.447628  11.448078  11.488274   \n",
       "4     0.1   1.0   1.0   0.1   0.1   0.1   7.488980  11.449215  11.488274   \n",
       "..    ...   ...   ...   ...   ...   ...        ...        ...        ...   \n",
       "724  10.0   1.0   1.0  10.0  10.0  10.0   2.803985   1.971439   1.981430   \n",
       "725  10.0   1.0  10.0  10.0  10.0  10.0   2.351205   1.971956   1.981430   \n",
       "726  10.0  10.0   0.1  10.0  10.0  10.0   2.249044   1.981268   1.981430   \n",
       "727  10.0  10.0   1.0  10.0  10.0  10.0   2.210031   1.980599   1.981430   \n",
       "728  10.0  10.0  10.0  10.0  10.0  10.0   1.981430   1.981430   1.981430   \n",
       "\n",
       "        ratio  \n",
       "0    1.000000  \n",
       "1    0.999374  \n",
       "2    0.988055  \n",
       "3    0.996501  \n",
       "4    0.996600  \n",
       "..        ...  \n",
       "724  0.994957  \n",
       "725  0.995218  \n",
       "726  0.999918  \n",
       "727  0.999581  \n",
       "728  1.000000  \n",
       "\n",
       "[729 rows x 10 columns]"
      ]
     },
     "execution_count": 10,
     "metadata": {},
     "output_type": "execute_result"
    }
   ],
   "source": [
    "sens = pd.DataFrame(np.loadtxt(f'../out/{file}'), columns=['r1', 'r2', 'r3', 't1', 't2', 't3', 'det', 'det_true'])\n",
    "sens = sens.groupby(['r1', 'r2', 'r3', 't1', 't2', 't3']).agg(np.median).reset_index()\n",
    "opt = sens[(sens.t1 == sens.r1) & (sens.t2 == sens.r2) & (sens.t3 == sens.r3)]\\\n",
    "            .drop(columns=['r1', 'r2', 'r3', 'det_true'])\\\n",
    "            .rename(columns={'det': 'det_opt'})\n",
    "\n",
    "sens = sens.merge(opt, on=['t1', 't2', 't3'])\\\n",
    "           .assign(ratio=lambda x: x.det_true / x.det_opt)\n",
    "\n",
    "sens"
   ]
  },
  {
   "cell_type": "code",
   "execution_count": 11,
   "metadata": {},
   "outputs": [
    {
     "data": {
      "application/vnd.plotly.v1+json": {
       "config": {
        "plotlyServerURL": "https://plot.ly"
       },
       "data": [
        {
         "coloraxis": "coloraxis",
         "text": [
          [
           99.64700283870694,
           99.62465915882595,
           97.87433223860157
          ],
          [
           99.65010827508496,
           99.65010827508496,
           98.68556521465706
          ],
          [
           100,
           99.78668425044216,
           98.5745942343711
          ]
         ],
         "textfont": {
          "size": 8
         },
         "texttemplate": "%{text:.2f}%",
         "type": "heatmap",
         "x": [
          "0.1",
          "1",
          "10"
         ],
         "xaxis": "x",
         "y": [
          "10",
          "1",
          "0.1"
         ],
         "yaxis": "y",
         "z": [
          [
           99.64700283870694,
           99.62465915882595,
           97.87433223860157
          ],
          [
           99.65010827508496,
           99.65010827508496,
           98.68556521465706
          ],
          [
           100,
           99.78668425044216,
           98.5745942343711
          ]
         ]
        },
        {
         "coloraxis": "coloraxis",
         "text": [
          [
           99.6484286372981,
           99.65010827508503,
           97.81998136327898
          ],
          [
           99.66000960743217,
           99.65420839523689,
           98.52677370572447
          ],
          [
           99.93737695081661,
           99.79371488851886,
           98.57375764430383
          ]
         ],
         "textfont": {
          "size": 8
         },
         "texttemplate": "%{text:.2f}%",
         "type": "heatmap",
         "x": [
          "0.1",
          "1",
          "10"
         ],
         "xaxis": "x4",
         "y": [
          "10",
          "1",
          "0.1"
         ],
         "yaxis": "y4",
         "z": [
          [
           99.6484286372981,
           99.65010827508503,
           97.81998136327898
          ],
          [
           99.66000960743217,
           99.65420839523689,
           98.52677370572447
          ],
          [
           99.93737695081661,
           99.79371488851886,
           98.57375764430383
          ]
         ]
        },
        {
         "coloraxis": "coloraxis",
         "text": [
          [
           99.2523305787427,
           99.63412311428851,
           97.87159474632679
          ],
          [
           99.28616616089491,
           99.65010827508497,
           98.75552432176548
          ],
          [
           98.80553200309865,
           99.78561326829538,
           98.62862718615602
          ]
         ],
         "textfont": {
          "size": 8
         },
         "texttemplate": "%{text:.2f}%",
         "type": "heatmap",
         "x": [
          "0.1",
          "1",
          "10"
         ],
         "xaxis": "x7",
         "y": [
          "10",
          "1",
          "0.1"
         ],
         "yaxis": "y7",
         "z": [
          [
           99.2523305787427,
           99.63412311428851,
           97.87159474632679
          ],
          [
           99.28616616089491,
           99.65010827508497,
           98.75552432176548
          ],
          [
           98.80553200309865,
           99.78561326829538,
           98.62862718615602
          ]
         ]
        },
        {
         "coloraxis": "coloraxis",
         "text": [
          [
           99.98578889813004,
           99.98578889813002,
           99.1170664868973
          ],
          [
           99.98578889813004,
           99.98578889813001,
           99.03007526649996
          ],
          [
           99.07610307866234,
           99.48137310307446,
           98.61036466220907
          ]
         ],
         "textfont": {
          "size": 8
         },
         "texttemplate": "%{text:.2f}%",
         "type": "heatmap",
         "x": [
          "0.1",
          "1",
          "10"
         ],
         "xaxis": "x2",
         "y": [
          "10",
          "1",
          "0.1"
         ],
         "yaxis": "y2",
         "z": [
          [
           99.98578889813004,
           99.98578889813002,
           99.1170664868973
          ],
          [
           99.98578889813004,
           99.98578889813001,
           99.03007526649996
          ],
          [
           99.07610307866234,
           99.48137310307446,
           98.61036466220907
          ]
         ]
        },
        {
         "coloraxis": "coloraxis",
         "text": [
          [
           99.98741856240959,
           99.99069389974383,
           99.08560629071253
          ],
          [
           100.00558267539981,
           100,
           98.95089856442411
          ],
          [
           98.84559229381198,
           99.4891343563093,
           98.92535122349273
          ]
         ],
         "textfont": {
          "size": 8
         },
         "texttemplate": "%{text:.2f}%",
         "type": "heatmap",
         "x": [
          "0.1",
          "1",
          "10"
         ],
         "xaxis": "x5",
         "y": [
          "10",
          "1",
          "0.1"
         ],
         "yaxis": "y5",
         "z": [
          [
           99.98741856240959,
           99.99069389974383,
           99.08560629071253
          ],
          [
           100.00558267539981,
           100,
           98.95089856442411
          ],
          [
           98.84559229381198,
           99.4891343563093,
           98.92535122349273
          ]
         ]
        },
        {
         "coloraxis": "coloraxis",
         "text": [
          [
           99.08460434619998,
           99.99440723235365,
           99.12499043483007
          ],
          [
           99.06918867352692,
           99.98948306428142,
           99.11080230852124
          ],
          [
           98.16959554025071,
           99.47957133315754,
           98.76176328019965
          ]
         ],
         "textfont": {
          "size": 8
         },
         "texttemplate": "%{text:.2f}%",
         "type": "heatmap",
         "x": [
          "0.1",
          "1",
          "10"
         ],
         "xaxis": "x8",
         "y": [
          "10",
          "1",
          "0.1"
         ],
         "yaxis": "y8",
         "z": [
          [
           99.08460434619998,
           99.99440723235365,
           99.12499043483007
          ],
          [
           99.06918867352692,
           99.98948306428142,
           99.11080230852124
          ],
          [
           98.16959554025071,
           99.47957133315754,
           98.76176328019965
          ]
         ]
        },
        {
         "coloraxis": "coloraxis",
         "text": [
          [
           99.10303331838163,
           99.11075667804873,
           99.99183022508488
          ],
          [
           99.10303331838165,
           99.10303331838163,
           99.36638356786122
          ],
          [
           93.84487286544142,
           98.11593886508679,
           99.092303299123
          ]
         ],
         "textfont": {
          "size": 8
         },
         "texttemplate": "%{text:.2f}%",
         "type": "heatmap",
         "x": [
          "0.1",
          "1",
          "10"
         ],
         "xaxis": "x3",
         "y": [
          "10",
          "1",
          "0.1"
         ],
         "yaxis": "y3",
         "z": [
          [
           99.10303331838163,
           99.11075667804873,
           99.99183022508488
          ],
          [
           99.10303331838165,
           99.10303331838163,
           99.36638356786122
          ],
          [
           93.84487286544142,
           98.11593886508679,
           99.092303299123
          ]
         ]
        },
        {
         "coloraxis": "coloraxis",
         "text": [
          [
           99.10127309512872,
           99.10303331838163,
           99.95807836525171
          ],
          [
           99.11755245919537,
           99.11368318686154,
           99.49574254306567
          ],
          [
           93.61752049726363,
           98.11593886508679,
           99.17018217488102
          ]
         ],
         "textfont": {
          "size": 8
         },
         "texttemplate": "%{text:.2f}%",
         "type": "heatmap",
         "x": [
          "0.1",
          "1",
          "10"
         ],
         "xaxis": "x6",
         "y": [
          "10",
          "1",
          "0.1"
         ],
         "yaxis": "y6",
         "z": [
          [
           99.10127309512872,
           99.10303331838163,
           99.95807836525171
          ],
          [
           99.11755245919537,
           99.11368318686154,
           99.49574254306567
          ],
          [
           93.61752049726363,
           98.11593886508679,
           99.17018217488102
          ]
         ]
        },
        {
         "coloraxis": "coloraxis",
         "text": [
          [
           97.13610053399445,
           99.11813619071602,
           100
          ],
          [
           97.1126524494793,
           99.10584747347598,
           99.52184730861515
          ],
          [
           92.93507321197511,
           98.1331901393615,
           99.20909958943496
          ]
         ],
         "textfont": {
          "size": 8
         },
         "texttemplate": "%{text:.2f}%",
         "type": "heatmap",
         "x": [
          "0.1",
          "1",
          "10"
         ],
         "xaxis": "x9",
         "y": [
          "10",
          "1",
          "0.1"
         ],
         "yaxis": "y9",
         "z": [
          [
           97.13610053399445,
           99.11813619071602,
           100
          ],
          [
           97.1126524494793,
           99.10584747347598,
           99.52184730861515
          ],
          [
           92.93507321197511,
           98.1331901393615,
           99.20909958943496
          ]
         ]
        }
       ],
       "layout": {
        "annotations": [
         {
          "font": {
           "size": 16
          },
          "showarrow": false,
          "text": "$\\hat{\\eta}_4 = 0.1 \\quad \\eta = 0.1$",
          "x": 0.15,
          "xanchor": "center",
          "xref": "paper",
          "y": 1,
          "yanchor": "bottom",
          "yref": "paper"
         },
         {
          "font": {
           "size": 16
          },
          "showarrow": false,
          "text": "$\\hat{\\eta}_4 = 0.1 \\quad \\eta = 1$",
          "x": 0.49999999999999994,
          "xanchor": "center",
          "xref": "paper",
          "y": 1,
          "yanchor": "bottom",
          "yref": "paper"
         },
         {
          "font": {
           "size": 16
          },
          "showarrow": false,
          "text": "$\\hat{\\eta}_4 = 0.1 \\quad \\eta = 10$",
          "x": 0.85,
          "xanchor": "center",
          "xref": "paper",
          "y": 1,
          "yanchor": "bottom",
          "yref": "paper"
         },
         {
          "font": {
           "size": 16
          },
          "showarrow": false,
          "text": "$\\hat{\\eta}_4 = 1 \\quad \\eta = 0.1$",
          "x": 0.15,
          "xanchor": "center",
          "xref": "paper",
          "y": 0.6333333333333333,
          "yanchor": "bottom",
          "yref": "paper"
         },
         {
          "font": {
           "size": 16
          },
          "showarrow": false,
          "text": "$\\hat{\\eta}_4 = 1 \\quad \\eta = 1$",
          "x": 0.49999999999999994,
          "xanchor": "center",
          "xref": "paper",
          "y": 0.6333333333333333,
          "yanchor": "bottom",
          "yref": "paper"
         },
         {
          "font": {
           "size": 16
          },
          "showarrow": false,
          "text": "$\\hat{\\eta}_4 = 1 \\quad \\eta = 10$",
          "x": 0.85,
          "xanchor": "center",
          "xref": "paper",
          "y": 0.6333333333333333,
          "yanchor": "bottom",
          "yref": "paper"
         },
         {
          "font": {
           "size": 16
          },
          "showarrow": false,
          "text": "$\\hat{\\eta}_4 = 10 \\quad \\eta = 0.1$",
          "x": 0.15,
          "xanchor": "center",
          "xref": "paper",
          "y": 0.26666666666666666,
          "yanchor": "bottom",
          "yref": "paper"
         },
         {
          "font": {
           "size": 16
          },
          "showarrow": false,
          "text": "$\\hat{\\eta}_4 = 10 \\quad \\eta = 1$",
          "x": 0.49999999999999994,
          "xanchor": "center",
          "xref": "paper",
          "y": 0.26666666666666666,
          "yanchor": "bottom",
          "yref": "paper"
         },
         {
          "font": {
           "size": 16
          },
          "showarrow": false,
          "text": "$\\hat{\\eta}_4 = 10 \\quad \\eta = 10$",
          "x": 0.85,
          "xanchor": "center",
          "xref": "paper",
          "y": 0.26666666666666666,
          "yanchor": "bottom",
          "yref": "paper"
         }
        ],
        "coloraxis": {
         "colorscale": [
          [
           0,
           "#440154"
          ],
          [
           0.1111111111111111,
           "#482878"
          ],
          [
           0.2222222222222222,
           "#3e4989"
          ],
          [
           0.3333333333333333,
           "#31688e"
          ],
          [
           0.4444444444444444,
           "#26828e"
          ],
          [
           0.5555555555555556,
           "#1f9e89"
          ],
          [
           0.6666666666666666,
           "#35b779"
          ],
          [
           0.7777777777777778,
           "#6ece58"
          ],
          [
           0.8888888888888888,
           "#b5de2b"
          ],
          [
           1,
           "#fde725"
          ]
         ]
        },
        "height": 750,
        "template": {
         "data": {
          "bar": [
           {
            "error_x": {
             "color": "#2a3f5f"
            },
            "error_y": {
             "color": "#2a3f5f"
            },
            "marker": {
             "line": {
              "color": "#E5ECF6",
              "width": 0.5
             },
             "pattern": {
              "fillmode": "overlay",
              "size": 10,
              "solidity": 0.2
             }
            },
            "type": "bar"
           }
          ],
          "barpolar": [
           {
            "marker": {
             "line": {
              "color": "#E5ECF6",
              "width": 0.5
             },
             "pattern": {
              "fillmode": "overlay",
              "size": 10,
              "solidity": 0.2
             }
            },
            "type": "barpolar"
           }
          ],
          "carpet": [
           {
            "aaxis": {
             "endlinecolor": "#2a3f5f",
             "gridcolor": "white",
             "linecolor": "white",
             "minorgridcolor": "white",
             "startlinecolor": "#2a3f5f"
            },
            "baxis": {
             "endlinecolor": "#2a3f5f",
             "gridcolor": "white",
             "linecolor": "white",
             "minorgridcolor": "white",
             "startlinecolor": "#2a3f5f"
            },
            "type": "carpet"
           }
          ],
          "choropleth": [
           {
            "colorbar": {
             "outlinewidth": 0,
             "ticks": ""
            },
            "type": "choropleth"
           }
          ],
          "contour": [
           {
            "colorbar": {
             "outlinewidth": 0,
             "ticks": ""
            },
            "colorscale": [
             [
              0,
              "#0d0887"
             ],
             [
              0.1111111111111111,
              "#46039f"
             ],
             [
              0.2222222222222222,
              "#7201a8"
             ],
             [
              0.3333333333333333,
              "#9c179e"
             ],
             [
              0.4444444444444444,
              "#bd3786"
             ],
             [
              0.5555555555555556,
              "#d8576b"
             ],
             [
              0.6666666666666666,
              "#ed7953"
             ],
             [
              0.7777777777777778,
              "#fb9f3a"
             ],
             [
              0.8888888888888888,
              "#fdca26"
             ],
             [
              1,
              "#f0f921"
             ]
            ],
            "type": "contour"
           }
          ],
          "contourcarpet": [
           {
            "colorbar": {
             "outlinewidth": 0,
             "ticks": ""
            },
            "type": "contourcarpet"
           }
          ],
          "heatmap": [
           {
            "colorbar": {
             "outlinewidth": 0,
             "ticks": ""
            },
            "colorscale": [
             [
              0,
              "#0d0887"
             ],
             [
              0.1111111111111111,
              "#46039f"
             ],
             [
              0.2222222222222222,
              "#7201a8"
             ],
             [
              0.3333333333333333,
              "#9c179e"
             ],
             [
              0.4444444444444444,
              "#bd3786"
             ],
             [
              0.5555555555555556,
              "#d8576b"
             ],
             [
              0.6666666666666666,
              "#ed7953"
             ],
             [
              0.7777777777777778,
              "#fb9f3a"
             ],
             [
              0.8888888888888888,
              "#fdca26"
             ],
             [
              1,
              "#f0f921"
             ]
            ],
            "type": "heatmap"
           }
          ],
          "heatmapgl": [
           {
            "colorbar": {
             "outlinewidth": 0,
             "ticks": ""
            },
            "colorscale": [
             [
              0,
              "#0d0887"
             ],
             [
              0.1111111111111111,
              "#46039f"
             ],
             [
              0.2222222222222222,
              "#7201a8"
             ],
             [
              0.3333333333333333,
              "#9c179e"
             ],
             [
              0.4444444444444444,
              "#bd3786"
             ],
             [
              0.5555555555555556,
              "#d8576b"
             ],
             [
              0.6666666666666666,
              "#ed7953"
             ],
             [
              0.7777777777777778,
              "#fb9f3a"
             ],
             [
              0.8888888888888888,
              "#fdca26"
             ],
             [
              1,
              "#f0f921"
             ]
            ],
            "type": "heatmapgl"
           }
          ],
          "histogram": [
           {
            "marker": {
             "pattern": {
              "fillmode": "overlay",
              "size": 10,
              "solidity": 0.2
             }
            },
            "type": "histogram"
           }
          ],
          "histogram2d": [
           {
            "colorbar": {
             "outlinewidth": 0,
             "ticks": ""
            },
            "colorscale": [
             [
              0,
              "#0d0887"
             ],
             [
              0.1111111111111111,
              "#46039f"
             ],
             [
              0.2222222222222222,
              "#7201a8"
             ],
             [
              0.3333333333333333,
              "#9c179e"
             ],
             [
              0.4444444444444444,
              "#bd3786"
             ],
             [
              0.5555555555555556,
              "#d8576b"
             ],
             [
              0.6666666666666666,
              "#ed7953"
             ],
             [
              0.7777777777777778,
              "#fb9f3a"
             ],
             [
              0.8888888888888888,
              "#fdca26"
             ],
             [
              1,
              "#f0f921"
             ]
            ],
            "type": "histogram2d"
           }
          ],
          "histogram2dcontour": [
           {
            "colorbar": {
             "outlinewidth": 0,
             "ticks": ""
            },
            "colorscale": [
             [
              0,
              "#0d0887"
             ],
             [
              0.1111111111111111,
              "#46039f"
             ],
             [
              0.2222222222222222,
              "#7201a8"
             ],
             [
              0.3333333333333333,
              "#9c179e"
             ],
             [
              0.4444444444444444,
              "#bd3786"
             ],
             [
              0.5555555555555556,
              "#d8576b"
             ],
             [
              0.6666666666666666,
              "#ed7953"
             ],
             [
              0.7777777777777778,
              "#fb9f3a"
             ],
             [
              0.8888888888888888,
              "#fdca26"
             ],
             [
              1,
              "#f0f921"
             ]
            ],
            "type": "histogram2dcontour"
           }
          ],
          "mesh3d": [
           {
            "colorbar": {
             "outlinewidth": 0,
             "ticks": ""
            },
            "type": "mesh3d"
           }
          ],
          "parcoords": [
           {
            "line": {
             "colorbar": {
              "outlinewidth": 0,
              "ticks": ""
             }
            },
            "type": "parcoords"
           }
          ],
          "pie": [
           {
            "automargin": true,
            "type": "pie"
           }
          ],
          "scatter": [
           {
            "fillpattern": {
             "fillmode": "overlay",
             "size": 10,
             "solidity": 0.2
            },
            "type": "scatter"
           }
          ],
          "scatter3d": [
           {
            "line": {
             "colorbar": {
              "outlinewidth": 0,
              "ticks": ""
             }
            },
            "marker": {
             "colorbar": {
              "outlinewidth": 0,
              "ticks": ""
             }
            },
            "type": "scatter3d"
           }
          ],
          "scattercarpet": [
           {
            "marker": {
             "colorbar": {
              "outlinewidth": 0,
              "ticks": ""
             }
            },
            "type": "scattercarpet"
           }
          ],
          "scattergeo": [
           {
            "marker": {
             "colorbar": {
              "outlinewidth": 0,
              "ticks": ""
             }
            },
            "type": "scattergeo"
           }
          ],
          "scattergl": [
           {
            "marker": {
             "colorbar": {
              "outlinewidth": 0,
              "ticks": ""
             }
            },
            "type": "scattergl"
           }
          ],
          "scattermapbox": [
           {
            "marker": {
             "colorbar": {
              "outlinewidth": 0,
              "ticks": ""
             }
            },
            "type": "scattermapbox"
           }
          ],
          "scatterpolar": [
           {
            "marker": {
             "colorbar": {
              "outlinewidth": 0,
              "ticks": ""
             }
            },
            "type": "scatterpolar"
           }
          ],
          "scatterpolargl": [
           {
            "marker": {
             "colorbar": {
              "outlinewidth": 0,
              "ticks": ""
             }
            },
            "type": "scatterpolargl"
           }
          ],
          "scatterternary": [
           {
            "marker": {
             "colorbar": {
              "outlinewidth": 0,
              "ticks": ""
             }
            },
            "type": "scatterternary"
           }
          ],
          "surface": [
           {
            "colorbar": {
             "outlinewidth": 0,
             "ticks": ""
            },
            "colorscale": [
             [
              0,
              "#0d0887"
             ],
             [
              0.1111111111111111,
              "#46039f"
             ],
             [
              0.2222222222222222,
              "#7201a8"
             ],
             [
              0.3333333333333333,
              "#9c179e"
             ],
             [
              0.4444444444444444,
              "#bd3786"
             ],
             [
              0.5555555555555556,
              "#d8576b"
             ],
             [
              0.6666666666666666,
              "#ed7953"
             ],
             [
              0.7777777777777778,
              "#fb9f3a"
             ],
             [
              0.8888888888888888,
              "#fdca26"
             ],
             [
              1,
              "#f0f921"
             ]
            ],
            "type": "surface"
           }
          ],
          "table": [
           {
            "cells": {
             "fill": {
              "color": "#EBF0F8"
             },
             "line": {
              "color": "white"
             }
            },
            "header": {
             "fill": {
              "color": "#C8D4E3"
             },
             "line": {
              "color": "white"
             }
            },
            "type": "table"
           }
          ]
         },
         "layout": {
          "annotationdefaults": {
           "arrowcolor": "#2a3f5f",
           "arrowhead": 0,
           "arrowwidth": 1
          },
          "autotypenumbers": "strict",
          "coloraxis": {
           "colorbar": {
            "outlinewidth": 0,
            "ticks": ""
           }
          },
          "colorscale": {
           "diverging": [
            [
             0,
             "#8e0152"
            ],
            [
             0.1,
             "#c51b7d"
            ],
            [
             0.2,
             "#de77ae"
            ],
            [
             0.3,
             "#f1b6da"
            ],
            [
             0.4,
             "#fde0ef"
            ],
            [
             0.5,
             "#f7f7f7"
            ],
            [
             0.6,
             "#e6f5d0"
            ],
            [
             0.7,
             "#b8e186"
            ],
            [
             0.8,
             "#7fbc41"
            ],
            [
             0.9,
             "#4d9221"
            ],
            [
             1,
             "#276419"
            ]
           ],
           "sequential": [
            [
             0,
             "#0d0887"
            ],
            [
             0.1111111111111111,
             "#46039f"
            ],
            [
             0.2222222222222222,
             "#7201a8"
            ],
            [
             0.3333333333333333,
             "#9c179e"
            ],
            [
             0.4444444444444444,
             "#bd3786"
            ],
            [
             0.5555555555555556,
             "#d8576b"
            ],
            [
             0.6666666666666666,
             "#ed7953"
            ],
            [
             0.7777777777777778,
             "#fb9f3a"
            ],
            [
             0.8888888888888888,
             "#fdca26"
            ],
            [
             1,
             "#f0f921"
            ]
           ],
           "sequentialminus": [
            [
             0,
             "#0d0887"
            ],
            [
             0.1111111111111111,
             "#46039f"
            ],
            [
             0.2222222222222222,
             "#7201a8"
            ],
            [
             0.3333333333333333,
             "#9c179e"
            ],
            [
             0.4444444444444444,
             "#bd3786"
            ],
            [
             0.5555555555555556,
             "#d8576b"
            ],
            [
             0.6666666666666666,
             "#ed7953"
            ],
            [
             0.7777777777777778,
             "#fb9f3a"
            ],
            [
             0.8888888888888888,
             "#fdca26"
            ],
            [
             1,
             "#f0f921"
            ]
           ]
          },
          "colorway": [
           "#636efa",
           "#EF553B",
           "#00cc96",
           "#ab63fa",
           "#FFA15A",
           "#19d3f3",
           "#FF6692",
           "#B6E880",
           "#FF97FF",
           "#FECB52"
          ],
          "font": {
           "color": "#2a3f5f"
          },
          "geo": {
           "bgcolor": "white",
           "lakecolor": "white",
           "landcolor": "#E5ECF6",
           "showlakes": true,
           "showland": true,
           "subunitcolor": "white"
          },
          "hoverlabel": {
           "align": "left"
          },
          "hovermode": "closest",
          "mapbox": {
           "style": "light"
          },
          "paper_bgcolor": "white",
          "plot_bgcolor": "#E5ECF6",
          "polar": {
           "angularaxis": {
            "gridcolor": "white",
            "linecolor": "white",
            "ticks": ""
           },
           "bgcolor": "#E5ECF6",
           "radialaxis": {
            "gridcolor": "white",
            "linecolor": "white",
            "ticks": ""
           }
          },
          "scene": {
           "xaxis": {
            "backgroundcolor": "#E5ECF6",
            "gridcolor": "white",
            "gridwidth": 2,
            "linecolor": "white",
            "showbackground": true,
            "ticks": "",
            "zerolinecolor": "white"
           },
           "yaxis": {
            "backgroundcolor": "#E5ECF6",
            "gridcolor": "white",
            "gridwidth": 2,
            "linecolor": "white",
            "showbackground": true,
            "ticks": "",
            "zerolinecolor": "white"
           },
           "zaxis": {
            "backgroundcolor": "#E5ECF6",
            "gridcolor": "white",
            "gridwidth": 2,
            "linecolor": "white",
            "showbackground": true,
            "ticks": "",
            "zerolinecolor": "white"
           }
          },
          "shapedefaults": {
           "line": {
            "color": "#2a3f5f"
           }
          },
          "ternary": {
           "aaxis": {
            "gridcolor": "white",
            "linecolor": "white",
            "ticks": ""
           },
           "baxis": {
            "gridcolor": "white",
            "linecolor": "white",
            "ticks": ""
           },
           "bgcolor": "#E5ECF6",
           "caxis": {
            "gridcolor": "white",
            "linecolor": "white",
            "ticks": ""
           }
          },
          "title": {
           "x": 0.05
          },
          "xaxis": {
           "automargin": true,
           "gridcolor": "white",
           "linecolor": "white",
           "ticks": "",
           "title": {
            "standoff": 15
           },
           "zerolinecolor": "white",
           "zerolinewidth": 2
          },
          "yaxis": {
           "automargin": true,
           "gridcolor": "white",
           "linecolor": "white",
           "ticks": "",
           "title": {
            "standoff": 15
           },
           "zerolinecolor": "white",
           "zerolinewidth": 2
          }
         }
        },
        "xaxis": {
         "anchor": "y",
         "domain": [
          0,
          0.3
         ]
        },
        "xaxis2": {
         "anchor": "y2",
         "domain": [
          0.35,
          0.6499999999999999
         ]
        },
        "xaxis3": {
         "anchor": "y3",
         "domain": [
          0.7,
          1
         ]
        },
        "xaxis4": {
         "anchor": "y4",
         "domain": [
          0,
          0.3
         ]
        },
        "xaxis5": {
         "anchor": "y5",
         "domain": [
          0.35,
          0.6499999999999999
         ]
        },
        "xaxis6": {
         "anchor": "y6",
         "domain": [
          0.7,
          1
         ]
        },
        "xaxis7": {
         "anchor": "y7",
         "domain": [
          0,
          0.3
         ],
         "title": {
          "text": "$\\hat{\\eta}_2$"
         }
        },
        "xaxis8": {
         "anchor": "y8",
         "domain": [
          0.35,
          0.6499999999999999
         ],
         "title": {
          "text": "$\\hat{\\eta}_2$"
         }
        },
        "xaxis9": {
         "anchor": "y9",
         "domain": [
          0.7,
          1
         ],
         "title": {
          "text": "$\\hat{\\eta}_2$"
         }
        },
        "yaxis": {
         "anchor": "x",
         "domain": [
          0.7333333333333334,
          1
         ],
         "title": {
          "text": "$\\hat{\\eta}_3$"
         }
        },
        "yaxis2": {
         "anchor": "x2",
         "domain": [
          0.7333333333333334,
          1
         ]
        },
        "yaxis3": {
         "anchor": "x3",
         "domain": [
          0.7333333333333334,
          1
         ]
        },
        "yaxis4": {
         "anchor": "x4",
         "domain": [
          0.3666666666666667,
          0.6333333333333333
         ],
         "title": {
          "text": "$\\hat{\\eta}_3$"
         }
        },
        "yaxis5": {
         "anchor": "x5",
         "domain": [
          0.3666666666666667,
          0.6333333333333333
         ]
        },
        "yaxis6": {
         "anchor": "x6",
         "domain": [
          0.3666666666666667,
          0.6333333333333333
         ]
        },
        "yaxis7": {
         "anchor": "x7",
         "domain": [
          0,
          0.26666666666666666
         ],
         "title": {
          "text": "$\\hat{\\eta}_3$"
         }
        },
        "yaxis8": {
         "anchor": "x8",
         "domain": [
          0,
          0.26666666666666666
         ]
        },
        "yaxis9": {
         "anchor": "x9",
         "domain": [
          0,
          0.26666666666666666
         ]
        }
       }
      }
     },
     "metadata": {},
     "output_type": "display_data"
    }
   ],
   "source": [
    "import plotly.graph_objects as go\n",
    "from plotly.colors import DEFAULT_PLOTLY_COLORS\n",
    "from plotly.subplots import make_subplots\n",
    "import re\n",
    "\n",
    "fig = make_subplots(3, 3, subplot_titles=[\n",
    "    f'$\\hat{{\\eta}}_4 = {r3} \\quad \\eta = {eta}$' for r3 in [0.1, 1, 10] for eta in [0.1, 1, 10]\n",
    "], horizontal_spacing=0.05, vertical_spacing=0.1)\n",
    "for j, x in enumerate([0.1, 1, 10]):\n",
    "    sens1 = sens[(sens.t1 == sens.t2) & (sens.t2 == sens.t3) & (sens.t1 == x)]\n",
    "    for i, (r3, d1) in enumerate(sens1.groupby('r3')):\n",
    "        z = d1.sort_values(['r2', 'r1']).ratio.to_numpy().reshape(3, 3)\n",
    "        z = np.flipud(z)\n",
    "        fig.add_trace(go.Heatmap(\n",
    "            z=z*100,\n",
    "            x=['0.1', '1', '10'],\n",
    "            y=['10', '1', '0.1'],\n",
    "            coloraxis='coloraxis',\n",
    "            text=z*100,\n",
    "            texttemplate='%{text:.2f}%',\n",
    "            textfont={'size': 8}\n",
    "        ), row=i+1, col=j+1)\n",
    "fig.update_layout(\n",
    "    coloraxis={'colorscale': 'viridis'},\n",
    "    height=750,\n",
    ")\n",
    "fig.update_xaxes(title='$\\hat{\\eta}_2$', row=3)\n",
    "fig.update_yaxes(title='$\\hat{\\eta}_3$', col=1)\n",
    "fig.show()\n",
    "fig.write_image('../figures/sensitivity.png')"
   ]
  },
  {
   "cell_type": "code",
   "execution_count": 12,
   "metadata": {},
   "outputs": [
    {
     "data": {
      "application/vnd.plotly.v1+json": {
       "config": {
        "plotlyServerURL": "https://plot.ly"
       },
       "data": [
        {
         "coloraxis": "coloraxis",
         "text": [
          [
           99.0716467790397,
           98.52961002415134,
           93.89084996935642
          ],
          [
           99.51904540251515,
           99.12897035272003,
           94.35726094689504
          ],
          [
           100,
           99.34542089848351,
           94.35154266386448
          ]
         ],
         "textfont": {
          "size": 8
         },
         "texttemplate": "%{text:.2f}%",
         "type": "heatmap",
         "x": [
          "0.1",
          "1",
          "10"
         ],
         "xaxis": "x",
         "y": [
          "10",
          "1",
          "0.1"
         ],
         "yaxis": "y",
         "z": [
          [
           99.0716467790397,
           98.52961002415134,
           93.89084996935642
          ],
          [
           99.51904540251515,
           99.12897035272003,
           94.35726094689504
          ],
          [
           100,
           99.34542089848351,
           94.35154266386448
          ]
         ]
        },
        {
         "coloraxis": "coloraxis",
         "text": [
          [
           99.05290305058543,
           98.53007356136851,
           93.90524432872603
          ],
          [
           99.44712403918496,
           99.07610307866234,
           94.30228142669776
          ],
          [
           99.90751650033415,
           99.32745947785419,
           94.3377302000885
          ]
         ],
         "textfont": {
          "size": 8
         },
         "texttemplate": "%{text:.2f}%",
         "type": "heatmap",
         "x": [
          "0.1",
          "1",
          "10"
         ],
         "xaxis": "x4",
         "y": [
          "10",
          "1",
          "0.1"
         ],
         "yaxis": "y4",
         "z": [
          [
           99.05290305058543,
           98.53007356136851,
           93.90524432872603
          ],
          [
           99.44712403918496,
           99.07610307866234,
           94.30228142669776
          ],
          [
           99.90751650033415,
           99.32745947785419,
           94.3377302000885
          ]
         ]
        },
        {
         "coloraxis": "coloraxis",
         "text": [
          [
           99.00600223244763,
           98.50394829563194,
           93.84487286544142
          ],
          [
           99.39912267372586,
           99.04038720286286,
           94.310119510606
          ],
          [
           99.73215399038857,
           99.2701494115794,
           94.31654698085285
          ]
         ],
         "textfont": {
          "size": 8
         },
         "texttemplate": "%{text:.2f}%",
         "type": "heatmap",
         "x": [
          "0.1",
          "1",
          "10"
         ],
         "xaxis": "x7",
         "y": [
          "10",
          "1",
          "0.1"
         ],
         "yaxis": "y7",
         "z": [
          [
           99.00600223244763,
           98.50394829563194,
           93.84487286544142
          ],
          [
           99.39912267372586,
           99.04038720286286,
           94.310119510606
          ],
          [
           99.73215399038857,
           99.2701494115794,
           94.31654698085285
          ]
         ]
        },
        {
         "coloraxis": "coloraxis",
         "text": [
          [
           99.99230800131478,
           100.00440941899737,
           99.13958550163943
          ],
          [
           100.007472327534,
           100.01382830914739,
           99.02600722960403
          ],
          [
           99.65420839523689,
           99.63965953835387,
           98.8703220424306
          ]
         ],
         "textfont": {
          "size": 8
         },
         "texttemplate": "%{text:.2f}%",
         "type": "heatmap",
         "x": [
          "0.1",
          "1",
          "10"
         ],
         "xaxis": "x2",
         "y": [
          "10",
          "1",
          "0.1"
         ],
         "yaxis": "y2",
         "z": [
          [
           99.99230800131478,
           100.00440941899737,
           99.13958550163943
          ],
          [
           100.007472327534,
           100.01382830914739,
           99.02600722960403
          ],
          [
           99.65420839523689,
           99.63965953835387,
           98.8703220424306
          ]
         ]
        },
        {
         "coloraxis": "coloraxis",
         "text": [
          [
           99.97447081274402,
           100.00668229501728,
           99.15836961761445
          ],
          [
           99.9857620884442,
           100,
           98.9888908691064
          ],
          [
           99.69670163604991,
           99.72739872616924,
           98.88353312196102
          ]
         ],
         "textfont": {
          "size": 8
         },
         "texttemplate": "%{text:.2f}%",
         "type": "heatmap",
         "x": [
          "0.1",
          "1",
          "10"
         ],
         "xaxis": "x5",
         "y": [
          "10",
          "1",
          "0.1"
         ],
         "yaxis": "y5",
         "z": [
          [
           99.97447081274402,
           100.00668229501728,
           99.15836961761445
          ],
          [
           99.9857620884442,
           100,
           98.9888908691064
          ],
          [
           99.69670163604991,
           99.72739872616924,
           98.88353312196102
          ]
         ]
        },
        {
         "coloraxis": "coloraxis",
         "text": [
          [
           99.93176667254814,
           99.98809673386204,
           99.11368318686154
          ],
          [
           99.98188211033575,
           100.01302867213653,
           99.06498306176213
          ],
          [
           99.57663903319894,
           99.74592972216605,
           98.94416677596925
          ]
         ],
         "textfont": {
          "size": 8
         },
         "texttemplate": "%{text:.2f}%",
         "type": "heatmap",
         "x": [
          "0.1",
          "1",
          "10"
         ],
         "xaxis": "x8",
         "y": [
          "10",
          "1",
          "0.1"
         ],
         "yaxis": "y8",
         "z": [
          [
           99.93176667254814,
           99.98809673386204,
           99.11368318686154
          ],
          [
           99.98188211033575,
           100.01302867213653,
           99.06498306176213
          ],
          [
           99.57663903319894,
           99.74592972216605,
           98.94416677596925
          ]
         ]
        },
        {
         "coloraxis": "coloraxis",
         "text": [
          [
           97.73770890977134,
           99.12123602287735,
           100.01037706626785
          ],
          [
           97.89682930937525,
           99.15804970542473,
           99.7042860050059
          ],
          [
           97.87159474632679,
           98.83990313585379,
           99.49720855130576
          ]
         ],
         "textfont": {
          "size": 8
         },
         "texttemplate": "%{text:.2f}%",
         "type": "heatmap",
         "x": [
          "0.1",
          "1",
          "10"
         ],
         "xaxis": "x3",
         "y": [
          "10",
          "1",
          "0.1"
         ],
         "yaxis": "y3",
         "z": [
          [
           97.73770890977134,
           99.12123602287735,
           100.01037706626785
          ],
          [
           97.89682930937525,
           99.15804970542473,
           99.7042860050059
          ],
          [
           97.87159474632679,
           98.83990313585379,
           99.49720855130576
          ]
         ]
        },
        {
         "coloraxis": "coloraxis",
         "text": [
          [
           97.71936247800869,
           99.1230966205944,
           100.03239637631623
          ],
          [
           97.83048399851447,
           99.12499043483007,
           99.67900165135336
          ],
          [
           97.73770776738182,
           98.86964097035577,
           99.5283496947434
          ]
         ],
         "textfont": {
          "size": 8
         },
         "texttemplate": "%{text:.2f}%",
         "type": "heatmap",
         "x": [
          "0.1",
          "1",
          "10"
         ],
         "xaxis": "x6",
         "y": [
          "10",
          "1",
          "0.1"
         ],
         "yaxis": "y6",
         "z": [
          [
           97.71936247800869,
           99.1230966205944,
           100.03239637631623
          ],
          [
           97.83048399851447,
           99.12499043483007,
           99.67900165135336
          ],
          [
           97.73770776738182,
           98.86964097035577,
           99.5283496947434
          ]
         ]
        },
        {
         "coloraxis": "coloraxis",
         "text": [
          [
           97.67371441627004,
           99.10295047892967,
           100
          ],
          [
           97.78757551713329,
           99.1150846479908,
           99.8010295815438
          ],
          [
           97.55932594698626,
           98.84871828925587,
           99.64088848547256
          ]
         ],
         "textfont": {
          "size": 8
         },
         "texttemplate": "%{text:.2f}%",
         "type": "heatmap",
         "x": [
          "0.1",
          "1",
          "10"
         ],
         "xaxis": "x9",
         "y": [
          "10",
          "1",
          "0.1"
         ],
         "yaxis": "y9",
         "z": [
          [
           97.67371441627004,
           99.10295047892967,
           100
          ],
          [
           97.78757551713329,
           99.1150846479908,
           99.8010295815438
          ],
          [
           97.55932594698626,
           98.84871828925587,
           99.64088848547256
          ]
         ]
        }
       ],
       "layout": {
        "annotations": [
         {
          "font": {
           "size": 16
          },
          "showarrow": false,
          "text": "$\\eta_4 = 0.1 \\quad \\hat{\\eta} = 0.1$",
          "x": 0.15,
          "xanchor": "center",
          "xref": "paper",
          "y": 1,
          "yanchor": "bottom",
          "yref": "paper"
         },
         {
          "font": {
           "size": 16
          },
          "showarrow": false,
          "text": "$\\eta_4 = 0.1 \\quad \\hat{\\eta} = 1$",
          "x": 0.49999999999999994,
          "xanchor": "center",
          "xref": "paper",
          "y": 1,
          "yanchor": "bottom",
          "yref": "paper"
         },
         {
          "font": {
           "size": 16
          },
          "showarrow": false,
          "text": "$\\eta_4 = 0.1 \\quad \\hat{\\eta} = 10$",
          "x": 0.85,
          "xanchor": "center",
          "xref": "paper",
          "y": 1,
          "yanchor": "bottom",
          "yref": "paper"
         },
         {
          "font": {
           "size": 16
          },
          "showarrow": false,
          "text": "$\\eta_4 = 1 \\quad \\hat{\\eta} = 0.1$",
          "x": 0.15,
          "xanchor": "center",
          "xref": "paper",
          "y": 0.6333333333333333,
          "yanchor": "bottom",
          "yref": "paper"
         },
         {
          "font": {
           "size": 16
          },
          "showarrow": false,
          "text": "$\\eta_4 = 1 \\quad \\hat{\\eta} = 1$",
          "x": 0.49999999999999994,
          "xanchor": "center",
          "xref": "paper",
          "y": 0.6333333333333333,
          "yanchor": "bottom",
          "yref": "paper"
         },
         {
          "font": {
           "size": 16
          },
          "showarrow": false,
          "text": "$\\eta_4 = 1 \\quad \\hat{\\eta} = 10$",
          "x": 0.85,
          "xanchor": "center",
          "xref": "paper",
          "y": 0.6333333333333333,
          "yanchor": "bottom",
          "yref": "paper"
         },
         {
          "font": {
           "size": 16
          },
          "showarrow": false,
          "text": "$\\eta_4 = 10 \\quad \\hat{\\eta} = 0.1$",
          "x": 0.15,
          "xanchor": "center",
          "xref": "paper",
          "y": 0.26666666666666666,
          "yanchor": "bottom",
          "yref": "paper"
         },
         {
          "font": {
           "size": 16
          },
          "showarrow": false,
          "text": "$\\eta_4 = 10 \\quad \\hat{\\eta} = 1$",
          "x": 0.49999999999999994,
          "xanchor": "center",
          "xref": "paper",
          "y": 0.26666666666666666,
          "yanchor": "bottom",
          "yref": "paper"
         },
         {
          "font": {
           "size": 16
          },
          "showarrow": false,
          "text": "$\\eta_4 = 10 \\quad \\hat{\\eta} = 10$",
          "x": 0.85,
          "xanchor": "center",
          "xref": "paper",
          "y": 0.26666666666666666,
          "yanchor": "bottom",
          "yref": "paper"
         }
        ],
        "coloraxis": {
         "colorscale": [
          [
           0,
           "#440154"
          ],
          [
           0.1111111111111111,
           "#482878"
          ],
          [
           0.2222222222222222,
           "#3e4989"
          ],
          [
           0.3333333333333333,
           "#31688e"
          ],
          [
           0.4444444444444444,
           "#26828e"
          ],
          [
           0.5555555555555556,
           "#1f9e89"
          ],
          [
           0.6666666666666666,
           "#35b779"
          ],
          [
           0.7777777777777778,
           "#6ece58"
          ],
          [
           0.8888888888888888,
           "#b5de2b"
          ],
          [
           1,
           "#fde725"
          ]
         ]
        },
        "height": 750,
        "template": {
         "data": {
          "bar": [
           {
            "error_x": {
             "color": "#2a3f5f"
            },
            "error_y": {
             "color": "#2a3f5f"
            },
            "marker": {
             "line": {
              "color": "#E5ECF6",
              "width": 0.5
             },
             "pattern": {
              "fillmode": "overlay",
              "size": 10,
              "solidity": 0.2
             }
            },
            "type": "bar"
           }
          ],
          "barpolar": [
           {
            "marker": {
             "line": {
              "color": "#E5ECF6",
              "width": 0.5
             },
             "pattern": {
              "fillmode": "overlay",
              "size": 10,
              "solidity": 0.2
             }
            },
            "type": "barpolar"
           }
          ],
          "carpet": [
           {
            "aaxis": {
             "endlinecolor": "#2a3f5f",
             "gridcolor": "white",
             "linecolor": "white",
             "minorgridcolor": "white",
             "startlinecolor": "#2a3f5f"
            },
            "baxis": {
             "endlinecolor": "#2a3f5f",
             "gridcolor": "white",
             "linecolor": "white",
             "minorgridcolor": "white",
             "startlinecolor": "#2a3f5f"
            },
            "type": "carpet"
           }
          ],
          "choropleth": [
           {
            "colorbar": {
             "outlinewidth": 0,
             "ticks": ""
            },
            "type": "choropleth"
           }
          ],
          "contour": [
           {
            "colorbar": {
             "outlinewidth": 0,
             "ticks": ""
            },
            "colorscale": [
             [
              0,
              "#0d0887"
             ],
             [
              0.1111111111111111,
              "#46039f"
             ],
             [
              0.2222222222222222,
              "#7201a8"
             ],
             [
              0.3333333333333333,
              "#9c179e"
             ],
             [
              0.4444444444444444,
              "#bd3786"
             ],
             [
              0.5555555555555556,
              "#d8576b"
             ],
             [
              0.6666666666666666,
              "#ed7953"
             ],
             [
              0.7777777777777778,
              "#fb9f3a"
             ],
             [
              0.8888888888888888,
              "#fdca26"
             ],
             [
              1,
              "#f0f921"
             ]
            ],
            "type": "contour"
           }
          ],
          "contourcarpet": [
           {
            "colorbar": {
             "outlinewidth": 0,
             "ticks": ""
            },
            "type": "contourcarpet"
           }
          ],
          "heatmap": [
           {
            "colorbar": {
             "outlinewidth": 0,
             "ticks": ""
            },
            "colorscale": [
             [
              0,
              "#0d0887"
             ],
             [
              0.1111111111111111,
              "#46039f"
             ],
             [
              0.2222222222222222,
              "#7201a8"
             ],
             [
              0.3333333333333333,
              "#9c179e"
             ],
             [
              0.4444444444444444,
              "#bd3786"
             ],
             [
              0.5555555555555556,
              "#d8576b"
             ],
             [
              0.6666666666666666,
              "#ed7953"
             ],
             [
              0.7777777777777778,
              "#fb9f3a"
             ],
             [
              0.8888888888888888,
              "#fdca26"
             ],
             [
              1,
              "#f0f921"
             ]
            ],
            "type": "heatmap"
           }
          ],
          "heatmapgl": [
           {
            "colorbar": {
             "outlinewidth": 0,
             "ticks": ""
            },
            "colorscale": [
             [
              0,
              "#0d0887"
             ],
             [
              0.1111111111111111,
              "#46039f"
             ],
             [
              0.2222222222222222,
              "#7201a8"
             ],
             [
              0.3333333333333333,
              "#9c179e"
             ],
             [
              0.4444444444444444,
              "#bd3786"
             ],
             [
              0.5555555555555556,
              "#d8576b"
             ],
             [
              0.6666666666666666,
              "#ed7953"
             ],
             [
              0.7777777777777778,
              "#fb9f3a"
             ],
             [
              0.8888888888888888,
              "#fdca26"
             ],
             [
              1,
              "#f0f921"
             ]
            ],
            "type": "heatmapgl"
           }
          ],
          "histogram": [
           {
            "marker": {
             "pattern": {
              "fillmode": "overlay",
              "size": 10,
              "solidity": 0.2
             }
            },
            "type": "histogram"
           }
          ],
          "histogram2d": [
           {
            "colorbar": {
             "outlinewidth": 0,
             "ticks": ""
            },
            "colorscale": [
             [
              0,
              "#0d0887"
             ],
             [
              0.1111111111111111,
              "#46039f"
             ],
             [
              0.2222222222222222,
              "#7201a8"
             ],
             [
              0.3333333333333333,
              "#9c179e"
             ],
             [
              0.4444444444444444,
              "#bd3786"
             ],
             [
              0.5555555555555556,
              "#d8576b"
             ],
             [
              0.6666666666666666,
              "#ed7953"
             ],
             [
              0.7777777777777778,
              "#fb9f3a"
             ],
             [
              0.8888888888888888,
              "#fdca26"
             ],
             [
              1,
              "#f0f921"
             ]
            ],
            "type": "histogram2d"
           }
          ],
          "histogram2dcontour": [
           {
            "colorbar": {
             "outlinewidth": 0,
             "ticks": ""
            },
            "colorscale": [
             [
              0,
              "#0d0887"
             ],
             [
              0.1111111111111111,
              "#46039f"
             ],
             [
              0.2222222222222222,
              "#7201a8"
             ],
             [
              0.3333333333333333,
              "#9c179e"
             ],
             [
              0.4444444444444444,
              "#bd3786"
             ],
             [
              0.5555555555555556,
              "#d8576b"
             ],
             [
              0.6666666666666666,
              "#ed7953"
             ],
             [
              0.7777777777777778,
              "#fb9f3a"
             ],
             [
              0.8888888888888888,
              "#fdca26"
             ],
             [
              1,
              "#f0f921"
             ]
            ],
            "type": "histogram2dcontour"
           }
          ],
          "mesh3d": [
           {
            "colorbar": {
             "outlinewidth": 0,
             "ticks": ""
            },
            "type": "mesh3d"
           }
          ],
          "parcoords": [
           {
            "line": {
             "colorbar": {
              "outlinewidth": 0,
              "ticks": ""
             }
            },
            "type": "parcoords"
           }
          ],
          "pie": [
           {
            "automargin": true,
            "type": "pie"
           }
          ],
          "scatter": [
           {
            "fillpattern": {
             "fillmode": "overlay",
             "size": 10,
             "solidity": 0.2
            },
            "type": "scatter"
           }
          ],
          "scatter3d": [
           {
            "line": {
             "colorbar": {
              "outlinewidth": 0,
              "ticks": ""
             }
            },
            "marker": {
             "colorbar": {
              "outlinewidth": 0,
              "ticks": ""
             }
            },
            "type": "scatter3d"
           }
          ],
          "scattercarpet": [
           {
            "marker": {
             "colorbar": {
              "outlinewidth": 0,
              "ticks": ""
             }
            },
            "type": "scattercarpet"
           }
          ],
          "scattergeo": [
           {
            "marker": {
             "colorbar": {
              "outlinewidth": 0,
              "ticks": ""
             }
            },
            "type": "scattergeo"
           }
          ],
          "scattergl": [
           {
            "marker": {
             "colorbar": {
              "outlinewidth": 0,
              "ticks": ""
             }
            },
            "type": "scattergl"
           }
          ],
          "scattermapbox": [
           {
            "marker": {
             "colorbar": {
              "outlinewidth": 0,
              "ticks": ""
             }
            },
            "type": "scattermapbox"
           }
          ],
          "scatterpolar": [
           {
            "marker": {
             "colorbar": {
              "outlinewidth": 0,
              "ticks": ""
             }
            },
            "type": "scatterpolar"
           }
          ],
          "scatterpolargl": [
           {
            "marker": {
             "colorbar": {
              "outlinewidth": 0,
              "ticks": ""
             }
            },
            "type": "scatterpolargl"
           }
          ],
          "scatterternary": [
           {
            "marker": {
             "colorbar": {
              "outlinewidth": 0,
              "ticks": ""
             }
            },
            "type": "scatterternary"
           }
          ],
          "surface": [
           {
            "colorbar": {
             "outlinewidth": 0,
             "ticks": ""
            },
            "colorscale": [
             [
              0,
              "#0d0887"
             ],
             [
              0.1111111111111111,
              "#46039f"
             ],
             [
              0.2222222222222222,
              "#7201a8"
             ],
             [
              0.3333333333333333,
              "#9c179e"
             ],
             [
              0.4444444444444444,
              "#bd3786"
             ],
             [
              0.5555555555555556,
              "#d8576b"
             ],
             [
              0.6666666666666666,
              "#ed7953"
             ],
             [
              0.7777777777777778,
              "#fb9f3a"
             ],
             [
              0.8888888888888888,
              "#fdca26"
             ],
             [
              1,
              "#f0f921"
             ]
            ],
            "type": "surface"
           }
          ],
          "table": [
           {
            "cells": {
             "fill": {
              "color": "#EBF0F8"
             },
             "line": {
              "color": "white"
             }
            },
            "header": {
             "fill": {
              "color": "#C8D4E3"
             },
             "line": {
              "color": "white"
             }
            },
            "type": "table"
           }
          ]
         },
         "layout": {
          "annotationdefaults": {
           "arrowcolor": "#2a3f5f",
           "arrowhead": 0,
           "arrowwidth": 1
          },
          "autotypenumbers": "strict",
          "coloraxis": {
           "colorbar": {
            "outlinewidth": 0,
            "ticks": ""
           }
          },
          "colorscale": {
           "diverging": [
            [
             0,
             "#8e0152"
            ],
            [
             0.1,
             "#c51b7d"
            ],
            [
             0.2,
             "#de77ae"
            ],
            [
             0.3,
             "#f1b6da"
            ],
            [
             0.4,
             "#fde0ef"
            ],
            [
             0.5,
             "#f7f7f7"
            ],
            [
             0.6,
             "#e6f5d0"
            ],
            [
             0.7,
             "#b8e186"
            ],
            [
             0.8,
             "#7fbc41"
            ],
            [
             0.9,
             "#4d9221"
            ],
            [
             1,
             "#276419"
            ]
           ],
           "sequential": [
            [
             0,
             "#0d0887"
            ],
            [
             0.1111111111111111,
             "#46039f"
            ],
            [
             0.2222222222222222,
             "#7201a8"
            ],
            [
             0.3333333333333333,
             "#9c179e"
            ],
            [
             0.4444444444444444,
             "#bd3786"
            ],
            [
             0.5555555555555556,
             "#d8576b"
            ],
            [
             0.6666666666666666,
             "#ed7953"
            ],
            [
             0.7777777777777778,
             "#fb9f3a"
            ],
            [
             0.8888888888888888,
             "#fdca26"
            ],
            [
             1,
             "#f0f921"
            ]
           ],
           "sequentialminus": [
            [
             0,
             "#0d0887"
            ],
            [
             0.1111111111111111,
             "#46039f"
            ],
            [
             0.2222222222222222,
             "#7201a8"
            ],
            [
             0.3333333333333333,
             "#9c179e"
            ],
            [
             0.4444444444444444,
             "#bd3786"
            ],
            [
             0.5555555555555556,
             "#d8576b"
            ],
            [
             0.6666666666666666,
             "#ed7953"
            ],
            [
             0.7777777777777778,
             "#fb9f3a"
            ],
            [
             0.8888888888888888,
             "#fdca26"
            ],
            [
             1,
             "#f0f921"
            ]
           ]
          },
          "colorway": [
           "#636efa",
           "#EF553B",
           "#00cc96",
           "#ab63fa",
           "#FFA15A",
           "#19d3f3",
           "#FF6692",
           "#B6E880",
           "#FF97FF",
           "#FECB52"
          ],
          "font": {
           "color": "#2a3f5f"
          },
          "geo": {
           "bgcolor": "white",
           "lakecolor": "white",
           "landcolor": "#E5ECF6",
           "showlakes": true,
           "showland": true,
           "subunitcolor": "white"
          },
          "hoverlabel": {
           "align": "left"
          },
          "hovermode": "closest",
          "mapbox": {
           "style": "light"
          },
          "paper_bgcolor": "white",
          "plot_bgcolor": "#E5ECF6",
          "polar": {
           "angularaxis": {
            "gridcolor": "white",
            "linecolor": "white",
            "ticks": ""
           },
           "bgcolor": "#E5ECF6",
           "radialaxis": {
            "gridcolor": "white",
            "linecolor": "white",
            "ticks": ""
           }
          },
          "scene": {
           "xaxis": {
            "backgroundcolor": "#E5ECF6",
            "gridcolor": "white",
            "gridwidth": 2,
            "linecolor": "white",
            "showbackground": true,
            "ticks": "",
            "zerolinecolor": "white"
           },
           "yaxis": {
            "backgroundcolor": "#E5ECF6",
            "gridcolor": "white",
            "gridwidth": 2,
            "linecolor": "white",
            "showbackground": true,
            "ticks": "",
            "zerolinecolor": "white"
           },
           "zaxis": {
            "backgroundcolor": "#E5ECF6",
            "gridcolor": "white",
            "gridwidth": 2,
            "linecolor": "white",
            "showbackground": true,
            "ticks": "",
            "zerolinecolor": "white"
           }
          },
          "shapedefaults": {
           "line": {
            "color": "#2a3f5f"
           }
          },
          "ternary": {
           "aaxis": {
            "gridcolor": "white",
            "linecolor": "white",
            "ticks": ""
           },
           "baxis": {
            "gridcolor": "white",
            "linecolor": "white",
            "ticks": ""
           },
           "bgcolor": "#E5ECF6",
           "caxis": {
            "gridcolor": "white",
            "linecolor": "white",
            "ticks": ""
           }
          },
          "title": {
           "x": 0.05
          },
          "xaxis": {
           "automargin": true,
           "gridcolor": "white",
           "linecolor": "white",
           "ticks": "",
           "title": {
            "standoff": 15
           },
           "zerolinecolor": "white",
           "zerolinewidth": 2
          },
          "yaxis": {
           "automargin": true,
           "gridcolor": "white",
           "linecolor": "white",
           "ticks": "",
           "title": {
            "standoff": 15
           },
           "zerolinecolor": "white",
           "zerolinewidth": 2
          }
         }
        },
        "xaxis": {
         "anchor": "y",
         "domain": [
          0,
          0.3
         ]
        },
        "xaxis2": {
         "anchor": "y2",
         "domain": [
          0.35,
          0.6499999999999999
         ]
        },
        "xaxis3": {
         "anchor": "y3",
         "domain": [
          0.7,
          1
         ]
        },
        "xaxis4": {
         "anchor": "y4",
         "domain": [
          0,
          0.3
         ]
        },
        "xaxis5": {
         "anchor": "y5",
         "domain": [
          0.35,
          0.6499999999999999
         ]
        },
        "xaxis6": {
         "anchor": "y6",
         "domain": [
          0.7,
          1
         ]
        },
        "xaxis7": {
         "anchor": "y7",
         "domain": [
          0,
          0.3
         ],
         "title": {
          "text": "$\\eta_2$"
         }
        },
        "xaxis8": {
         "anchor": "y8",
         "domain": [
          0.35,
          0.6499999999999999
         ],
         "title": {
          "text": "$\\eta_2$"
         }
        },
        "xaxis9": {
         "anchor": "y9",
         "domain": [
          0.7,
          1
         ],
         "title": {
          "text": "$\\eta_2$"
         }
        },
        "yaxis": {
         "anchor": "x",
         "domain": [
          0.7333333333333334,
          1
         ],
         "title": {
          "text": "$\\eta_3$"
         }
        },
        "yaxis2": {
         "anchor": "x2",
         "domain": [
          0.7333333333333334,
          1
         ]
        },
        "yaxis3": {
         "anchor": "x3",
         "domain": [
          0.7333333333333334,
          1
         ]
        },
        "yaxis4": {
         "anchor": "x4",
         "domain": [
          0.3666666666666667,
          0.6333333333333333
         ],
         "title": {
          "text": "$\\eta_3$"
         }
        },
        "yaxis5": {
         "anchor": "x5",
         "domain": [
          0.3666666666666667,
          0.6333333333333333
         ]
        },
        "yaxis6": {
         "anchor": "x6",
         "domain": [
          0.3666666666666667,
          0.6333333333333333
         ]
        },
        "yaxis7": {
         "anchor": "x7",
         "domain": [
          0,
          0.26666666666666666
         ],
         "title": {
          "text": "$\\eta_3$"
         }
        },
        "yaxis8": {
         "anchor": "x8",
         "domain": [
          0,
          0.26666666666666666
         ]
        },
        "yaxis9": {
         "anchor": "x9",
         "domain": [
          0,
          0.26666666666666666
         ]
        }
       }
      }
     },
     "metadata": {},
     "output_type": "display_data"
    }
   ],
   "source": [
    "import plotly.graph_objects as go\n",
    "from plotly.colors import DEFAULT_PLOTLY_COLORS\n",
    "from plotly.subplots import make_subplots\n",
    "import re\n",
    "\n",
    "fig = make_subplots(3, 3, subplot_titles=[\n",
    "    f'$\\eta_4 = {t3} \\quad \\hat{{\\eta}} = {eta}$' for t3 in [0.1, 1, 10] for eta in [0.1, 1, 10]\n",
    "], horizontal_spacing=0.05, vertical_spacing=0.1)\n",
    "\n",
    "for j, x in enumerate([0.1, 1, 10]):\n",
    "    sens1 = sens[(sens.r1 == sens.r2) & (sens.r2 == sens.r3) & (sens.r1 == x)]\n",
    "    for i, (t3, d1) in enumerate(sens1.groupby('t3')):\n",
    "        z = d1.sort_values(['t2', 't1']).ratio.to_numpy().reshape(3, 3)\n",
    "        z = np.flipud(z)\n",
    "        fig.add_trace(go.Heatmap(\n",
    "            z=z*100,\n",
    "            x=['0.1', '1', '10'],\n",
    "            y=['10', '1', '0.1'],\n",
    "            coloraxis='coloraxis',\n",
    "            text=z*100,\n",
    "            texttemplate='%{text:.2f}%',\n",
    "            textfont={'size': 8}\n",
    "        ), row=i+1, col=j+1)\n",
    "fig.update_layout(\n",
    "    coloraxis={'colorscale': 'viridis'},\n",
    "    height=750,\n",
    ")\n",
    "fig.update_xaxes(title='$\\eta_2$', row=3)\n",
    "fig.update_yaxes(title='$\\eta_3$', col=1)\n",
    "fig.show()\n",
    "fig.write_image('../figures/sensitivity2.png')"
   ]
  },
  {
   "cell_type": "code",
   "execution_count": 5,
   "metadata": {},
   "outputs": [
    {
     "data": {
      "application/vnd.plotly.v1+json": {
       "config": {
        "plotlyServerURL": "https://plot.ly"
       },
       "data": [
        {
         "legendgroup": "0.1",
         "legendgrouptitle": {
          "text": "$\\eta = 0.1$"
         },
         "line": {
          "color": "rgba(31, 119, 180, 0.3333333333333333)"
         },
         "name": "$r_1$",
         "type": "scatter",
         "x": [
          0.1,
          1,
          10
         ],
         "y": [
          1,
          0.9983951874390982,
          0.9617913532090614
         ]
        },
        {
         "legendgroup": "1",
         "legendgrouptitle": {
          "text": "$\\eta = 1$"
         },
         "line": {
          "color": "rgba(31, 119, 180, 0.6666666666666666)"
         },
         "name": "$r_1$",
         "type": "scatter",
         "x": [
          0.1,
          1,
          10
         ],
         "y": [
          0.9909026618910088,
          1,
          0.9515830031369508
         ]
        },
        {
         "legendgroup": "10",
         "legendgrouptitle": {
          "text": "$\\eta = 10$"
         },
         "line": {
          "color": "rgba(31, 119, 180, 1.0)"
         },
         "name": "$r_1$",
         "type": "scatter",
         "x": [
          0.1,
          1,
          10
         ],
         "y": [
          0.9765141073076679,
          0.9989737112011576,
          1
         ]
        },
        {
         "legendgroup": "0.1",
         "legendgrouptitle": {
          "text": "$\\eta = 0.1$"
         },
         "line": {
          "color": "rgba(255, 127, 14, 0.3333333333333333)"
         },
         "name": "$r_2$",
         "type": "scatter",
         "x": [
          0.1,
          1,
          10
         ],
         "y": [
          1,
          0.98595009368899,
          0.9859749503331757
         ]
        },
        {
         "legendgroup": "1",
         "legendgrouptitle": {
          "text": "$\\eta = 1$"
         },
         "line": {
          "color": "rgba(255, 127, 14, 0.6666666666666666)"
         },
         "name": "$r_2$",
         "type": "scatter",
         "x": [
          0.1,
          1,
          10
         ],
         "y": [
          0.9949445908850874,
          1,
          0.9888659164696858
         ]
        },
        {
         "legendgroup": "10",
         "legendgrouptitle": {
          "text": "$\\eta = 10$"
         },
         "line": {
          "color": "rgba(255, 127, 14, 1.0)"
         },
         "name": "$r_2$",
         "type": "scatter",
         "x": [
          0.1,
          1,
          10
         ],
         "y": [
          0.9906519341628167,
          0.9941821548166991,
          1
         ]
        },
        {
         "legendgroup": "0.1",
         "legendgrouptitle": {
          "text": "$\\eta = 0.1$"
         },
         "line": {
          "color": "rgba(44, 160, 44, 0.3333333333333333)"
         },
         "name": "$r_3$",
         "type": "scatter",
         "x": [
          0.1,
          1,
          10
         ],
         "y": [
          1,
          1.0020326260407248,
          0.9807474380270947
         ]
        },
        {
         "legendgroup": "1",
         "legendgrouptitle": {
          "text": "$\\eta = 1$"
         },
         "line": {
          "color": "rgba(44, 160, 44, 0.6666666666666666)"
         },
         "name": "$r_3$",
         "type": "scatter",
         "x": [
          0.1,
          1,
          10
         ],
         "y": [
          0.9993193173715866,
          1,
          0.9620216091609727
         ]
        },
        {
         "legendgroup": "10",
         "legendgrouptitle": {
          "text": "$\\eta = 10$"
         },
         "line": {
          "color": "rgba(44, 160, 44, 1.0)"
         },
         "name": "$r_3$",
         "type": "scatter",
         "x": [
          0.1,
          1,
          10
         ],
         "y": [
          0.9946805316223777,
          0.9929032659518957,
          1
         ]
        }
       ],
       "layout": {
        "legend": {
         "groupclick": "toggleitem"
        },
        "template": {
         "data": {
          "bar": [
           {
            "error_x": {
             "color": "#2a3f5f"
            },
            "error_y": {
             "color": "#2a3f5f"
            },
            "marker": {
             "line": {
              "color": "#E5ECF6",
              "width": 0.5
             },
             "pattern": {
              "fillmode": "overlay",
              "size": 10,
              "solidity": 0.2
             }
            },
            "type": "bar"
           }
          ],
          "barpolar": [
           {
            "marker": {
             "line": {
              "color": "#E5ECF6",
              "width": 0.5
             },
             "pattern": {
              "fillmode": "overlay",
              "size": 10,
              "solidity": 0.2
             }
            },
            "type": "barpolar"
           }
          ],
          "carpet": [
           {
            "aaxis": {
             "endlinecolor": "#2a3f5f",
             "gridcolor": "white",
             "linecolor": "white",
             "minorgridcolor": "white",
             "startlinecolor": "#2a3f5f"
            },
            "baxis": {
             "endlinecolor": "#2a3f5f",
             "gridcolor": "white",
             "linecolor": "white",
             "minorgridcolor": "white",
             "startlinecolor": "#2a3f5f"
            },
            "type": "carpet"
           }
          ],
          "choropleth": [
           {
            "colorbar": {
             "outlinewidth": 0,
             "ticks": ""
            },
            "type": "choropleth"
           }
          ],
          "contour": [
           {
            "colorbar": {
             "outlinewidth": 0,
             "ticks": ""
            },
            "colorscale": [
             [
              0,
              "#0d0887"
             ],
             [
              0.1111111111111111,
              "#46039f"
             ],
             [
              0.2222222222222222,
              "#7201a8"
             ],
             [
              0.3333333333333333,
              "#9c179e"
             ],
             [
              0.4444444444444444,
              "#bd3786"
             ],
             [
              0.5555555555555556,
              "#d8576b"
             ],
             [
              0.6666666666666666,
              "#ed7953"
             ],
             [
              0.7777777777777778,
              "#fb9f3a"
             ],
             [
              0.8888888888888888,
              "#fdca26"
             ],
             [
              1,
              "#f0f921"
             ]
            ],
            "type": "contour"
           }
          ],
          "contourcarpet": [
           {
            "colorbar": {
             "outlinewidth": 0,
             "ticks": ""
            },
            "type": "contourcarpet"
           }
          ],
          "heatmap": [
           {
            "colorbar": {
             "outlinewidth": 0,
             "ticks": ""
            },
            "colorscale": [
             [
              0,
              "#0d0887"
             ],
             [
              0.1111111111111111,
              "#46039f"
             ],
             [
              0.2222222222222222,
              "#7201a8"
             ],
             [
              0.3333333333333333,
              "#9c179e"
             ],
             [
              0.4444444444444444,
              "#bd3786"
             ],
             [
              0.5555555555555556,
              "#d8576b"
             ],
             [
              0.6666666666666666,
              "#ed7953"
             ],
             [
              0.7777777777777778,
              "#fb9f3a"
             ],
             [
              0.8888888888888888,
              "#fdca26"
             ],
             [
              1,
              "#f0f921"
             ]
            ],
            "type": "heatmap"
           }
          ],
          "heatmapgl": [
           {
            "colorbar": {
             "outlinewidth": 0,
             "ticks": ""
            },
            "colorscale": [
             [
              0,
              "#0d0887"
             ],
             [
              0.1111111111111111,
              "#46039f"
             ],
             [
              0.2222222222222222,
              "#7201a8"
             ],
             [
              0.3333333333333333,
              "#9c179e"
             ],
             [
              0.4444444444444444,
              "#bd3786"
             ],
             [
              0.5555555555555556,
              "#d8576b"
             ],
             [
              0.6666666666666666,
              "#ed7953"
             ],
             [
              0.7777777777777778,
              "#fb9f3a"
             ],
             [
              0.8888888888888888,
              "#fdca26"
             ],
             [
              1,
              "#f0f921"
             ]
            ],
            "type": "heatmapgl"
           }
          ],
          "histogram": [
           {
            "marker": {
             "pattern": {
              "fillmode": "overlay",
              "size": 10,
              "solidity": 0.2
             }
            },
            "type": "histogram"
           }
          ],
          "histogram2d": [
           {
            "colorbar": {
             "outlinewidth": 0,
             "ticks": ""
            },
            "colorscale": [
             [
              0,
              "#0d0887"
             ],
             [
              0.1111111111111111,
              "#46039f"
             ],
             [
              0.2222222222222222,
              "#7201a8"
             ],
             [
              0.3333333333333333,
              "#9c179e"
             ],
             [
              0.4444444444444444,
              "#bd3786"
             ],
             [
              0.5555555555555556,
              "#d8576b"
             ],
             [
              0.6666666666666666,
              "#ed7953"
             ],
             [
              0.7777777777777778,
              "#fb9f3a"
             ],
             [
              0.8888888888888888,
              "#fdca26"
             ],
             [
              1,
              "#f0f921"
             ]
            ],
            "type": "histogram2d"
           }
          ],
          "histogram2dcontour": [
           {
            "colorbar": {
             "outlinewidth": 0,
             "ticks": ""
            },
            "colorscale": [
             [
              0,
              "#0d0887"
             ],
             [
              0.1111111111111111,
              "#46039f"
             ],
             [
              0.2222222222222222,
              "#7201a8"
             ],
             [
              0.3333333333333333,
              "#9c179e"
             ],
             [
              0.4444444444444444,
              "#bd3786"
             ],
             [
              0.5555555555555556,
              "#d8576b"
             ],
             [
              0.6666666666666666,
              "#ed7953"
             ],
             [
              0.7777777777777778,
              "#fb9f3a"
             ],
             [
              0.8888888888888888,
              "#fdca26"
             ],
             [
              1,
              "#f0f921"
             ]
            ],
            "type": "histogram2dcontour"
           }
          ],
          "mesh3d": [
           {
            "colorbar": {
             "outlinewidth": 0,
             "ticks": ""
            },
            "type": "mesh3d"
           }
          ],
          "parcoords": [
           {
            "line": {
             "colorbar": {
              "outlinewidth": 0,
              "ticks": ""
             }
            },
            "type": "parcoords"
           }
          ],
          "pie": [
           {
            "automargin": true,
            "type": "pie"
           }
          ],
          "scatter": [
           {
            "fillpattern": {
             "fillmode": "overlay",
             "size": 10,
             "solidity": 0.2
            },
            "type": "scatter"
           }
          ],
          "scatter3d": [
           {
            "line": {
             "colorbar": {
              "outlinewidth": 0,
              "ticks": ""
             }
            },
            "marker": {
             "colorbar": {
              "outlinewidth": 0,
              "ticks": ""
             }
            },
            "type": "scatter3d"
           }
          ],
          "scattercarpet": [
           {
            "marker": {
             "colorbar": {
              "outlinewidth": 0,
              "ticks": ""
             }
            },
            "type": "scattercarpet"
           }
          ],
          "scattergeo": [
           {
            "marker": {
             "colorbar": {
              "outlinewidth": 0,
              "ticks": ""
             }
            },
            "type": "scattergeo"
           }
          ],
          "scattergl": [
           {
            "marker": {
             "colorbar": {
              "outlinewidth": 0,
              "ticks": ""
             }
            },
            "type": "scattergl"
           }
          ],
          "scattermapbox": [
           {
            "marker": {
             "colorbar": {
              "outlinewidth": 0,
              "ticks": ""
             }
            },
            "type": "scattermapbox"
           }
          ],
          "scatterpolar": [
           {
            "marker": {
             "colorbar": {
              "outlinewidth": 0,
              "ticks": ""
             }
            },
            "type": "scatterpolar"
           }
          ],
          "scatterpolargl": [
           {
            "marker": {
             "colorbar": {
              "outlinewidth": 0,
              "ticks": ""
             }
            },
            "type": "scatterpolargl"
           }
          ],
          "scatterternary": [
           {
            "marker": {
             "colorbar": {
              "outlinewidth": 0,
              "ticks": ""
             }
            },
            "type": "scatterternary"
           }
          ],
          "surface": [
           {
            "colorbar": {
             "outlinewidth": 0,
             "ticks": ""
            },
            "colorscale": [
             [
              0,
              "#0d0887"
             ],
             [
              0.1111111111111111,
              "#46039f"
             ],
             [
              0.2222222222222222,
              "#7201a8"
             ],
             [
              0.3333333333333333,
              "#9c179e"
             ],
             [
              0.4444444444444444,
              "#bd3786"
             ],
             [
              0.5555555555555556,
              "#d8576b"
             ],
             [
              0.6666666666666666,
              "#ed7953"
             ],
             [
              0.7777777777777778,
              "#fb9f3a"
             ],
             [
              0.8888888888888888,
              "#fdca26"
             ],
             [
              1,
              "#f0f921"
             ]
            ],
            "type": "surface"
           }
          ],
          "table": [
           {
            "cells": {
             "fill": {
              "color": "#EBF0F8"
             },
             "line": {
              "color": "white"
             }
            },
            "header": {
             "fill": {
              "color": "#C8D4E3"
             },
             "line": {
              "color": "white"
             }
            },
            "type": "table"
           }
          ]
         },
         "layout": {
          "annotationdefaults": {
           "arrowcolor": "#2a3f5f",
           "arrowhead": 0,
           "arrowwidth": 1
          },
          "autotypenumbers": "strict",
          "coloraxis": {
           "colorbar": {
            "outlinewidth": 0,
            "ticks": ""
           }
          },
          "colorscale": {
           "diverging": [
            [
             0,
             "#8e0152"
            ],
            [
             0.1,
             "#c51b7d"
            ],
            [
             0.2,
             "#de77ae"
            ],
            [
             0.3,
             "#f1b6da"
            ],
            [
             0.4,
             "#fde0ef"
            ],
            [
             0.5,
             "#f7f7f7"
            ],
            [
             0.6,
             "#e6f5d0"
            ],
            [
             0.7,
             "#b8e186"
            ],
            [
             0.8,
             "#7fbc41"
            ],
            [
             0.9,
             "#4d9221"
            ],
            [
             1,
             "#276419"
            ]
           ],
           "sequential": [
            [
             0,
             "#0d0887"
            ],
            [
             0.1111111111111111,
             "#46039f"
            ],
            [
             0.2222222222222222,
             "#7201a8"
            ],
            [
             0.3333333333333333,
             "#9c179e"
            ],
            [
             0.4444444444444444,
             "#bd3786"
            ],
            [
             0.5555555555555556,
             "#d8576b"
            ],
            [
             0.6666666666666666,
             "#ed7953"
            ],
            [
             0.7777777777777778,
             "#fb9f3a"
            ],
            [
             0.8888888888888888,
             "#fdca26"
            ],
            [
             1,
             "#f0f921"
            ]
           ],
           "sequentialminus": [
            [
             0,
             "#0d0887"
            ],
            [
             0.1111111111111111,
             "#46039f"
            ],
            [
             0.2222222222222222,
             "#7201a8"
            ],
            [
             0.3333333333333333,
             "#9c179e"
            ],
            [
             0.4444444444444444,
             "#bd3786"
            ],
            [
             0.5555555555555556,
             "#d8576b"
            ],
            [
             0.6666666666666666,
             "#ed7953"
            ],
            [
             0.7777777777777778,
             "#fb9f3a"
            ],
            [
             0.8888888888888888,
             "#fdca26"
            ],
            [
             1,
             "#f0f921"
            ]
           ]
          },
          "colorway": [
           "#636efa",
           "#EF553B",
           "#00cc96",
           "#ab63fa",
           "#FFA15A",
           "#19d3f3",
           "#FF6692",
           "#B6E880",
           "#FF97FF",
           "#FECB52"
          ],
          "font": {
           "color": "#2a3f5f"
          },
          "geo": {
           "bgcolor": "white",
           "lakecolor": "white",
           "landcolor": "#E5ECF6",
           "showlakes": true,
           "showland": true,
           "subunitcolor": "white"
          },
          "hoverlabel": {
           "align": "left"
          },
          "hovermode": "closest",
          "mapbox": {
           "style": "light"
          },
          "paper_bgcolor": "white",
          "plot_bgcolor": "#E5ECF6",
          "polar": {
           "angularaxis": {
            "gridcolor": "white",
            "linecolor": "white",
            "ticks": ""
           },
           "bgcolor": "#E5ECF6",
           "radialaxis": {
            "gridcolor": "white",
            "linecolor": "white",
            "ticks": ""
           }
          },
          "scene": {
           "xaxis": {
            "backgroundcolor": "#E5ECF6",
            "gridcolor": "white",
            "gridwidth": 2,
            "linecolor": "white",
            "showbackground": true,
            "ticks": "",
            "zerolinecolor": "white"
           },
           "yaxis": {
            "backgroundcolor": "#E5ECF6",
            "gridcolor": "white",
            "gridwidth": 2,
            "linecolor": "white",
            "showbackground": true,
            "ticks": "",
            "zerolinecolor": "white"
           },
           "zaxis": {
            "backgroundcolor": "#E5ECF6",
            "gridcolor": "white",
            "gridwidth": 2,
            "linecolor": "white",
            "showbackground": true,
            "ticks": "",
            "zerolinecolor": "white"
           }
          },
          "shapedefaults": {
           "line": {
            "color": "#2a3f5f"
           }
          },
          "ternary": {
           "aaxis": {
            "gridcolor": "white",
            "linecolor": "white",
            "ticks": ""
           },
           "baxis": {
            "gridcolor": "white",
            "linecolor": "white",
            "ticks": ""
           },
           "bgcolor": "#E5ECF6",
           "caxis": {
            "gridcolor": "white",
            "linecolor": "white",
            "ticks": ""
           }
          },
          "title": {
           "x": 0.05
          },
          "xaxis": {
           "automargin": true,
           "gridcolor": "white",
           "linecolor": "white",
           "ticks": "",
           "title": {
            "standoff": 15
           },
           "zerolinecolor": "white",
           "zerolinewidth": 2
          },
          "yaxis": {
           "automargin": true,
           "gridcolor": "white",
           "linecolor": "white",
           "ticks": "",
           "title": {
            "standoff": 15
           },
           "zerolinecolor": "white",
           "zerolinewidth": 2
          }
         }
        },
        "xaxis": {
         "type": "log"
        }
       }
      }
     },
     "metadata": {},
     "output_type": "display_data"
    }
   ],
   "source": [
    "import plotly.express as px\n",
    "from functools import reduce\n",
    "from plotly.colors import DEFAULT_PLOTLY_COLORS\n",
    "\n",
    "fig = go.Figure()\n",
    "for i, r in enumerate([1, 2, 3]):\n",
    "    cond = reduce(lambda x, y: x & y, [sens[f'r{rx}'] == sens.t1 for rx in [1, 2, 3] if rx != r])\n",
    "    sens_temp = sens[(sens.t1 == sens.t2) & (sens.t2 == sens.t3) & cond]\n",
    "    color = DEFAULT_PLOTLY_COLORS[i].split('(')[1].split(')')[0].split(', ')\n",
    "\n",
    "    for j, eta in enumerate([0.1, 1, 10]):\n",
    "        sens_eta = sens_temp[sens_temp.t1 == eta].sort_values(f'r{r}')\n",
    "        fig.add_trace(go.Scatter(\n",
    "            x=sens_eta[f'r{r}'], y=sens_eta.ratio, legendgroup=eta, legendgrouptitle_text=f'$\\eta = {eta}$',\n",
    "            name=f'$r_{r}$', line_color=f'rgba({\", \".join(color)}, {(j+1)/3})'\n",
    "        ))\n",
    "\n",
    "fig.update_xaxes(type='log')\n",
    "fig.update_layout(legend=dict(groupclick=\"toggleitem\"))\n",
    "fig.show()\n",
    "# fig.write_image('r2.png')"
   ]
  }
 ],
 "metadata": {
  "kernelspec": {
   "display_name": "Python 3.8.10 ('venv': venv)",
   "language": "python",
   "name": "python3"
  },
  "language_info": {
   "codemirror_mode": {
    "name": "ipython",
    "version": 3
   },
   "file_extension": ".py",
   "mimetype": "text/x-python",
   "name": "python",
   "nbconvert_exporter": "python",
   "pygments_lexer": "ipython3",
   "version": "3.8.10"
  },
  "orig_nbformat": 4,
  "vscode": {
   "interpreter": {
    "hash": "60b632efd347e20e25c647ed7731ea15f30ac276af9e5a993cbe7dbb446a6ac7"
   }
  }
 },
 "nbformat": 4,
 "nbformat_minor": 2
}
