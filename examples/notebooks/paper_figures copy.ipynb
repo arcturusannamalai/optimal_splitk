{
 "cells": [
  {
   "cell_type": "code",
   "execution_count": 1,
   "metadata": {},
   "outputs": [],
   "source": [
    "import numpy as np\n",
    "import pandas as pd\n",
    "np.set_printoptions(precision=3)\n",
    "\n",
    "file = 'sensitivity_10_1e5.csv'"
   ]
  },
  {
   "cell_type": "markdown",
   "metadata": {},
   "source": [
    "### Ratio misspecifications"
   ]
  },
  {
   "cell_type": "code",
   "execution_count": 2,
   "metadata": {},
   "outputs": [
    {
     "data": {
      "text/html": [
       "<div>\n",
       "<style scoped>\n",
       "    .dataframe tbody tr th:only-of-type {\n",
       "        vertical-align: middle;\n",
       "    }\n",
       "\n",
       "    .dataframe tbody tr th {\n",
       "        vertical-align: top;\n",
       "    }\n",
       "\n",
       "    .dataframe thead th {\n",
       "        text-align: right;\n",
       "    }\n",
       "</style>\n",
       "<table border=\"1\" class=\"dataframe\">\n",
       "  <thead>\n",
       "    <tr style=\"text-align: right;\">\n",
       "      <th></th>\n",
       "      <th>r1</th>\n",
       "      <th>r2</th>\n",
       "      <th>r3</th>\n",
       "      <th>t1</th>\n",
       "      <th>t2</th>\n",
       "      <th>t3</th>\n",
       "      <th>det</th>\n",
       "      <th>det_true</th>\n",
       "      <th>det_opt</th>\n",
       "      <th>ratio</th>\n",
       "    </tr>\n",
       "  </thead>\n",
       "  <tbody>\n",
       "    <tr>\n",
       "      <th>0</th>\n",
       "      <td>0.1</td>\n",
       "      <td>0.1</td>\n",
       "      <td>0.1</td>\n",
       "      <td>0.1</td>\n",
       "      <td>0.1</td>\n",
       "      <td>0.1</td>\n",
       "      <td>14.312590</td>\n",
       "      <td>14.312590</td>\n",
       "      <td>14.312590</td>\n",
       "      <td>1.000000</td>\n",
       "    </tr>\n",
       "    <tr>\n",
       "      <th>1</th>\n",
       "      <td>0.1</td>\n",
       "      <td>0.1</td>\n",
       "      <td>1.0</td>\n",
       "      <td>0.1</td>\n",
       "      <td>0.1</td>\n",
       "      <td>0.1</td>\n",
       "      <td>10.469039</td>\n",
       "      <td>14.341682</td>\n",
       "      <td>14.312590</td>\n",
       "      <td>1.002033</td>\n",
       "    </tr>\n",
       "    <tr>\n",
       "      <th>2</th>\n",
       "      <td>0.1</td>\n",
       "      <td>0.1</td>\n",
       "      <td>10.0</td>\n",
       "      <td>0.1</td>\n",
       "      <td>0.1</td>\n",
       "      <td>0.1</td>\n",
       "      <td>5.379578</td>\n",
       "      <td>14.037036</td>\n",
       "      <td>14.312590</td>\n",
       "      <td>0.980747</td>\n",
       "    </tr>\n",
       "    <tr>\n",
       "      <th>3</th>\n",
       "      <td>0.1</td>\n",
       "      <td>1.0</td>\n",
       "      <td>0.1</td>\n",
       "      <td>0.1</td>\n",
       "      <td>0.1</td>\n",
       "      <td>0.1</td>\n",
       "      <td>9.070700</td>\n",
       "      <td>14.111499</td>\n",
       "      <td>14.312590</td>\n",
       "      <td>0.985950</td>\n",
       "    </tr>\n",
       "    <tr>\n",
       "      <th>4</th>\n",
       "      <td>0.1</td>\n",
       "      <td>1.0</td>\n",
       "      <td>1.0</td>\n",
       "      <td>0.1</td>\n",
       "      <td>0.1</td>\n",
       "      <td>0.1</td>\n",
       "      <td>7.873545</td>\n",
       "      <td>14.155475</td>\n",
       "      <td>14.312590</td>\n",
       "      <td>0.989023</td>\n",
       "    </tr>\n",
       "    <tr>\n",
       "      <th>...</th>\n",
       "      <td>...</td>\n",
       "      <td>...</td>\n",
       "      <td>...</td>\n",
       "      <td>...</td>\n",
       "      <td>...</td>\n",
       "      <td>...</td>\n",
       "      <td>...</td>\n",
       "      <td>...</td>\n",
       "      <td>...</td>\n",
       "      <td>...</td>\n",
       "    </tr>\n",
       "    <tr>\n",
       "      <th>724</th>\n",
       "      <td>10.0</td>\n",
       "      <td>1.0</td>\n",
       "      <td>1.0</td>\n",
       "      <td>10.0</td>\n",
       "      <td>10.0</td>\n",
       "      <td>10.0</td>\n",
       "      <td>1.001078</td>\n",
       "      <td>0.635604</td>\n",
       "      <td>0.644773</td>\n",
       "      <td>0.985780</td>\n",
       "    </tr>\n",
       "    <tr>\n",
       "      <th>725</th>\n",
       "      <td>10.0</td>\n",
       "      <td>1.0</td>\n",
       "      <td>10.0</td>\n",
       "      <td>10.0</td>\n",
       "      <td>10.0</td>\n",
       "      <td>10.0</td>\n",
       "      <td>0.793223</td>\n",
       "      <td>0.641022</td>\n",
       "      <td>0.644773</td>\n",
       "      <td>0.994182</td>\n",
       "    </tr>\n",
       "    <tr>\n",
       "      <th>726</th>\n",
       "      <td>10.0</td>\n",
       "      <td>10.0</td>\n",
       "      <td>0.1</td>\n",
       "      <td>10.0</td>\n",
       "      <td>10.0</td>\n",
       "      <td>10.0</td>\n",
       "      <td>0.737011</td>\n",
       "      <td>0.641343</td>\n",
       "      <td>0.644773</td>\n",
       "      <td>0.994681</td>\n",
       "    </tr>\n",
       "    <tr>\n",
       "      <th>727</th>\n",
       "      <td>10.0</td>\n",
       "      <td>10.0</td>\n",
       "      <td>1.0</td>\n",
       "      <td>10.0</td>\n",
       "      <td>10.0</td>\n",
       "      <td>10.0</td>\n",
       "      <td>0.734944</td>\n",
       "      <td>0.640197</td>\n",
       "      <td>0.644773</td>\n",
       "      <td>0.992903</td>\n",
       "    </tr>\n",
       "    <tr>\n",
       "      <th>728</th>\n",
       "      <td>10.0</td>\n",
       "      <td>10.0</td>\n",
       "      <td>10.0</td>\n",
       "      <td>10.0</td>\n",
       "      <td>10.0</td>\n",
       "      <td>10.0</td>\n",
       "      <td>0.644773</td>\n",
       "      <td>0.644773</td>\n",
       "      <td>0.644773</td>\n",
       "      <td>1.000000</td>\n",
       "    </tr>\n",
       "  </tbody>\n",
       "</table>\n",
       "<p>729 rows × 10 columns</p>\n",
       "</div>"
      ],
      "text/plain": [
       "       r1    r2    r3    t1    t2    t3        det   det_true    det_opt  \\\n",
       "0     0.1   0.1   0.1   0.1   0.1   0.1  14.312590  14.312590  14.312590   \n",
       "1     0.1   0.1   1.0   0.1   0.1   0.1  10.469039  14.341682  14.312590   \n",
       "2     0.1   0.1  10.0   0.1   0.1   0.1   5.379578  14.037036  14.312590   \n",
       "3     0.1   1.0   0.1   0.1   0.1   0.1   9.070700  14.111499  14.312590   \n",
       "4     0.1   1.0   1.0   0.1   0.1   0.1   7.873545  14.155475  14.312590   \n",
       "..    ...   ...   ...   ...   ...   ...        ...        ...        ...   \n",
       "724  10.0   1.0   1.0  10.0  10.0  10.0   1.001078   0.635604   0.644773   \n",
       "725  10.0   1.0  10.0  10.0  10.0  10.0   0.793223   0.641022   0.644773   \n",
       "726  10.0  10.0   0.1  10.0  10.0  10.0   0.737011   0.641343   0.644773   \n",
       "727  10.0  10.0   1.0  10.0  10.0  10.0   0.734944   0.640197   0.644773   \n",
       "728  10.0  10.0  10.0  10.0  10.0  10.0   0.644773   0.644773   0.644773   \n",
       "\n",
       "        ratio  \n",
       "0    1.000000  \n",
       "1    1.002033  \n",
       "2    0.980747  \n",
       "3    0.985950  \n",
       "4    0.989023  \n",
       "..        ...  \n",
       "724  0.985780  \n",
       "725  0.994182  \n",
       "726  0.994681  \n",
       "727  0.992903  \n",
       "728  1.000000  \n",
       "\n",
       "[729 rows x 10 columns]"
      ]
     },
     "execution_count": 2,
     "metadata": {},
     "output_type": "execute_result"
    }
   ],
   "source": [
    "sens = pd.DataFrame(np.loadtxt(f'../out/{file}'), columns=['r1', 'r2', 'r3', 't1', 't2', 't3', 'det', 'det_true'])\n",
    "sens = sens.groupby(['r1', 'r2', 'r3', 't1', 't2', 't3']).agg(np.median).reset_index()\n",
    "opt = sens[(sens.t1 == sens.r1) & (sens.t2 == sens.r2) & (sens.t3 == sens.r3)]\\\n",
    "            .drop(columns=['r1', 'r2', 'r3', 'det_true'])\\\n",
    "            .rename(columns={'det': 'det_opt'})\n",
    "\n",
    "sens = sens.merge(opt, on=['t1', 't2', 't3'])\\\n",
    "           .assign(ratio=lambda x: x.det_true / x.det_opt)\n",
    "\n",
    "sens"
   ]
  },
  {
   "cell_type": "code",
   "execution_count": 7,
   "metadata": {},
   "outputs": [
    {
     "data": {
      "application/vnd.plotly.v1+json": {
       "config": {
        "plotlyServerURL": "https://plot.ly"
       },
       "data": [
        {
         "coloraxis": "coloraxis",
         "text": [
          [
           98.5724195803302,
           98.61912321688186,
           96.91314516018036
          ],
          [
           98.71750664213675,
           98.76533275020736,
           97.89267123783746
          ],
          [
           100,
           99.28241944015885,
           97.71138398236843
          ]
         ],
         "textfont": {
          "size": 8
         },
         "texttemplate": "%{text:.2f}%",
         "type": "heatmap",
         "x": [
          "0.1",
          "1",
          "10"
         ],
         "xaxis": "x",
         "y": [
          "10",
          "1",
          "0.1"
         ],
         "yaxis": "y",
         "z": [
          [
           98.5724195803302,
           98.61912321688186,
           96.91314516018036
          ],
          [
           98.71750664213675,
           98.76533275020736,
           97.89267123783746
          ],
          [
           100,
           99.28241944015885,
           97.71138398236843
          ]
         ]
        },
        {
         "coloraxis": "coloraxis",
         "text": [
          [
           99.0800487857268,
           98.49770307310392,
           96.97061556451906
          ],
          [
           97.455514371909,
           97.55305859500092,
           98.07302833063258
          ],
          [
           97.15712404974207,
           97.49156834987927,
           98.00733148041643
          ]
         ],
         "textfont": {
          "size": 8
         },
         "texttemplate": "%{text:.2f}%",
         "type": "heatmap",
         "x": [
          "0.1",
          "1",
          "10"
         ],
         "xaxis": "x4",
         "y": [
          "10",
          "1",
          "0.1"
         ],
         "yaxis": "y4",
         "z": [
          [
           99.0800487857268,
           98.49770307310392,
           96.97061556451906
          ],
          [
           97.455514371909,
           97.55305859500092,
           98.07302833063258
          ],
          [
           97.15712404974207,
           97.49156834987927,
           98.00733148041643
          ]
         ]
        },
        {
         "coloraxis": "coloraxis",
         "text": [
          [
           97.78232062432002,
           97.42595868034523,
           96.38860482778014
          ],
          [
           99.5487646726279,
           99.58464214696531,
           95.94292468349332
          ],
          [
           98.45234197626246,
           99.11783862471052,
           96.67468990343238
          ]
         ],
         "textfont": {
          "size": 8
         },
         "texttemplate": "%{text:.2f}%",
         "type": "heatmap",
         "x": [
          "0.1",
          "1",
          "10"
         ],
         "xaxis": "x7",
         "y": [
          "10",
          "1",
          "0.1"
         ],
         "yaxis": "y7",
         "z": [
          [
           97.78232062432002,
           97.42595868034523,
           96.38860482778014
          ],
          [
           99.5487646726279,
           99.58464214696531,
           95.94292468349332
          ],
          [
           98.45234197626246,
           99.11783862471052,
           96.67468990343238
          ]
         ]
        },
        {
         "coloraxis": "coloraxis",
         "text": [
          [
           100.93015014888569,
           101.11919585008397,
           101.3342929531571
          ],
          [
           100.12793306830888,
           100.04036546556479,
           101.33021236805442
          ],
          [
           99.31784686990675,
           99.51255067288096,
           101.11827255755372
          ]
         ],
         "textfont": {
          "size": 8
         },
         "texttemplate": "%{text:.2f}%",
         "type": "heatmap",
         "x": [
          "0.1",
          "1",
          "10"
         ],
         "xaxis": "x2",
         "y": [
          "10",
          "1",
          "0.1"
         ],
         "yaxis": "y2",
         "z": [
          [
           100.93015014888569,
           101.11919585008397,
           101.3342929531571
          ],
          [
           100.12793306830888,
           100.04036546556479,
           101.33021236805442
          ],
          [
           99.31784686990675,
           99.51255067288096,
           101.11827255755372
          ]
         ]
        },
        {
         "coloraxis": "coloraxis",
         "text": [
          [
           101.46794721247339,
           101.01248865548891,
           101.41078562819801
          ],
          [
           99.91680234802907,
           100,
           101.57437488883814
          ],
          [
           99.18153325506731,
           99.58798608771141,
           101.48327710556566
          ]
         ],
         "textfont": {
          "size": 8
         },
         "texttemplate": "%{text:.2f}%",
         "type": "heatmap",
         "x": [
          "0.1",
          "1",
          "10"
         ],
         "xaxis": "x5",
         "y": [
          "10",
          "1",
          "0.1"
         ],
         "yaxis": "y5",
         "z": [
          [
           101.46794721247339,
           101.01248865548891,
           101.41078562819801
          ],
          [
           99.91680234802907,
           100,
           101.57437488883814
          ],
          [
           99.18153325506731,
           99.58798608771141,
           101.48327710556566
          ]
         ]
        },
        {
         "coloraxis": "coloraxis",
         "text": [
          [
           101.03544317533846,
           101.09893908883672,
           101.71575078004305
          ],
          [
           103.15523447269734,
           103.56043501711814,
           101.28979201895798
          ],
          [
           101.41975883891732,
           102.84611276050649,
           102.06231125889332
          ]
         ],
         "textfont": {
          "size": 8
         },
         "texttemplate": "%{text:.2f}%",
         "type": "heatmap",
         "x": [
          "0.1",
          "1",
          "10"
         ],
         "xaxis": "x8",
         "y": [
          "10",
          "1",
          "0.1"
         ],
         "yaxis": "y8",
         "z": [
          [
           101.03544317533846,
           101.09893908883672,
           101.71575078004305
          ],
          [
           103.15523447269734,
           103.56043501711814,
           101.28979201895798
          ],
          [
           101.41975883891732,
           102.84611276050649,
           102.06231125889332
          ]
         ]
        },
        {
         "coloraxis": "coloraxis",
         "text": [
          [
           94.39949476328866,
           96.13166423120302,
           99.13261276298584
          ],
          [
           94.31877985282516,
           95.87241822572669,
           99.49960552562892
          ],
          [
           94.99559182852934,
           95.77285912643406,
           99.30643688557352
          ]
         ],
         "textfont": {
          "size": 8
         },
         "texttemplate": "%{text:.2f}%",
         "type": "heatmap",
         "x": [
          "0.1",
          "1",
          "10"
         ],
         "xaxis": "x3",
         "y": [
          "10",
          "1",
          "0.1"
         ],
         "yaxis": "y3",
         "z": [
          [
           94.39949476328866,
           96.13166423120302,
           99.13261276298584
          ],
          [
           94.31877985282516,
           95.87241822572669,
           99.49960552562892
          ],
          [
           94.99559182852934,
           95.77285912643406,
           99.30643688557352
          ]
         ]
        },
        {
         "coloraxis": "coloraxis",
         "text": [
          [
           94.92765317553776,
           96.05572773792375,
           99.22357992301897
          ],
          [
           94.4193980734568,
           96.11415195561766,
           99.74701564752505
          ],
          [
           95.03499215314123,
           96.22096544175872,
           99.67254966822874
          ]
         ],
         "textfont": {
          "size": 8
         },
         "texttemplate": "%{text:.2f}%",
         "type": "heatmap",
         "x": [
          "0.1",
          "1",
          "10"
         ],
         "xaxis": "x6",
         "y": [
          "10",
          "1",
          "0.1"
         ],
         "yaxis": "y6",
         "z": [
          [
           94.92765317553776,
           96.05572773792375,
           99.22357992301897
          ],
          [
           94.4193980734568,
           96.11415195561766,
           99.74701564752505
          ],
          [
           95.03499215314123,
           96.22096544175872,
           99.67254966822874
          ]
         ]
        },
        {
         "coloraxis": "coloraxis",
         "text": [
          [
           95.00632742417575,
           96.80001807636135,
           100
          ],
          [
           97.82311152827508,
           99.9657800717267,
           99.93614437079951
          ],
          [
           97.28964919667598,
           99.71414907091037,
           100.70987322996292
          ]
         ],
         "textfont": {
          "size": 8
         },
         "texttemplate": "%{text:.2f}%",
         "type": "heatmap",
         "x": [
          "0.1",
          "1",
          "10"
         ],
         "xaxis": "x9",
         "y": [
          "10",
          "1",
          "0.1"
         ],
         "yaxis": "y9",
         "z": [
          [
           95.00632742417575,
           96.80001807636135,
           100
          ],
          [
           97.82311152827508,
           99.9657800717267,
           99.93614437079951
          ],
          [
           97.28964919667598,
           99.71414907091037,
           100.70987322996292
          ]
         ]
        }
       ],
       "layout": {
        "annotations": [
         {
          "font": {
           "size": 16
          },
          "showarrow": false,
          "text": "$t_4 = 0.1 \\quad \\eta = 0.1$",
          "x": 0.15,
          "xanchor": "center",
          "xref": "paper",
          "y": 1,
          "yanchor": "bottom",
          "yref": "paper"
         },
         {
          "font": {
           "size": 16
          },
          "showarrow": false,
          "text": "$t_4 = 0.1 \\quad \\eta = 1$",
          "x": 0.49999999999999994,
          "xanchor": "center",
          "xref": "paper",
          "y": 1,
          "yanchor": "bottom",
          "yref": "paper"
         },
         {
          "font": {
           "size": 16
          },
          "showarrow": false,
          "text": "$t_4 = 0.1 \\quad \\eta = 10$",
          "x": 0.85,
          "xanchor": "center",
          "xref": "paper",
          "y": 1,
          "yanchor": "bottom",
          "yref": "paper"
         },
         {
          "font": {
           "size": 16
          },
          "showarrow": false,
          "text": "$t_4 = 1 \\quad \\eta = 0.1$",
          "x": 0.15,
          "xanchor": "center",
          "xref": "paper",
          "y": 0.6333333333333333,
          "yanchor": "bottom",
          "yref": "paper"
         },
         {
          "font": {
           "size": 16
          },
          "showarrow": false,
          "text": "$t_4 = 1 \\quad \\eta = 1$",
          "x": 0.49999999999999994,
          "xanchor": "center",
          "xref": "paper",
          "y": 0.6333333333333333,
          "yanchor": "bottom",
          "yref": "paper"
         },
         {
          "font": {
           "size": 16
          },
          "showarrow": false,
          "text": "$t_4 = 1 \\quad \\eta = 10$",
          "x": 0.85,
          "xanchor": "center",
          "xref": "paper",
          "y": 0.6333333333333333,
          "yanchor": "bottom",
          "yref": "paper"
         },
         {
          "font": {
           "size": 16
          },
          "showarrow": false,
          "text": "$t_4 = 10 \\quad \\eta = 0.1$",
          "x": 0.15,
          "xanchor": "center",
          "xref": "paper",
          "y": 0.26666666666666666,
          "yanchor": "bottom",
          "yref": "paper"
         },
         {
          "font": {
           "size": 16
          },
          "showarrow": false,
          "text": "$t_4 = 10 \\quad \\eta = 1$",
          "x": 0.49999999999999994,
          "xanchor": "center",
          "xref": "paper",
          "y": 0.26666666666666666,
          "yanchor": "bottom",
          "yref": "paper"
         },
         {
          "font": {
           "size": 16
          },
          "showarrow": false,
          "text": "$t_4 = 10 \\quad \\eta = 10$",
          "x": 0.85,
          "xanchor": "center",
          "xref": "paper",
          "y": 0.26666666666666666,
          "yanchor": "bottom",
          "yref": "paper"
         }
        ],
        "coloraxis": {
         "colorscale": [
          [
           0,
           "#440154"
          ],
          [
           0.1111111111111111,
           "#482878"
          ],
          [
           0.2222222222222222,
           "#3e4989"
          ],
          [
           0.3333333333333333,
           "#31688e"
          ],
          [
           0.4444444444444444,
           "#26828e"
          ],
          [
           0.5555555555555556,
           "#1f9e89"
          ],
          [
           0.6666666666666666,
           "#35b779"
          ],
          [
           0.7777777777777778,
           "#6ece58"
          ],
          [
           0.8888888888888888,
           "#b5de2b"
          ],
          [
           1,
           "#fde725"
          ]
         ]
        },
        "height": 750,
        "template": {
         "data": {
          "bar": [
           {
            "error_x": {
             "color": "#2a3f5f"
            },
            "error_y": {
             "color": "#2a3f5f"
            },
            "marker": {
             "line": {
              "color": "#E5ECF6",
              "width": 0.5
             },
             "pattern": {
              "fillmode": "overlay",
              "size": 10,
              "solidity": 0.2
             }
            },
            "type": "bar"
           }
          ],
          "barpolar": [
           {
            "marker": {
             "line": {
              "color": "#E5ECF6",
              "width": 0.5
             },
             "pattern": {
              "fillmode": "overlay",
              "size": 10,
              "solidity": 0.2
             }
            },
            "type": "barpolar"
           }
          ],
          "carpet": [
           {
            "aaxis": {
             "endlinecolor": "#2a3f5f",
             "gridcolor": "white",
             "linecolor": "white",
             "minorgridcolor": "white",
             "startlinecolor": "#2a3f5f"
            },
            "baxis": {
             "endlinecolor": "#2a3f5f",
             "gridcolor": "white",
             "linecolor": "white",
             "minorgridcolor": "white",
             "startlinecolor": "#2a3f5f"
            },
            "type": "carpet"
           }
          ],
          "choropleth": [
           {
            "colorbar": {
             "outlinewidth": 0,
             "ticks": ""
            },
            "type": "choropleth"
           }
          ],
          "contour": [
           {
            "colorbar": {
             "outlinewidth": 0,
             "ticks": ""
            },
            "colorscale": [
             [
              0,
              "#0d0887"
             ],
             [
              0.1111111111111111,
              "#46039f"
             ],
             [
              0.2222222222222222,
              "#7201a8"
             ],
             [
              0.3333333333333333,
              "#9c179e"
             ],
             [
              0.4444444444444444,
              "#bd3786"
             ],
             [
              0.5555555555555556,
              "#d8576b"
             ],
             [
              0.6666666666666666,
              "#ed7953"
             ],
             [
              0.7777777777777778,
              "#fb9f3a"
             ],
             [
              0.8888888888888888,
              "#fdca26"
             ],
             [
              1,
              "#f0f921"
             ]
            ],
            "type": "contour"
           }
          ],
          "contourcarpet": [
           {
            "colorbar": {
             "outlinewidth": 0,
             "ticks": ""
            },
            "type": "contourcarpet"
           }
          ],
          "heatmap": [
           {
            "colorbar": {
             "outlinewidth": 0,
             "ticks": ""
            },
            "colorscale": [
             [
              0,
              "#0d0887"
             ],
             [
              0.1111111111111111,
              "#46039f"
             ],
             [
              0.2222222222222222,
              "#7201a8"
             ],
             [
              0.3333333333333333,
              "#9c179e"
             ],
             [
              0.4444444444444444,
              "#bd3786"
             ],
             [
              0.5555555555555556,
              "#d8576b"
             ],
             [
              0.6666666666666666,
              "#ed7953"
             ],
             [
              0.7777777777777778,
              "#fb9f3a"
             ],
             [
              0.8888888888888888,
              "#fdca26"
             ],
             [
              1,
              "#f0f921"
             ]
            ],
            "type": "heatmap"
           }
          ],
          "heatmapgl": [
           {
            "colorbar": {
             "outlinewidth": 0,
             "ticks": ""
            },
            "colorscale": [
             [
              0,
              "#0d0887"
             ],
             [
              0.1111111111111111,
              "#46039f"
             ],
             [
              0.2222222222222222,
              "#7201a8"
             ],
             [
              0.3333333333333333,
              "#9c179e"
             ],
             [
              0.4444444444444444,
              "#bd3786"
             ],
             [
              0.5555555555555556,
              "#d8576b"
             ],
             [
              0.6666666666666666,
              "#ed7953"
             ],
             [
              0.7777777777777778,
              "#fb9f3a"
             ],
             [
              0.8888888888888888,
              "#fdca26"
             ],
             [
              1,
              "#f0f921"
             ]
            ],
            "type": "heatmapgl"
           }
          ],
          "histogram": [
           {
            "marker": {
             "pattern": {
              "fillmode": "overlay",
              "size": 10,
              "solidity": 0.2
             }
            },
            "type": "histogram"
           }
          ],
          "histogram2d": [
           {
            "colorbar": {
             "outlinewidth": 0,
             "ticks": ""
            },
            "colorscale": [
             [
              0,
              "#0d0887"
             ],
             [
              0.1111111111111111,
              "#46039f"
             ],
             [
              0.2222222222222222,
              "#7201a8"
             ],
             [
              0.3333333333333333,
              "#9c179e"
             ],
             [
              0.4444444444444444,
              "#bd3786"
             ],
             [
              0.5555555555555556,
              "#d8576b"
             ],
             [
              0.6666666666666666,
              "#ed7953"
             ],
             [
              0.7777777777777778,
              "#fb9f3a"
             ],
             [
              0.8888888888888888,
              "#fdca26"
             ],
             [
              1,
              "#f0f921"
             ]
            ],
            "type": "histogram2d"
           }
          ],
          "histogram2dcontour": [
           {
            "colorbar": {
             "outlinewidth": 0,
             "ticks": ""
            },
            "colorscale": [
             [
              0,
              "#0d0887"
             ],
             [
              0.1111111111111111,
              "#46039f"
             ],
             [
              0.2222222222222222,
              "#7201a8"
             ],
             [
              0.3333333333333333,
              "#9c179e"
             ],
             [
              0.4444444444444444,
              "#bd3786"
             ],
             [
              0.5555555555555556,
              "#d8576b"
             ],
             [
              0.6666666666666666,
              "#ed7953"
             ],
             [
              0.7777777777777778,
              "#fb9f3a"
             ],
             [
              0.8888888888888888,
              "#fdca26"
             ],
             [
              1,
              "#f0f921"
             ]
            ],
            "type": "histogram2dcontour"
           }
          ],
          "mesh3d": [
           {
            "colorbar": {
             "outlinewidth": 0,
             "ticks": ""
            },
            "type": "mesh3d"
           }
          ],
          "parcoords": [
           {
            "line": {
             "colorbar": {
              "outlinewidth": 0,
              "ticks": ""
             }
            },
            "type": "parcoords"
           }
          ],
          "pie": [
           {
            "automargin": true,
            "type": "pie"
           }
          ],
          "scatter": [
           {
            "fillpattern": {
             "fillmode": "overlay",
             "size": 10,
             "solidity": 0.2
            },
            "type": "scatter"
           }
          ],
          "scatter3d": [
           {
            "line": {
             "colorbar": {
              "outlinewidth": 0,
              "ticks": ""
             }
            },
            "marker": {
             "colorbar": {
              "outlinewidth": 0,
              "ticks": ""
             }
            },
            "type": "scatter3d"
           }
          ],
          "scattercarpet": [
           {
            "marker": {
             "colorbar": {
              "outlinewidth": 0,
              "ticks": ""
             }
            },
            "type": "scattercarpet"
           }
          ],
          "scattergeo": [
           {
            "marker": {
             "colorbar": {
              "outlinewidth": 0,
              "ticks": ""
             }
            },
            "type": "scattergeo"
           }
          ],
          "scattergl": [
           {
            "marker": {
             "colorbar": {
              "outlinewidth": 0,
              "ticks": ""
             }
            },
            "type": "scattergl"
           }
          ],
          "scattermapbox": [
           {
            "marker": {
             "colorbar": {
              "outlinewidth": 0,
              "ticks": ""
             }
            },
            "type": "scattermapbox"
           }
          ],
          "scatterpolar": [
           {
            "marker": {
             "colorbar": {
              "outlinewidth": 0,
              "ticks": ""
             }
            },
            "type": "scatterpolar"
           }
          ],
          "scatterpolargl": [
           {
            "marker": {
             "colorbar": {
              "outlinewidth": 0,
              "ticks": ""
             }
            },
            "type": "scatterpolargl"
           }
          ],
          "scatterternary": [
           {
            "marker": {
             "colorbar": {
              "outlinewidth": 0,
              "ticks": ""
             }
            },
            "type": "scatterternary"
           }
          ],
          "surface": [
           {
            "colorbar": {
             "outlinewidth": 0,
             "ticks": ""
            },
            "colorscale": [
             [
              0,
              "#0d0887"
             ],
             [
              0.1111111111111111,
              "#46039f"
             ],
             [
              0.2222222222222222,
              "#7201a8"
             ],
             [
              0.3333333333333333,
              "#9c179e"
             ],
             [
              0.4444444444444444,
              "#bd3786"
             ],
             [
              0.5555555555555556,
              "#d8576b"
             ],
             [
              0.6666666666666666,
              "#ed7953"
             ],
             [
              0.7777777777777778,
              "#fb9f3a"
             ],
             [
              0.8888888888888888,
              "#fdca26"
             ],
             [
              1,
              "#f0f921"
             ]
            ],
            "type": "surface"
           }
          ],
          "table": [
           {
            "cells": {
             "fill": {
              "color": "#EBF0F8"
             },
             "line": {
              "color": "white"
             }
            },
            "header": {
             "fill": {
              "color": "#C8D4E3"
             },
             "line": {
              "color": "white"
             }
            },
            "type": "table"
           }
          ]
         },
         "layout": {
          "annotationdefaults": {
           "arrowcolor": "#2a3f5f",
           "arrowhead": 0,
           "arrowwidth": 1
          },
          "autotypenumbers": "strict",
          "coloraxis": {
           "colorbar": {
            "outlinewidth": 0,
            "ticks": ""
           }
          },
          "colorscale": {
           "diverging": [
            [
             0,
             "#8e0152"
            ],
            [
             0.1,
             "#c51b7d"
            ],
            [
             0.2,
             "#de77ae"
            ],
            [
             0.3,
             "#f1b6da"
            ],
            [
             0.4,
             "#fde0ef"
            ],
            [
             0.5,
             "#f7f7f7"
            ],
            [
             0.6,
             "#e6f5d0"
            ],
            [
             0.7,
             "#b8e186"
            ],
            [
             0.8,
             "#7fbc41"
            ],
            [
             0.9,
             "#4d9221"
            ],
            [
             1,
             "#276419"
            ]
           ],
           "sequential": [
            [
             0,
             "#0d0887"
            ],
            [
             0.1111111111111111,
             "#46039f"
            ],
            [
             0.2222222222222222,
             "#7201a8"
            ],
            [
             0.3333333333333333,
             "#9c179e"
            ],
            [
             0.4444444444444444,
             "#bd3786"
            ],
            [
             0.5555555555555556,
             "#d8576b"
            ],
            [
             0.6666666666666666,
             "#ed7953"
            ],
            [
             0.7777777777777778,
             "#fb9f3a"
            ],
            [
             0.8888888888888888,
             "#fdca26"
            ],
            [
             1,
             "#f0f921"
            ]
           ],
           "sequentialminus": [
            [
             0,
             "#0d0887"
            ],
            [
             0.1111111111111111,
             "#46039f"
            ],
            [
             0.2222222222222222,
             "#7201a8"
            ],
            [
             0.3333333333333333,
             "#9c179e"
            ],
            [
             0.4444444444444444,
             "#bd3786"
            ],
            [
             0.5555555555555556,
             "#d8576b"
            ],
            [
             0.6666666666666666,
             "#ed7953"
            ],
            [
             0.7777777777777778,
             "#fb9f3a"
            ],
            [
             0.8888888888888888,
             "#fdca26"
            ],
            [
             1,
             "#f0f921"
            ]
           ]
          },
          "colorway": [
           "#636efa",
           "#EF553B",
           "#00cc96",
           "#ab63fa",
           "#FFA15A",
           "#19d3f3",
           "#FF6692",
           "#B6E880",
           "#FF97FF",
           "#FECB52"
          ],
          "font": {
           "color": "#2a3f5f"
          },
          "geo": {
           "bgcolor": "white",
           "lakecolor": "white",
           "landcolor": "#E5ECF6",
           "showlakes": true,
           "showland": true,
           "subunitcolor": "white"
          },
          "hoverlabel": {
           "align": "left"
          },
          "hovermode": "closest",
          "mapbox": {
           "style": "light"
          },
          "paper_bgcolor": "white",
          "plot_bgcolor": "#E5ECF6",
          "polar": {
           "angularaxis": {
            "gridcolor": "white",
            "linecolor": "white",
            "ticks": ""
           },
           "bgcolor": "#E5ECF6",
           "radialaxis": {
            "gridcolor": "white",
            "linecolor": "white",
            "ticks": ""
           }
          },
          "scene": {
           "xaxis": {
            "backgroundcolor": "#E5ECF6",
            "gridcolor": "white",
            "gridwidth": 2,
            "linecolor": "white",
            "showbackground": true,
            "ticks": "",
            "zerolinecolor": "white"
           },
           "yaxis": {
            "backgroundcolor": "#E5ECF6",
            "gridcolor": "white",
            "gridwidth": 2,
            "linecolor": "white",
            "showbackground": true,
            "ticks": "",
            "zerolinecolor": "white"
           },
           "zaxis": {
            "backgroundcolor": "#E5ECF6",
            "gridcolor": "white",
            "gridwidth": 2,
            "linecolor": "white",
            "showbackground": true,
            "ticks": "",
            "zerolinecolor": "white"
           }
          },
          "shapedefaults": {
           "line": {
            "color": "#2a3f5f"
           }
          },
          "ternary": {
           "aaxis": {
            "gridcolor": "white",
            "linecolor": "white",
            "ticks": ""
           },
           "baxis": {
            "gridcolor": "white",
            "linecolor": "white",
            "ticks": ""
           },
           "bgcolor": "#E5ECF6",
           "caxis": {
            "gridcolor": "white",
            "linecolor": "white",
            "ticks": ""
           }
          },
          "title": {
           "x": 0.05
          },
          "xaxis": {
           "automargin": true,
           "gridcolor": "white",
           "linecolor": "white",
           "ticks": "",
           "title": {
            "standoff": 15
           },
           "zerolinecolor": "white",
           "zerolinewidth": 2
          },
          "yaxis": {
           "automargin": true,
           "gridcolor": "white",
           "linecolor": "white",
           "ticks": "",
           "title": {
            "standoff": 15
           },
           "zerolinecolor": "white",
           "zerolinewidth": 2
          }
         }
        },
        "xaxis": {
         "anchor": "y",
         "domain": [
          0,
          0.3
         ]
        },
        "xaxis2": {
         "anchor": "y2",
         "domain": [
          0.35,
          0.6499999999999999
         ]
        },
        "xaxis3": {
         "anchor": "y3",
         "domain": [
          0.7,
          1
         ]
        },
        "xaxis4": {
         "anchor": "y4",
         "domain": [
          0,
          0.3
         ]
        },
        "xaxis5": {
         "anchor": "y5",
         "domain": [
          0.35,
          0.6499999999999999
         ]
        },
        "xaxis6": {
         "anchor": "y6",
         "domain": [
          0.7,
          1
         ]
        },
        "xaxis7": {
         "anchor": "y7",
         "domain": [
          0,
          0.3
         ],
         "title": {
          "text": "$t_2$"
         }
        },
        "xaxis8": {
         "anchor": "y8",
         "domain": [
          0.35,
          0.6499999999999999
         ],
         "title": {
          "text": "$t_2$"
         }
        },
        "xaxis9": {
         "anchor": "y9",
         "domain": [
          0.7,
          1
         ],
         "title": {
          "text": "$t_2$"
         }
        },
        "yaxis": {
         "anchor": "x",
         "domain": [
          0.7333333333333334,
          1
         ],
         "title": {
          "text": "$t_3$"
         }
        },
        "yaxis2": {
         "anchor": "x2",
         "domain": [
          0.7333333333333334,
          1
         ]
        },
        "yaxis3": {
         "anchor": "x3",
         "domain": [
          0.7333333333333334,
          1
         ]
        },
        "yaxis4": {
         "anchor": "x4",
         "domain": [
          0.3666666666666667,
          0.6333333333333333
         ],
         "title": {
          "text": "$t_3$"
         }
        },
        "yaxis5": {
         "anchor": "x5",
         "domain": [
          0.3666666666666667,
          0.6333333333333333
         ]
        },
        "yaxis6": {
         "anchor": "x6",
         "domain": [
          0.3666666666666667,
          0.6333333333333333
         ]
        },
        "yaxis7": {
         "anchor": "x7",
         "domain": [
          0,
          0.26666666666666666
         ],
         "title": {
          "text": "$t_3$"
         }
        },
        "yaxis8": {
         "anchor": "x8",
         "domain": [
          0,
          0.26666666666666666
         ]
        },
        "yaxis9": {
         "anchor": "x9",
         "domain": [
          0,
          0.26666666666666666
         ]
        }
       }
      }
     },
     "metadata": {},
     "output_type": "display_data"
    }
   ],
   "source": [
    "import plotly.graph_objects as go\n",
    "from plotly.colors import DEFAULT_PLOTLY_COLORS\n",
    "from plotly.subplots import make_subplots\n",
    "import re\n",
    "\n",
    "fig = make_subplots(3, 3, subplot_titles=[\n",
    "    f'$t_4 = {t3} \\quad \\eta = {eta}$' for t3 in [0.1, 1, 10] for eta in [0.1, 1, 10]\n",
    "], horizontal_spacing=0.05, vertical_spacing=0.1)\n",
    "for j, x in enumerate([0.1, 1, 10]):\n",
    "    sens1 = sens[(sens.r1 == sens.r2) & (sens.r2 == sens.r3) & (sens.r1 == x)]\n",
    "    for i, (t3, d1) in enumerate(sens1.groupby('t3')):\n",
    "        z = d1.sort_values(['t2', 't1']).ratio.to_numpy().reshape(3, 3)\n",
    "        z = np.flipud(z)\n",
    "        fig.add_trace(go.Heatmap(\n",
    "            z=z*100,\n",
    "            x=['0.1', '1', '10'],\n",
    "            y=['10', '1', '0.1'],\n",
    "            coloraxis='coloraxis',\n",
    "            text=z*100,\n",
    "            texttemplate='%{text:.2f}%',\n",
    "            textfont={'size': 8}\n",
    "        ), row=i+1, col=j+1)\n",
    "fig.update_layout(\n",
    "    coloraxis={'colorscale': 'viridis'},\n",
    "    height=750,\n",
    ")\n",
    "fig.update_xaxes(title='$t_2$', row=3)\n",
    "fig.update_yaxes(title='$t_3$', col=1)\n",
    "fig.show()\n",
    "# fig.write_image('../figures/sensitivity.png')"
   ]
  },
  {
   "cell_type": "code",
   "execution_count": 4,
   "metadata": {},
   "outputs": [
    {
     "data": {
      "application/vnd.plotly.v1+json": {
       "config": {
        "plotlyServerURL": "https://plot.ly"
       },
       "data": [
        {
         "legendgroup": "0.1",
         "legendgrouptitle": {
          "text": "$\\eta = 0.1$"
         },
         "line": {
          "color": "rgba(31, 119, 180, 0.3333333333333333)"
         },
         "name": "$r_1$",
         "type": "scatter",
         "x": [
          0.1,
          1,
          10
         ],
         "y": [
          1,
          0.9983951874390982,
          0.9617913532090614
         ]
        },
        {
         "legendgroup": "1",
         "legendgrouptitle": {
          "text": "$\\eta = 1$"
         },
         "line": {
          "color": "rgba(31, 119, 180, 0.6666666666666666)"
         },
         "name": "$r_1$",
         "type": "scatter",
         "x": [
          0.1,
          1,
          10
         ],
         "y": [
          0.9909026618910088,
          1,
          0.9515830031369508
         ]
        },
        {
         "legendgroup": "10",
         "legendgrouptitle": {
          "text": "$\\eta = 10$"
         },
         "line": {
          "color": "rgba(31, 119, 180, 1.0)"
         },
         "name": "$r_1$",
         "type": "scatter",
         "x": [
          0.1,
          1,
          10
         ],
         "y": [
          0.9765141073076679,
          0.9989737112011576,
          1
         ]
        },
        {
         "legendgroup": "0.1",
         "legendgrouptitle": {
          "text": "$\\eta = 0.1$"
         },
         "line": {
          "color": "rgba(255, 127, 14, 0.3333333333333333)"
         },
         "name": "$r_2$",
         "type": "scatter",
         "x": [
          0.1,
          1,
          10
         ],
         "y": [
          1,
          0.98595009368899,
          0.9859749503331757
         ]
        },
        {
         "legendgroup": "1",
         "legendgrouptitle": {
          "text": "$\\eta = 1$"
         },
         "line": {
          "color": "rgba(255, 127, 14, 0.6666666666666666)"
         },
         "name": "$r_2$",
         "type": "scatter",
         "x": [
          0.1,
          1,
          10
         ],
         "y": [
          0.9949445908850874,
          1,
          0.9888659164696858
         ]
        },
        {
         "legendgroup": "10",
         "legendgrouptitle": {
          "text": "$\\eta = 10$"
         },
         "line": {
          "color": "rgba(255, 127, 14, 1.0)"
         },
         "name": "$r_2$",
         "type": "scatter",
         "x": [
          0.1,
          1,
          10
         ],
         "y": [
          0.9906519341628167,
          0.9941821548166991,
          1
         ]
        },
        {
         "legendgroup": "0.1",
         "legendgrouptitle": {
          "text": "$\\eta = 0.1$"
         },
         "line": {
          "color": "rgba(44, 160, 44, 0.3333333333333333)"
         },
         "name": "$r_3$",
         "type": "scatter",
         "x": [
          0.1,
          1,
          10
         ],
         "y": [
          1,
          1.0020326260407248,
          0.9807474380270947
         ]
        },
        {
         "legendgroup": "1",
         "legendgrouptitle": {
          "text": "$\\eta = 1$"
         },
         "line": {
          "color": "rgba(44, 160, 44, 0.6666666666666666)"
         },
         "name": "$r_3$",
         "type": "scatter",
         "x": [
          0.1,
          1,
          10
         ],
         "y": [
          0.9993193173715866,
          1,
          0.9620216091609727
         ]
        },
        {
         "legendgroup": "10",
         "legendgrouptitle": {
          "text": "$\\eta = 10$"
         },
         "line": {
          "color": "rgba(44, 160, 44, 1.0)"
         },
         "name": "$r_3$",
         "type": "scatter",
         "x": [
          0.1,
          1,
          10
         ],
         "y": [
          0.9946805316223777,
          0.9929032659518957,
          1
         ]
        }
       ],
       "layout": {
        "legend": {
         "groupclick": "toggleitem"
        },
        "template": {
         "data": {
          "bar": [
           {
            "error_x": {
             "color": "#2a3f5f"
            },
            "error_y": {
             "color": "#2a3f5f"
            },
            "marker": {
             "line": {
              "color": "#E5ECF6",
              "width": 0.5
             },
             "pattern": {
              "fillmode": "overlay",
              "size": 10,
              "solidity": 0.2
             }
            },
            "type": "bar"
           }
          ],
          "barpolar": [
           {
            "marker": {
             "line": {
              "color": "#E5ECF6",
              "width": 0.5
             },
             "pattern": {
              "fillmode": "overlay",
              "size": 10,
              "solidity": 0.2
             }
            },
            "type": "barpolar"
           }
          ],
          "carpet": [
           {
            "aaxis": {
             "endlinecolor": "#2a3f5f",
             "gridcolor": "white",
             "linecolor": "white",
             "minorgridcolor": "white",
             "startlinecolor": "#2a3f5f"
            },
            "baxis": {
             "endlinecolor": "#2a3f5f",
             "gridcolor": "white",
             "linecolor": "white",
             "minorgridcolor": "white",
             "startlinecolor": "#2a3f5f"
            },
            "type": "carpet"
           }
          ],
          "choropleth": [
           {
            "colorbar": {
             "outlinewidth": 0,
             "ticks": ""
            },
            "type": "choropleth"
           }
          ],
          "contour": [
           {
            "colorbar": {
             "outlinewidth": 0,
             "ticks": ""
            },
            "colorscale": [
             [
              0,
              "#0d0887"
             ],
             [
              0.1111111111111111,
              "#46039f"
             ],
             [
              0.2222222222222222,
              "#7201a8"
             ],
             [
              0.3333333333333333,
              "#9c179e"
             ],
             [
              0.4444444444444444,
              "#bd3786"
             ],
             [
              0.5555555555555556,
              "#d8576b"
             ],
             [
              0.6666666666666666,
              "#ed7953"
             ],
             [
              0.7777777777777778,
              "#fb9f3a"
             ],
             [
              0.8888888888888888,
              "#fdca26"
             ],
             [
              1,
              "#f0f921"
             ]
            ],
            "type": "contour"
           }
          ],
          "contourcarpet": [
           {
            "colorbar": {
             "outlinewidth": 0,
             "ticks": ""
            },
            "type": "contourcarpet"
           }
          ],
          "heatmap": [
           {
            "colorbar": {
             "outlinewidth": 0,
             "ticks": ""
            },
            "colorscale": [
             [
              0,
              "#0d0887"
             ],
             [
              0.1111111111111111,
              "#46039f"
             ],
             [
              0.2222222222222222,
              "#7201a8"
             ],
             [
              0.3333333333333333,
              "#9c179e"
             ],
             [
              0.4444444444444444,
              "#bd3786"
             ],
             [
              0.5555555555555556,
              "#d8576b"
             ],
             [
              0.6666666666666666,
              "#ed7953"
             ],
             [
              0.7777777777777778,
              "#fb9f3a"
             ],
             [
              0.8888888888888888,
              "#fdca26"
             ],
             [
              1,
              "#f0f921"
             ]
            ],
            "type": "heatmap"
           }
          ],
          "heatmapgl": [
           {
            "colorbar": {
             "outlinewidth": 0,
             "ticks": ""
            },
            "colorscale": [
             [
              0,
              "#0d0887"
             ],
             [
              0.1111111111111111,
              "#46039f"
             ],
             [
              0.2222222222222222,
              "#7201a8"
             ],
             [
              0.3333333333333333,
              "#9c179e"
             ],
             [
              0.4444444444444444,
              "#bd3786"
             ],
             [
              0.5555555555555556,
              "#d8576b"
             ],
             [
              0.6666666666666666,
              "#ed7953"
             ],
             [
              0.7777777777777778,
              "#fb9f3a"
             ],
             [
              0.8888888888888888,
              "#fdca26"
             ],
             [
              1,
              "#f0f921"
             ]
            ],
            "type": "heatmapgl"
           }
          ],
          "histogram": [
           {
            "marker": {
             "pattern": {
              "fillmode": "overlay",
              "size": 10,
              "solidity": 0.2
             }
            },
            "type": "histogram"
           }
          ],
          "histogram2d": [
           {
            "colorbar": {
             "outlinewidth": 0,
             "ticks": ""
            },
            "colorscale": [
             [
              0,
              "#0d0887"
             ],
             [
              0.1111111111111111,
              "#46039f"
             ],
             [
              0.2222222222222222,
              "#7201a8"
             ],
             [
              0.3333333333333333,
              "#9c179e"
             ],
             [
              0.4444444444444444,
              "#bd3786"
             ],
             [
              0.5555555555555556,
              "#d8576b"
             ],
             [
              0.6666666666666666,
              "#ed7953"
             ],
             [
              0.7777777777777778,
              "#fb9f3a"
             ],
             [
              0.8888888888888888,
              "#fdca26"
             ],
             [
              1,
              "#f0f921"
             ]
            ],
            "type": "histogram2d"
           }
          ],
          "histogram2dcontour": [
           {
            "colorbar": {
             "outlinewidth": 0,
             "ticks": ""
            },
            "colorscale": [
             [
              0,
              "#0d0887"
             ],
             [
              0.1111111111111111,
              "#46039f"
             ],
             [
              0.2222222222222222,
              "#7201a8"
             ],
             [
              0.3333333333333333,
              "#9c179e"
             ],
             [
              0.4444444444444444,
              "#bd3786"
             ],
             [
              0.5555555555555556,
              "#d8576b"
             ],
             [
              0.6666666666666666,
              "#ed7953"
             ],
             [
              0.7777777777777778,
              "#fb9f3a"
             ],
             [
              0.8888888888888888,
              "#fdca26"
             ],
             [
              1,
              "#f0f921"
             ]
            ],
            "type": "histogram2dcontour"
           }
          ],
          "mesh3d": [
           {
            "colorbar": {
             "outlinewidth": 0,
             "ticks": ""
            },
            "type": "mesh3d"
           }
          ],
          "parcoords": [
           {
            "line": {
             "colorbar": {
              "outlinewidth": 0,
              "ticks": ""
             }
            },
            "type": "parcoords"
           }
          ],
          "pie": [
           {
            "automargin": true,
            "type": "pie"
           }
          ],
          "scatter": [
           {
            "fillpattern": {
             "fillmode": "overlay",
             "size": 10,
             "solidity": 0.2
            },
            "type": "scatter"
           }
          ],
          "scatter3d": [
           {
            "line": {
             "colorbar": {
              "outlinewidth": 0,
              "ticks": ""
             }
            },
            "marker": {
             "colorbar": {
              "outlinewidth": 0,
              "ticks": ""
             }
            },
            "type": "scatter3d"
           }
          ],
          "scattercarpet": [
           {
            "marker": {
             "colorbar": {
              "outlinewidth": 0,
              "ticks": ""
             }
            },
            "type": "scattercarpet"
           }
          ],
          "scattergeo": [
           {
            "marker": {
             "colorbar": {
              "outlinewidth": 0,
              "ticks": ""
             }
            },
            "type": "scattergeo"
           }
          ],
          "scattergl": [
           {
            "marker": {
             "colorbar": {
              "outlinewidth": 0,
              "ticks": ""
             }
            },
            "type": "scattergl"
           }
          ],
          "scattermapbox": [
           {
            "marker": {
             "colorbar": {
              "outlinewidth": 0,
              "ticks": ""
             }
            },
            "type": "scattermapbox"
           }
          ],
          "scatterpolar": [
           {
            "marker": {
             "colorbar": {
              "outlinewidth": 0,
              "ticks": ""
             }
            },
            "type": "scatterpolar"
           }
          ],
          "scatterpolargl": [
           {
            "marker": {
             "colorbar": {
              "outlinewidth": 0,
              "ticks": ""
             }
            },
            "type": "scatterpolargl"
           }
          ],
          "scatterternary": [
           {
            "marker": {
             "colorbar": {
              "outlinewidth": 0,
              "ticks": ""
             }
            },
            "type": "scatterternary"
           }
          ],
          "surface": [
           {
            "colorbar": {
             "outlinewidth": 0,
             "ticks": ""
            },
            "colorscale": [
             [
              0,
              "#0d0887"
             ],
             [
              0.1111111111111111,
              "#46039f"
             ],
             [
              0.2222222222222222,
              "#7201a8"
             ],
             [
              0.3333333333333333,
              "#9c179e"
             ],
             [
              0.4444444444444444,
              "#bd3786"
             ],
             [
              0.5555555555555556,
              "#d8576b"
             ],
             [
              0.6666666666666666,
              "#ed7953"
             ],
             [
              0.7777777777777778,
              "#fb9f3a"
             ],
             [
              0.8888888888888888,
              "#fdca26"
             ],
             [
              1,
              "#f0f921"
             ]
            ],
            "type": "surface"
           }
          ],
          "table": [
           {
            "cells": {
             "fill": {
              "color": "#EBF0F8"
             },
             "line": {
              "color": "white"
             }
            },
            "header": {
             "fill": {
              "color": "#C8D4E3"
             },
             "line": {
              "color": "white"
             }
            },
            "type": "table"
           }
          ]
         },
         "layout": {
          "annotationdefaults": {
           "arrowcolor": "#2a3f5f",
           "arrowhead": 0,
           "arrowwidth": 1
          },
          "autotypenumbers": "strict",
          "coloraxis": {
           "colorbar": {
            "outlinewidth": 0,
            "ticks": ""
           }
          },
          "colorscale": {
           "diverging": [
            [
             0,
             "#8e0152"
            ],
            [
             0.1,
             "#c51b7d"
            ],
            [
             0.2,
             "#de77ae"
            ],
            [
             0.3,
             "#f1b6da"
            ],
            [
             0.4,
             "#fde0ef"
            ],
            [
             0.5,
             "#f7f7f7"
            ],
            [
             0.6,
             "#e6f5d0"
            ],
            [
             0.7,
             "#b8e186"
            ],
            [
             0.8,
             "#7fbc41"
            ],
            [
             0.9,
             "#4d9221"
            ],
            [
             1,
             "#276419"
            ]
           ],
           "sequential": [
            [
             0,
             "#0d0887"
            ],
            [
             0.1111111111111111,
             "#46039f"
            ],
            [
             0.2222222222222222,
             "#7201a8"
            ],
            [
             0.3333333333333333,
             "#9c179e"
            ],
            [
             0.4444444444444444,
             "#bd3786"
            ],
            [
             0.5555555555555556,
             "#d8576b"
            ],
            [
             0.6666666666666666,
             "#ed7953"
            ],
            [
             0.7777777777777778,
             "#fb9f3a"
            ],
            [
             0.8888888888888888,
             "#fdca26"
            ],
            [
             1,
             "#f0f921"
            ]
           ],
           "sequentialminus": [
            [
             0,
             "#0d0887"
            ],
            [
             0.1111111111111111,
             "#46039f"
            ],
            [
             0.2222222222222222,
             "#7201a8"
            ],
            [
             0.3333333333333333,
             "#9c179e"
            ],
            [
             0.4444444444444444,
             "#bd3786"
            ],
            [
             0.5555555555555556,
             "#d8576b"
            ],
            [
             0.6666666666666666,
             "#ed7953"
            ],
            [
             0.7777777777777778,
             "#fb9f3a"
            ],
            [
             0.8888888888888888,
             "#fdca26"
            ],
            [
             1,
             "#f0f921"
            ]
           ]
          },
          "colorway": [
           "#636efa",
           "#EF553B",
           "#00cc96",
           "#ab63fa",
           "#FFA15A",
           "#19d3f3",
           "#FF6692",
           "#B6E880",
           "#FF97FF",
           "#FECB52"
          ],
          "font": {
           "color": "#2a3f5f"
          },
          "geo": {
           "bgcolor": "white",
           "lakecolor": "white",
           "landcolor": "#E5ECF6",
           "showlakes": true,
           "showland": true,
           "subunitcolor": "white"
          },
          "hoverlabel": {
           "align": "left"
          },
          "hovermode": "closest",
          "mapbox": {
           "style": "light"
          },
          "paper_bgcolor": "white",
          "plot_bgcolor": "#E5ECF6",
          "polar": {
           "angularaxis": {
            "gridcolor": "white",
            "linecolor": "white",
            "ticks": ""
           },
           "bgcolor": "#E5ECF6",
           "radialaxis": {
            "gridcolor": "white",
            "linecolor": "white",
            "ticks": ""
           }
          },
          "scene": {
           "xaxis": {
            "backgroundcolor": "#E5ECF6",
            "gridcolor": "white",
            "gridwidth": 2,
            "linecolor": "white",
            "showbackground": true,
            "ticks": "",
            "zerolinecolor": "white"
           },
           "yaxis": {
            "backgroundcolor": "#E5ECF6",
            "gridcolor": "white",
            "gridwidth": 2,
            "linecolor": "white",
            "showbackground": true,
            "ticks": "",
            "zerolinecolor": "white"
           },
           "zaxis": {
            "backgroundcolor": "#E5ECF6",
            "gridcolor": "white",
            "gridwidth": 2,
            "linecolor": "white",
            "showbackground": true,
            "ticks": "",
            "zerolinecolor": "white"
           }
          },
          "shapedefaults": {
           "line": {
            "color": "#2a3f5f"
           }
          },
          "ternary": {
           "aaxis": {
            "gridcolor": "white",
            "linecolor": "white",
            "ticks": ""
           },
           "baxis": {
            "gridcolor": "white",
            "linecolor": "white",
            "ticks": ""
           },
           "bgcolor": "#E5ECF6",
           "caxis": {
            "gridcolor": "white",
            "linecolor": "white",
            "ticks": ""
           }
          },
          "title": {
           "x": 0.05
          },
          "xaxis": {
           "automargin": true,
           "gridcolor": "white",
           "linecolor": "white",
           "ticks": "",
           "title": {
            "standoff": 15
           },
           "zerolinecolor": "white",
           "zerolinewidth": 2
          },
          "yaxis": {
           "automargin": true,
           "gridcolor": "white",
           "linecolor": "white",
           "ticks": "",
           "title": {
            "standoff": 15
           },
           "zerolinecolor": "white",
           "zerolinewidth": 2
          }
         }
        },
        "xaxis": {
         "type": "log"
        }
       }
      }
     },
     "metadata": {},
     "output_type": "display_data"
    }
   ],
   "source": [
    "import plotly.express as px\n",
    "from functools import reduce\n",
    "from plotly.colors import DEFAULT_PLOTLY_COLORS\n",
    "\n",
    "fig = go.Figure()\n",
    "for i, r in enumerate([1, 2, 3]):\n",
    "    cond = reduce(lambda x, y: x & y, [sens[f'r{rx}'] == sens.t1 for rx in [1, 2, 3] if rx != r])\n",
    "    sens_temp = sens[(sens.t1 == sens.t2) & (sens.t2 == sens.t3) & cond]\n",
    "    color = DEFAULT_PLOTLY_COLORS[i].split('(')[1].split(')')[0].split(', ')\n",
    "\n",
    "    for j, eta in enumerate([0.1, 1, 10]):\n",
    "        sens_eta = sens_temp[sens_temp.t1 == eta].sort_values(f'r{r}')\n",
    "        fig.add_trace(go.Scatter(\n",
    "            x=sens_eta[f'r{r}'], y=sens_eta.ratio, legendgroup=eta, legendgrouptitle_text=f'$\\eta = {eta}$',\n",
    "            name=f'$r_{r}$', line_color=f'rgba({\", \".join(color)}, {(j+1)/3})'\n",
    "        ))\n",
    "\n",
    "fig.update_xaxes(type='log')\n",
    "fig.update_layout(legend=dict(groupclick=\"toggleitem\"))\n",
    "fig.show()\n",
    "# fig.write_image('r2.png')"
   ]
  }
 ],
 "metadata": {
  "kernelspec": {
   "display_name": "Python 3.8.10 ('venv': venv)",
   "language": "python",
   "name": "python3"
  },
  "language_info": {
   "codemirror_mode": {
    "name": "ipython",
    "version": 3
   },
   "file_extension": ".py",
   "mimetype": "text/x-python",
   "name": "python",
   "nbconvert_exporter": "python",
   "pygments_lexer": "ipython3",
   "version": "3.8.10"
  },
  "orig_nbformat": 4,
  "vscode": {
   "interpreter": {
    "hash": "60b632efd347e20e25c647ed7731ea15f30ac276af9e5a993cbe7dbb446a6ac7"
   }
  }
 },
 "nbformat": 4,
 "nbformat_minor": 2
}
