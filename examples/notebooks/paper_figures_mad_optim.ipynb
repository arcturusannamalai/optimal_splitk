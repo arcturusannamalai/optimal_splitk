{
 "cells": [
  {
   "cell_type": "code",
   "execution_count": 1,
   "metadata": {},
   "outputs": [],
   "source": [
    "import numpy as np\n",
    "import pandas as pd\n",
    "np.set_printoptions(precision=3)\n",
    "\n",
    "file = 'sensitivity_10_1e5.csv'\n",
    "\n",
    "def mad(df):\n",
    "    return (df - df.median()).abs().median()"
   ]
  },
  {
   "cell_type": "code",
   "execution_count": 2,
   "metadata": {},
   "outputs": [
    {
     "data": {
      "text/html": [
       "<div>\n",
       "<style scoped>\n",
       "    .dataframe tbody tr th:only-of-type {\n",
       "        vertical-align: middle;\n",
       "    }\n",
       "\n",
       "    .dataframe tbody tr th {\n",
       "        vertical-align: top;\n",
       "    }\n",
       "\n",
       "    .dataframe thead tr th {\n",
       "        text-align: left;\n",
       "    }\n",
       "</style>\n",
       "<table border=\"1\" class=\"dataframe\">\n",
       "  <thead>\n",
       "    <tr>\n",
       "      <th></th>\n",
       "      <th>r1</th>\n",
       "      <th>r2</th>\n",
       "      <th>r3</th>\n",
       "      <th colspan=\"2\" halign=\"left\">det</th>\n",
       "      <th colspan=\"2\" halign=\"left\">det_true</th>\n",
       "      <th>ratio</th>\n",
       "    </tr>\n",
       "    <tr>\n",
       "      <th></th>\n",
       "      <th></th>\n",
       "      <th></th>\n",
       "      <th></th>\n",
       "      <th>mad</th>\n",
       "      <th>median</th>\n",
       "      <th>mad</th>\n",
       "      <th>median</th>\n",
       "      <th></th>\n",
       "    </tr>\n",
       "  </thead>\n",
       "  <tbody>\n",
       "    <tr>\n",
       "      <th>0</th>\n",
       "      <td>0.1</td>\n",
       "      <td>0.1</td>\n",
       "      <td>0.1</td>\n",
       "      <td>3.427852e-04</td>\n",
       "      <td>11.488274</td>\n",
       "      <td>1.664354</td>\n",
       "      <td>4.308576</td>\n",
       "      <td>2.983783e-05</td>\n",
       "    </tr>\n",
       "    <tr>\n",
       "      <th>1</th>\n",
       "      <td>0.1</td>\n",
       "      <td>0.1</td>\n",
       "      <td>1.0</td>\n",
       "      <td>2.445812e-03</td>\n",
       "      <td>9.317828</td>\n",
       "      <td>1.661183</td>\n",
       "      <td>4.302993</td>\n",
       "      <td>2.624874e-04</td>\n",
       "    </tr>\n",
       "    <tr>\n",
       "      <th>2</th>\n",
       "      <td>0.1</td>\n",
       "      <td>0.1</td>\n",
       "      <td>10.0</td>\n",
       "      <td>5.822396e-04</td>\n",
       "      <td>6.845921</td>\n",
       "      <td>1.698494</td>\n",
       "      <td>4.302488</td>\n",
       "      <td>8.504914e-05</td>\n",
       "    </tr>\n",
       "    <tr>\n",
       "      <th>3</th>\n",
       "      <td>0.1</td>\n",
       "      <td>1.0</td>\n",
       "      <td>0.1</td>\n",
       "      <td>1.211174e-03</td>\n",
       "      <td>8.447628</td>\n",
       "      <td>1.574803</td>\n",
       "      <td>4.350253</td>\n",
       "      <td>1.433744e-04</td>\n",
       "    </tr>\n",
       "    <tr>\n",
       "      <th>4</th>\n",
       "      <td>0.1</td>\n",
       "      <td>1.0</td>\n",
       "      <td>1.0</td>\n",
       "      <td>9.926816e-04</td>\n",
       "      <td>7.488980</td>\n",
       "      <td>1.575495</td>\n",
       "      <td>4.351099</td>\n",
       "      <td>1.325523e-04</td>\n",
       "    </tr>\n",
       "    <tr>\n",
       "      <th>5</th>\n",
       "      <td>0.1</td>\n",
       "      <td>1.0</td>\n",
       "      <td>10.0</td>\n",
       "      <td>9.620019e-04</td>\n",
       "      <td>5.699785</td>\n",
       "      <td>1.615442</td>\n",
       "      <td>4.326397</td>\n",
       "      <td>1.687786e-04</td>\n",
       "    </tr>\n",
       "    <tr>\n",
       "      <th>6</th>\n",
       "      <td>0.1</td>\n",
       "      <td>10.0</td>\n",
       "      <td>0.1</td>\n",
       "      <td>8.723427e-04</td>\n",
       "      <td>4.751760</td>\n",
       "      <td>1.575203</td>\n",
       "      <td>4.350253</td>\n",
       "      <td>1.835831e-04</td>\n",
       "    </tr>\n",
       "    <tr>\n",
       "      <th>7</th>\n",
       "      <td>0.1</td>\n",
       "      <td>10.0</td>\n",
       "      <td>1.0</td>\n",
       "      <td>4.801992e-04</td>\n",
       "      <td>4.636697</td>\n",
       "      <td>1.574880</td>\n",
       "      <td>4.350248</td>\n",
       "      <td>1.035649e-04</td>\n",
       "    </tr>\n",
       "    <tr>\n",
       "      <th>8</th>\n",
       "      <td>0.1</td>\n",
       "      <td>10.0</td>\n",
       "      <td>10.0</td>\n",
       "      <td>9.036149e-04</td>\n",
       "      <td>4.045476</td>\n",
       "      <td>1.603087</td>\n",
       "      <td>4.315084</td>\n",
       "      <td>2.233643e-04</td>\n",
       "    </tr>\n",
       "    <tr>\n",
       "      <th>9</th>\n",
       "      <td>1.0</td>\n",
       "      <td>0.1</td>\n",
       "      <td>0.1</td>\n",
       "      <td>1.332268e-15</td>\n",
       "      <td>7.611300</td>\n",
       "      <td>1.555677</td>\n",
       "      <td>4.326486</td>\n",
       "      <td>1.750381e-16</td>\n",
       "    </tr>\n",
       "    <tr>\n",
       "      <th>10</th>\n",
       "      <td>1.0</td>\n",
       "      <td>0.1</td>\n",
       "      <td>1.0</td>\n",
       "      <td>4.577808e-04</td>\n",
       "      <td>6.527704</td>\n",
       "      <td>1.556046</td>\n",
       "      <td>4.326855</td>\n",
       "      <td>7.012891e-05</td>\n",
       "    </tr>\n",
       "    <tr>\n",
       "      <th>11</th>\n",
       "      <td>1.0</td>\n",
       "      <td>0.1</td>\n",
       "      <td>10.0</td>\n",
       "      <td>1.063768e-03</td>\n",
       "      <td>4.882125</td>\n",
       "      <td>1.557585</td>\n",
       "      <td>4.328470</td>\n",
       "      <td>2.178905e-04</td>\n",
       "    </tr>\n",
       "    <tr>\n",
       "      <th>12</th>\n",
       "      <td>1.0</td>\n",
       "      <td>1.0</td>\n",
       "      <td>0.1</td>\n",
       "      <td>4.574247e-05</td>\n",
       "      <td>6.233425</td>\n",
       "      <td>1.574791</td>\n",
       "      <td>4.350253</td>\n",
       "      <td>7.338255e-06</td>\n",
       "    </tr>\n",
       "    <tr>\n",
       "      <th>13</th>\n",
       "      <td>1.0</td>\n",
       "      <td>1.0</td>\n",
       "      <td>1.0</td>\n",
       "      <td>7.819888e-04</td>\n",
       "      <td>5.636498</td>\n",
       "      <td>1.575255</td>\n",
       "      <td>4.350890</td>\n",
       "      <td>1.387366e-04</td>\n",
       "    </tr>\n",
       "    <tr>\n",
       "      <th>14</th>\n",
       "      <td>1.0</td>\n",
       "      <td>1.0</td>\n",
       "      <td>10.0</td>\n",
       "      <td>9.529066e-05</td>\n",
       "      <td>4.350323</td>\n",
       "      <td>1.574782</td>\n",
       "      <td>4.350323</td>\n",
       "      <td>2.190427e-05</td>\n",
       "    </tr>\n",
       "    <tr>\n",
       "      <th>15</th>\n",
       "      <td>1.0</td>\n",
       "      <td>10.0</td>\n",
       "      <td>0.1</td>\n",
       "      <td>4.086574e-04</td>\n",
       "      <td>3.744420</td>\n",
       "      <td>1.574716</td>\n",
       "      <td>4.350253</td>\n",
       "      <td>1.091377e-04</td>\n",
       "    </tr>\n",
       "    <tr>\n",
       "      <th>16</th>\n",
       "      <td>1.0</td>\n",
       "      <td>10.0</td>\n",
       "      <td>1.0</td>\n",
       "      <td>3.454985e-04</td>\n",
       "      <td>3.656385</td>\n",
       "      <td>1.574791</td>\n",
       "      <td>4.350253</td>\n",
       "      <td>9.449184e-05</td>\n",
       "    </tr>\n",
       "    <tr>\n",
       "      <th>17</th>\n",
       "      <td>1.0</td>\n",
       "      <td>10.0</td>\n",
       "      <td>10.0</td>\n",
       "      <td>3.790971e-04</td>\n",
       "      <td>3.199140</td>\n",
       "      <td>1.574694</td>\n",
       "      <td>4.350478</td>\n",
       "      <td>1.184997e-04</td>\n",
       "    </tr>\n",
       "    <tr>\n",
       "      <th>18</th>\n",
       "      <td>10.0</td>\n",
       "      <td>0.1</td>\n",
       "      <td>0.1</td>\n",
       "      <td>8.169633e-04</td>\n",
       "      <td>3.052813</td>\n",
       "      <td>1.483031</td>\n",
       "      <td>4.283233</td>\n",
       "      <td>2.676100e-04</td>\n",
       "    </tr>\n",
       "    <tr>\n",
       "      <th>19</th>\n",
       "      <td>10.0</td>\n",
       "      <td>0.1</td>\n",
       "      <td>1.0</td>\n",
       "      <td>2.574233e-03</td>\n",
       "      <td>2.920517</td>\n",
       "      <td>1.496308</td>\n",
       "      <td>4.297981</td>\n",
       "      <td>8.814306e-04</td>\n",
       "    </tr>\n",
       "    <tr>\n",
       "      <th>20</th>\n",
       "      <td>10.0</td>\n",
       "      <td>0.1</td>\n",
       "      <td>10.0</td>\n",
       "      <td>5.113312e-04</td>\n",
       "      <td>2.420607</td>\n",
       "      <td>1.495527</td>\n",
       "      <td>4.298098</td>\n",
       "      <td>2.112409e-04</td>\n",
       "    </tr>\n",
       "    <tr>\n",
       "      <th>21</th>\n",
       "      <td>10.0</td>\n",
       "      <td>1.0</td>\n",
       "      <td>0.1</td>\n",
       "      <td>1.213835e-03</td>\n",
       "      <td>2.913524</td>\n",
       "      <td>1.500809</td>\n",
       "      <td>4.302916</td>\n",
       "      <td>4.166210e-04</td>\n",
       "    </tr>\n",
       "    <tr>\n",
       "      <th>22</th>\n",
       "      <td>10.0</td>\n",
       "      <td>1.0</td>\n",
       "      <td>1.0</td>\n",
       "      <td>2.571436e-03</td>\n",
       "      <td>2.803985</td>\n",
       "      <td>1.493295</td>\n",
       "      <td>4.297281</td>\n",
       "      <td>9.170648e-04</td>\n",
       "    </tr>\n",
       "    <tr>\n",
       "      <th>23</th>\n",
       "      <td>10.0</td>\n",
       "      <td>1.0</td>\n",
       "      <td>10.0</td>\n",
       "      <td>7.894140e-04</td>\n",
       "      <td>2.351205</td>\n",
       "      <td>1.502714</td>\n",
       "      <td>4.307743</td>\n",
       "      <td>3.357487e-04</td>\n",
       "    </tr>\n",
       "    <tr>\n",
       "      <th>24</th>\n",
       "      <td>10.0</td>\n",
       "      <td>10.0</td>\n",
       "      <td>0.1</td>\n",
       "      <td>4.744980e-04</td>\n",
       "      <td>2.249044</td>\n",
       "      <td>1.515284</td>\n",
       "      <td>4.310527</td>\n",
       "      <td>2.109777e-04</td>\n",
       "    </tr>\n",
       "    <tr>\n",
       "      <th>25</th>\n",
       "      <td>10.0</td>\n",
       "      <td>10.0</td>\n",
       "      <td>1.0</td>\n",
       "      <td>4.430116e-04</td>\n",
       "      <td>2.210031</td>\n",
       "      <td>1.514216</td>\n",
       "      <td>4.309160</td>\n",
       "      <td>2.004549e-04</td>\n",
       "    </tr>\n",
       "    <tr>\n",
       "      <th>26</th>\n",
       "      <td>10.0</td>\n",
       "      <td>10.0</td>\n",
       "      <td>10.0</td>\n",
       "      <td>2.813574e-04</td>\n",
       "      <td>1.981430</td>\n",
       "      <td>1.516841</td>\n",
       "      <td>4.311826</td>\n",
       "      <td>1.419971e-04</td>\n",
       "    </tr>\n",
       "  </tbody>\n",
       "</table>\n",
       "</div>"
      ],
      "text/plain": [
       "      r1    r2    r3           det             det_true            \\\n",
       "                               mad     median       mad    median   \n",
       "0    0.1   0.1   0.1  3.427852e-04  11.488274  1.664354  4.308576   \n",
       "1    0.1   0.1   1.0  2.445812e-03   9.317828  1.661183  4.302993   \n",
       "2    0.1   0.1  10.0  5.822396e-04   6.845921  1.698494  4.302488   \n",
       "3    0.1   1.0   0.1  1.211174e-03   8.447628  1.574803  4.350253   \n",
       "4    0.1   1.0   1.0  9.926816e-04   7.488980  1.575495  4.351099   \n",
       "5    0.1   1.0  10.0  9.620019e-04   5.699785  1.615442  4.326397   \n",
       "6    0.1  10.0   0.1  8.723427e-04   4.751760  1.575203  4.350253   \n",
       "7    0.1  10.0   1.0  4.801992e-04   4.636697  1.574880  4.350248   \n",
       "8    0.1  10.0  10.0  9.036149e-04   4.045476  1.603087  4.315084   \n",
       "9    1.0   0.1   0.1  1.332268e-15   7.611300  1.555677  4.326486   \n",
       "10   1.0   0.1   1.0  4.577808e-04   6.527704  1.556046  4.326855   \n",
       "11   1.0   0.1  10.0  1.063768e-03   4.882125  1.557585  4.328470   \n",
       "12   1.0   1.0   0.1  4.574247e-05   6.233425  1.574791  4.350253   \n",
       "13   1.0   1.0   1.0  7.819888e-04   5.636498  1.575255  4.350890   \n",
       "14   1.0   1.0  10.0  9.529066e-05   4.350323  1.574782  4.350323   \n",
       "15   1.0  10.0   0.1  4.086574e-04   3.744420  1.574716  4.350253   \n",
       "16   1.0  10.0   1.0  3.454985e-04   3.656385  1.574791  4.350253   \n",
       "17   1.0  10.0  10.0  3.790971e-04   3.199140  1.574694  4.350478   \n",
       "18  10.0   0.1   0.1  8.169633e-04   3.052813  1.483031  4.283233   \n",
       "19  10.0   0.1   1.0  2.574233e-03   2.920517  1.496308  4.297981   \n",
       "20  10.0   0.1  10.0  5.113312e-04   2.420607  1.495527  4.298098   \n",
       "21  10.0   1.0   0.1  1.213835e-03   2.913524  1.500809  4.302916   \n",
       "22  10.0   1.0   1.0  2.571436e-03   2.803985  1.493295  4.297281   \n",
       "23  10.0   1.0  10.0  7.894140e-04   2.351205  1.502714  4.307743   \n",
       "24  10.0  10.0   0.1  4.744980e-04   2.249044  1.515284  4.310527   \n",
       "25  10.0  10.0   1.0  4.430116e-04   2.210031  1.514216  4.309160   \n",
       "26  10.0  10.0  10.0  2.813574e-04   1.981430  1.516841  4.311826   \n",
       "\n",
       "           ratio  \n",
       "                  \n",
       "0   2.983783e-05  \n",
       "1   2.624874e-04  \n",
       "2   8.504914e-05  \n",
       "3   1.433744e-04  \n",
       "4   1.325523e-04  \n",
       "5   1.687786e-04  \n",
       "6   1.835831e-04  \n",
       "7   1.035649e-04  \n",
       "8   2.233643e-04  \n",
       "9   1.750381e-16  \n",
       "10  7.012891e-05  \n",
       "11  2.178905e-04  \n",
       "12  7.338255e-06  \n",
       "13  1.387366e-04  \n",
       "14  2.190427e-05  \n",
       "15  1.091377e-04  \n",
       "16  9.449184e-05  \n",
       "17  1.184997e-04  \n",
       "18  2.676100e-04  \n",
       "19  8.814306e-04  \n",
       "20  2.112409e-04  \n",
       "21  4.166210e-04  \n",
       "22  9.170648e-04  \n",
       "23  3.357487e-04  \n",
       "24  2.109777e-04  \n",
       "25  2.004549e-04  \n",
       "26  1.419971e-04  "
      ]
     },
     "execution_count": 2,
     "metadata": {},
     "output_type": "execute_result"
    }
   ],
   "source": [
    "sens = pd.DataFrame(np.loadtxt(f'../out/{file}'), columns=['r1', 'r2', 'r3', 't1', 't2', 't3', 'det', 'det_true'])\\\n",
    "            .filter(['r1', 'r2', 'r3', 'det', 'det_true'])\n",
    "sens = sens.groupby(['r1', 'r2', 'r3']).agg([mad, np.median]).reset_index()\n",
    "sens['ratio'] = sens[('det', 'mad')] / sens[('det', 'median')]\n",
    "\n",
    "sens"
   ]
  },
  {
   "cell_type": "code",
   "execution_count": 3,
   "metadata": {},
   "outputs": [
    {
     "data": {
      "application/vnd.plotly.v1+json": {
       "config": {
        "plotlyServerURL": "https://plot.ly"
       },
       "data": [
        {
         "coloraxis": "coloraxis",
         "text": [
          [
           0.018358309021377625,
           0.010913771946602849,
           0.021097765501918064
          ],
          [
           0.014337444583629216,
           0.0007338254942948773,
           0.041662102249662665
          ],
          [
           0.0029837832521672197,
           1.7503811806927517e-14,
           0.02676100257375585
          ]
         ],
         "textfont": {
          "size": 8
         },
         "texttemplate": "%{text:.2f}%",
         "type": "heatmap",
         "x": [
          "0.1",
          "1",
          "10"
         ],
         "xaxis": "x",
         "y": [
          "10",
          "1",
          "0.1"
         ],
         "yaxis": "y",
         "z": [
          [
           0.018358309021377625,
           0.010913771946602849,
           0.021097765501918064
          ],
          [
           0.014337444583629216,
           0.0007338254942948773,
           0.041662102249662665
          ],
          [
           0.0029837832521672197,
           1.7503811806927517e-14,
           0.02676100257375585
          ]
         ]
        },
        {
         "coloraxis": "coloraxis",
         "text": [
          [
           0.010356493538988848,
           0.009449184354933138,
           0.02004549082761674
          ],
          [
           0.01325523133382003,
           0.013873664111000524,
           0.09170647731686765
          ],
          [
           0.02624873951721836,
           0.007012891352799985,
           0.08814305537844822
          ]
         ],
         "textfont": {
          "size": 8
         },
         "texttemplate": "%{text:.2f}%",
         "type": "heatmap",
         "x": [
          "0.1",
          "1",
          "10"
         ],
         "xaxis": "x2",
         "y": [
          "10",
          "1",
          "0.1"
         ],
         "yaxis": "y2",
         "z": [
          [
           0.010356493538988848,
           0.009449184354933138,
           0.02004549082761674
          ],
          [
           0.01325523133382003,
           0.013873664111000524,
           0.09170647731686765
          ],
          [
           0.02624873951721836,
           0.007012891352799985,
           0.08814305537844822
          ]
         ]
        },
        {
         "coloraxis": "coloraxis",
         "text": [
          [
           0.02233643183968573,
           0.011849966953135926,
           0.014199714757170991
          ],
          [
           0.01687786249339114,
           0.00219042726629104,
           0.03357487034422991
          ],
          [
           0.00850491365682891,
           0.021789048336465108,
           0.021124092927162996
          ]
         ],
         "textfont": {
          "size": 8
         },
         "texttemplate": "%{text:.2f}%",
         "type": "heatmap",
         "x": [
          "0.1",
          "1",
          "10"
         ],
         "xaxis": "x3",
         "y": [
          "10",
          "1",
          "0.1"
         ],
         "yaxis": "y3",
         "z": [
          [
           0.02233643183968573,
           0.011849966953135926,
           0.014199714757170991
          ],
          [
           0.01687786249339114,
           0.00219042726629104,
           0.03357487034422991
          ],
          [
           0.00850491365682891,
           0.021789048336465108,
           0.021124092927162996
          ]
         ]
        }
       ],
       "layout": {
        "annotations": [
         {
          "font": {
           "size": 16
          },
          "showarrow": false,
          "text": "$r_4 = 0.1$",
          "x": 0.15,
          "xanchor": "center",
          "xref": "paper",
          "y": 1,
          "yanchor": "bottom",
          "yref": "paper"
         },
         {
          "font": {
           "size": 16
          },
          "showarrow": false,
          "text": "$r_4 = 1$",
          "x": 0.49999999999999994,
          "xanchor": "center",
          "xref": "paper",
          "y": 1,
          "yanchor": "bottom",
          "yref": "paper"
         },
         {
          "font": {
           "size": 16
          },
          "showarrow": false,
          "text": "$r_4 = 10$",
          "x": 0.85,
          "xanchor": "center",
          "xref": "paper",
          "y": 1,
          "yanchor": "bottom",
          "yref": "paper"
         }
        ],
        "coloraxis": {
         "colorscale": [
          [
           0,
           "#440154"
          ],
          [
           0.1111111111111111,
           "#482878"
          ],
          [
           0.2222222222222222,
           "#3e4989"
          ],
          [
           0.3333333333333333,
           "#31688e"
          ],
          [
           0.4444444444444444,
           "#26828e"
          ],
          [
           0.5555555555555556,
           "#1f9e89"
          ],
          [
           0.6666666666666666,
           "#35b779"
          ],
          [
           0.7777777777777778,
           "#6ece58"
          ],
          [
           0.8888888888888888,
           "#b5de2b"
          ],
          [
           1,
           "#fde725"
          ]
         ]
        },
        "height": 300,
        "template": {
         "data": {
          "bar": [
           {
            "error_x": {
             "color": "#2a3f5f"
            },
            "error_y": {
             "color": "#2a3f5f"
            },
            "marker": {
             "line": {
              "color": "#E5ECF6",
              "width": 0.5
             },
             "pattern": {
              "fillmode": "overlay",
              "size": 10,
              "solidity": 0.2
             }
            },
            "type": "bar"
           }
          ],
          "barpolar": [
           {
            "marker": {
             "line": {
              "color": "#E5ECF6",
              "width": 0.5
             },
             "pattern": {
              "fillmode": "overlay",
              "size": 10,
              "solidity": 0.2
             }
            },
            "type": "barpolar"
           }
          ],
          "carpet": [
           {
            "aaxis": {
             "endlinecolor": "#2a3f5f",
             "gridcolor": "white",
             "linecolor": "white",
             "minorgridcolor": "white",
             "startlinecolor": "#2a3f5f"
            },
            "baxis": {
             "endlinecolor": "#2a3f5f",
             "gridcolor": "white",
             "linecolor": "white",
             "minorgridcolor": "white",
             "startlinecolor": "#2a3f5f"
            },
            "type": "carpet"
           }
          ],
          "choropleth": [
           {
            "colorbar": {
             "outlinewidth": 0,
             "ticks": ""
            },
            "type": "choropleth"
           }
          ],
          "contour": [
           {
            "colorbar": {
             "outlinewidth": 0,
             "ticks": ""
            },
            "colorscale": [
             [
              0,
              "#0d0887"
             ],
             [
              0.1111111111111111,
              "#46039f"
             ],
             [
              0.2222222222222222,
              "#7201a8"
             ],
             [
              0.3333333333333333,
              "#9c179e"
             ],
             [
              0.4444444444444444,
              "#bd3786"
             ],
             [
              0.5555555555555556,
              "#d8576b"
             ],
             [
              0.6666666666666666,
              "#ed7953"
             ],
             [
              0.7777777777777778,
              "#fb9f3a"
             ],
             [
              0.8888888888888888,
              "#fdca26"
             ],
             [
              1,
              "#f0f921"
             ]
            ],
            "type": "contour"
           }
          ],
          "contourcarpet": [
           {
            "colorbar": {
             "outlinewidth": 0,
             "ticks": ""
            },
            "type": "contourcarpet"
           }
          ],
          "heatmap": [
           {
            "colorbar": {
             "outlinewidth": 0,
             "ticks": ""
            },
            "colorscale": [
             [
              0,
              "#0d0887"
             ],
             [
              0.1111111111111111,
              "#46039f"
             ],
             [
              0.2222222222222222,
              "#7201a8"
             ],
             [
              0.3333333333333333,
              "#9c179e"
             ],
             [
              0.4444444444444444,
              "#bd3786"
             ],
             [
              0.5555555555555556,
              "#d8576b"
             ],
             [
              0.6666666666666666,
              "#ed7953"
             ],
             [
              0.7777777777777778,
              "#fb9f3a"
             ],
             [
              0.8888888888888888,
              "#fdca26"
             ],
             [
              1,
              "#f0f921"
             ]
            ],
            "type": "heatmap"
           }
          ],
          "heatmapgl": [
           {
            "colorbar": {
             "outlinewidth": 0,
             "ticks": ""
            },
            "colorscale": [
             [
              0,
              "#0d0887"
             ],
             [
              0.1111111111111111,
              "#46039f"
             ],
             [
              0.2222222222222222,
              "#7201a8"
             ],
             [
              0.3333333333333333,
              "#9c179e"
             ],
             [
              0.4444444444444444,
              "#bd3786"
             ],
             [
              0.5555555555555556,
              "#d8576b"
             ],
             [
              0.6666666666666666,
              "#ed7953"
             ],
             [
              0.7777777777777778,
              "#fb9f3a"
             ],
             [
              0.8888888888888888,
              "#fdca26"
             ],
             [
              1,
              "#f0f921"
             ]
            ],
            "type": "heatmapgl"
           }
          ],
          "histogram": [
           {
            "marker": {
             "pattern": {
              "fillmode": "overlay",
              "size": 10,
              "solidity": 0.2
             }
            },
            "type": "histogram"
           }
          ],
          "histogram2d": [
           {
            "colorbar": {
             "outlinewidth": 0,
             "ticks": ""
            },
            "colorscale": [
             [
              0,
              "#0d0887"
             ],
             [
              0.1111111111111111,
              "#46039f"
             ],
             [
              0.2222222222222222,
              "#7201a8"
             ],
             [
              0.3333333333333333,
              "#9c179e"
             ],
             [
              0.4444444444444444,
              "#bd3786"
             ],
             [
              0.5555555555555556,
              "#d8576b"
             ],
             [
              0.6666666666666666,
              "#ed7953"
             ],
             [
              0.7777777777777778,
              "#fb9f3a"
             ],
             [
              0.8888888888888888,
              "#fdca26"
             ],
             [
              1,
              "#f0f921"
             ]
            ],
            "type": "histogram2d"
           }
          ],
          "histogram2dcontour": [
           {
            "colorbar": {
             "outlinewidth": 0,
             "ticks": ""
            },
            "colorscale": [
             [
              0,
              "#0d0887"
             ],
             [
              0.1111111111111111,
              "#46039f"
             ],
             [
              0.2222222222222222,
              "#7201a8"
             ],
             [
              0.3333333333333333,
              "#9c179e"
             ],
             [
              0.4444444444444444,
              "#bd3786"
             ],
             [
              0.5555555555555556,
              "#d8576b"
             ],
             [
              0.6666666666666666,
              "#ed7953"
             ],
             [
              0.7777777777777778,
              "#fb9f3a"
             ],
             [
              0.8888888888888888,
              "#fdca26"
             ],
             [
              1,
              "#f0f921"
             ]
            ],
            "type": "histogram2dcontour"
           }
          ],
          "mesh3d": [
           {
            "colorbar": {
             "outlinewidth": 0,
             "ticks": ""
            },
            "type": "mesh3d"
           }
          ],
          "parcoords": [
           {
            "line": {
             "colorbar": {
              "outlinewidth": 0,
              "ticks": ""
             }
            },
            "type": "parcoords"
           }
          ],
          "pie": [
           {
            "automargin": true,
            "type": "pie"
           }
          ],
          "scatter": [
           {
            "fillpattern": {
             "fillmode": "overlay",
             "size": 10,
             "solidity": 0.2
            },
            "type": "scatter"
           }
          ],
          "scatter3d": [
           {
            "line": {
             "colorbar": {
              "outlinewidth": 0,
              "ticks": ""
             }
            },
            "marker": {
             "colorbar": {
              "outlinewidth": 0,
              "ticks": ""
             }
            },
            "type": "scatter3d"
           }
          ],
          "scattercarpet": [
           {
            "marker": {
             "colorbar": {
              "outlinewidth": 0,
              "ticks": ""
             }
            },
            "type": "scattercarpet"
           }
          ],
          "scattergeo": [
           {
            "marker": {
             "colorbar": {
              "outlinewidth": 0,
              "ticks": ""
             }
            },
            "type": "scattergeo"
           }
          ],
          "scattergl": [
           {
            "marker": {
             "colorbar": {
              "outlinewidth": 0,
              "ticks": ""
             }
            },
            "type": "scattergl"
           }
          ],
          "scattermapbox": [
           {
            "marker": {
             "colorbar": {
              "outlinewidth": 0,
              "ticks": ""
             }
            },
            "type": "scattermapbox"
           }
          ],
          "scatterpolar": [
           {
            "marker": {
             "colorbar": {
              "outlinewidth": 0,
              "ticks": ""
             }
            },
            "type": "scatterpolar"
           }
          ],
          "scatterpolargl": [
           {
            "marker": {
             "colorbar": {
              "outlinewidth": 0,
              "ticks": ""
             }
            },
            "type": "scatterpolargl"
           }
          ],
          "scatterternary": [
           {
            "marker": {
             "colorbar": {
              "outlinewidth": 0,
              "ticks": ""
             }
            },
            "type": "scatterternary"
           }
          ],
          "surface": [
           {
            "colorbar": {
             "outlinewidth": 0,
             "ticks": ""
            },
            "colorscale": [
             [
              0,
              "#0d0887"
             ],
             [
              0.1111111111111111,
              "#46039f"
             ],
             [
              0.2222222222222222,
              "#7201a8"
             ],
             [
              0.3333333333333333,
              "#9c179e"
             ],
             [
              0.4444444444444444,
              "#bd3786"
             ],
             [
              0.5555555555555556,
              "#d8576b"
             ],
             [
              0.6666666666666666,
              "#ed7953"
             ],
             [
              0.7777777777777778,
              "#fb9f3a"
             ],
             [
              0.8888888888888888,
              "#fdca26"
             ],
             [
              1,
              "#f0f921"
             ]
            ],
            "type": "surface"
           }
          ],
          "table": [
           {
            "cells": {
             "fill": {
              "color": "#EBF0F8"
             },
             "line": {
              "color": "white"
             }
            },
            "header": {
             "fill": {
              "color": "#C8D4E3"
             },
             "line": {
              "color": "white"
             }
            },
            "type": "table"
           }
          ]
         },
         "layout": {
          "annotationdefaults": {
           "arrowcolor": "#2a3f5f",
           "arrowhead": 0,
           "arrowwidth": 1
          },
          "autotypenumbers": "strict",
          "coloraxis": {
           "colorbar": {
            "outlinewidth": 0,
            "ticks": ""
           }
          },
          "colorscale": {
           "diverging": [
            [
             0,
             "#8e0152"
            ],
            [
             0.1,
             "#c51b7d"
            ],
            [
             0.2,
             "#de77ae"
            ],
            [
             0.3,
             "#f1b6da"
            ],
            [
             0.4,
             "#fde0ef"
            ],
            [
             0.5,
             "#f7f7f7"
            ],
            [
             0.6,
             "#e6f5d0"
            ],
            [
             0.7,
             "#b8e186"
            ],
            [
             0.8,
             "#7fbc41"
            ],
            [
             0.9,
             "#4d9221"
            ],
            [
             1,
             "#276419"
            ]
           ],
           "sequential": [
            [
             0,
             "#0d0887"
            ],
            [
             0.1111111111111111,
             "#46039f"
            ],
            [
             0.2222222222222222,
             "#7201a8"
            ],
            [
             0.3333333333333333,
             "#9c179e"
            ],
            [
             0.4444444444444444,
             "#bd3786"
            ],
            [
             0.5555555555555556,
             "#d8576b"
            ],
            [
             0.6666666666666666,
             "#ed7953"
            ],
            [
             0.7777777777777778,
             "#fb9f3a"
            ],
            [
             0.8888888888888888,
             "#fdca26"
            ],
            [
             1,
             "#f0f921"
            ]
           ],
           "sequentialminus": [
            [
             0,
             "#0d0887"
            ],
            [
             0.1111111111111111,
             "#46039f"
            ],
            [
             0.2222222222222222,
             "#7201a8"
            ],
            [
             0.3333333333333333,
             "#9c179e"
            ],
            [
             0.4444444444444444,
             "#bd3786"
            ],
            [
             0.5555555555555556,
             "#d8576b"
            ],
            [
             0.6666666666666666,
             "#ed7953"
            ],
            [
             0.7777777777777778,
             "#fb9f3a"
            ],
            [
             0.8888888888888888,
             "#fdca26"
            ],
            [
             1,
             "#f0f921"
            ]
           ]
          },
          "colorway": [
           "#636efa",
           "#EF553B",
           "#00cc96",
           "#ab63fa",
           "#FFA15A",
           "#19d3f3",
           "#FF6692",
           "#B6E880",
           "#FF97FF",
           "#FECB52"
          ],
          "font": {
           "color": "#2a3f5f"
          },
          "geo": {
           "bgcolor": "white",
           "lakecolor": "white",
           "landcolor": "#E5ECF6",
           "showlakes": true,
           "showland": true,
           "subunitcolor": "white"
          },
          "hoverlabel": {
           "align": "left"
          },
          "hovermode": "closest",
          "mapbox": {
           "style": "light"
          },
          "paper_bgcolor": "white",
          "plot_bgcolor": "#E5ECF6",
          "polar": {
           "angularaxis": {
            "gridcolor": "white",
            "linecolor": "white",
            "ticks": ""
           },
           "bgcolor": "#E5ECF6",
           "radialaxis": {
            "gridcolor": "white",
            "linecolor": "white",
            "ticks": ""
           }
          },
          "scene": {
           "xaxis": {
            "backgroundcolor": "#E5ECF6",
            "gridcolor": "white",
            "gridwidth": 2,
            "linecolor": "white",
            "showbackground": true,
            "ticks": "",
            "zerolinecolor": "white"
           },
           "yaxis": {
            "backgroundcolor": "#E5ECF6",
            "gridcolor": "white",
            "gridwidth": 2,
            "linecolor": "white",
            "showbackground": true,
            "ticks": "",
            "zerolinecolor": "white"
           },
           "zaxis": {
            "backgroundcolor": "#E5ECF6",
            "gridcolor": "white",
            "gridwidth": 2,
            "linecolor": "white",
            "showbackground": true,
            "ticks": "",
            "zerolinecolor": "white"
           }
          },
          "shapedefaults": {
           "line": {
            "color": "#2a3f5f"
           }
          },
          "ternary": {
           "aaxis": {
            "gridcolor": "white",
            "linecolor": "white",
            "ticks": ""
           },
           "baxis": {
            "gridcolor": "white",
            "linecolor": "white",
            "ticks": ""
           },
           "bgcolor": "#E5ECF6",
           "caxis": {
            "gridcolor": "white",
            "linecolor": "white",
            "ticks": ""
           }
          },
          "title": {
           "x": 0.05
          },
          "xaxis": {
           "automargin": true,
           "gridcolor": "white",
           "linecolor": "white",
           "ticks": "",
           "title": {
            "standoff": 15
           },
           "zerolinecolor": "white",
           "zerolinewidth": 2
          },
          "yaxis": {
           "automargin": true,
           "gridcolor": "white",
           "linecolor": "white",
           "ticks": "",
           "title": {
            "standoff": 15
           },
           "zerolinecolor": "white",
           "zerolinewidth": 2
          }
         }
        },
        "xaxis": {
         "anchor": "y",
         "domain": [
          0,
          0.3
         ],
         "title": {
          "text": "$r_2$"
         }
        },
        "xaxis2": {
         "anchor": "y2",
         "domain": [
          0.35,
          0.6499999999999999
         ],
         "title": {
          "text": "$r_2$"
         }
        },
        "xaxis3": {
         "anchor": "y3",
         "domain": [
          0.7,
          1
         ],
         "title": {
          "text": "$r_2$"
         }
        },
        "yaxis": {
         "anchor": "x",
         "domain": [
          0,
          1
         ],
         "title": {
          "text": "$r_3$"
         }
        },
        "yaxis2": {
         "anchor": "x2",
         "domain": [
          0,
          1
         ]
        },
        "yaxis3": {
         "anchor": "x3",
         "domain": [
          0,
          1
         ]
        }
       }
      }
     },
     "metadata": {},
     "output_type": "display_data"
    }
   ],
   "source": [
    "import plotly.graph_objects as go\n",
    "from plotly.colors import DEFAULT_PLOTLY_COLORS\n",
    "from plotly.subplots import make_subplots\n",
    "import re\n",
    "\n",
    "fig = make_subplots(1, 3, subplot_titles=[\n",
    "    f'$r_4 = {r3}$' for r3 in [0.1, 1, 10]\n",
    "], horizontal_spacing=0.05, vertical_spacing=0.1)\n",
    "\n",
    "for i, (r3, d1) in enumerate(sens.groupby('r3')):\n",
    "    z = d1.sort_values(['r2', 'r1']).ratio.to_numpy().reshape(3, 3)\n",
    "    z = np.flipud(z)\n",
    "    fig.add_trace(go.Heatmap(\n",
    "        z=z*100,\n",
    "        x=['0.1', '1', '10'],\n",
    "        y=['10', '1', '0.1'],\n",
    "        coloraxis='coloraxis',\n",
    "        text=z*100,\n",
    "        texttemplate='%{text:.2f}%',\n",
    "        textfont={'size': 8}\n",
    "    ), row=1, col=i+1)\n",
    "\n",
    "fig.update_layout(\n",
    "    coloraxis={'colorscale': 'viridis'},\n",
    "    height=300,\n",
    ")\n",
    "fig.update_xaxes(title='$r_2$', row=1)\n",
    "fig.update_yaxes(title='$r_3$', col=1)\n",
    "fig.show()\n",
    "fig.write_image('../figures/sensitivity_mad_optim.png')"
   ]
  }
 ],
 "metadata": {
  "kernelspec": {
   "display_name": "Python 3.8.10 ('venv': venv)",
   "language": "python",
   "name": "python3"
  },
  "language_info": {
   "codemirror_mode": {
    "name": "ipython",
    "version": 3
   },
   "file_extension": ".py",
   "mimetype": "text/x-python",
   "name": "python",
   "nbconvert_exporter": "python",
   "pygments_lexer": "ipython3",
   "version": "3.8.10"
  },
  "orig_nbformat": 4,
  "vscode": {
   "interpreter": {
    "hash": "60b632efd347e20e25c647ed7731ea15f30ac276af9e5a993cbe7dbb446a6ac7"
   }
  }
 },
 "nbformat": 4,
 "nbformat_minor": 2
}
