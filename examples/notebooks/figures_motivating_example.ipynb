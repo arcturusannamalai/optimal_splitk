{
 "cells": [
  {
   "cell_type": "code",
   "execution_count": 1,
   "metadata": {},
   "outputs": [],
   "source": [
    "import numpy as np\n",
    "import pandas as pd\n",
    "np.set_printoptions(precision=3)\n",
    "\n",
    "from doe_gensplit.doe import *\n",
    "from doe_gensplit.init import *\n",
    "from doe_gensplit.utils import *\n",
    "from doe_gensplit.validation import *"
   ]
  },
  {
   "cell_type": "markdown",
   "metadata": {},
   "source": [
    "## Design setup"
   ]
  },
  {
   "cell_type": "code",
   "execution_count": 2,
   "metadata": {},
   "outputs": [
    {
     "data": {
      "text/plain": [
       "True"
      ]
     },
     "execution_count": 2,
     "metadata": {},
     "output_type": "execute_result"
    }
   ],
   "source": [
    "# The model\n",
    "model = pd.read_excel(f'..\\\\assets\\\\Grass2022_max_model.xlsx', index_col=0).to_numpy()\n",
    "columns = ['D', 'C', 'B', 'A', 'LOC', 'Cap', 'RPM']\n",
    "\n",
    "# The factor columns\n",
    "factors = np.array([\n",
    "    [3, 1],         # D\n",
    "    [2, 1],         # C\n",
    "    [1, 1],         # B\n",
    "    [1, 1],         # A\n",
    "    [0, 1],         # LOC\n",
    "    [0, 1],         # Capacity\n",
    "    [0, 1],         # RPM\n",
    "])\n",
    "\n",
    "# Plot sizes\n",
    "plot_sizes = np.array([3, 3, 3, 2], dtype=np.int64)\n",
    "\n",
    "# Compute V-matrix (observation correlation matrix)\n",
    "V = obs_var(plot_sizes)\n",
    "\n",
    "# Encode the model\n",
    "model_enc = encode_model(model, factors)\n",
    "\n",
    "# Validate the model\n",
    "validate_model(model, factors)\n",
    "\n",
    "terms = ['icept', 'D', 'C', 'C^2', 'D \\\\times C', 'B', 'A', 'D \\\\times B', 'D \\\\times A',\n",
    "         'C \\\\times B', 'C^2 \\\\times B', 'C \\\\times A', 'C^2 \\\\times A', 'B \\\\times A',\n",
    "         'LOC', 'LOC^2', 'Cap', 'Cap^2', 'RPM', 'RPM^2', 'D \\\\times LOC', 'D \\\\times Cap',\n",
    "         'D \\\\times RPM', 'C \\\\times LOC', 'C^2 \\\\times LOC', 'C \\\\times Cap', 'C^2 \\\\times Cap',\n",
    "         'C \\\\times RPM', 'C^2 \\\\times RPM', 'B \\\\times LOC', 'B \\\\times Cap', 'B \\\\times RPM',\n",
    "         'A \\\\times LOC', 'A \\\\times Cap', 'A \\\\times RPM', 'LOC \\\\times Cap', 'LOC \\\\times RPM',\n",
    "         'Cap \\\\times RPM']\n",
    "terms = [f'${t}$' for t in terms]"
   ]
  },
  {
   "cell_type": "markdown",
   "metadata": {},
   "source": [
    "#### Design combination"
   ]
  },
  {
   "cell_type": "code",
   "execution_count": 3,
   "metadata": {},
   "outputs": [
    {
     "name": "stdout",
     "output_type": "stream",
     "text": [
      "11.570656784896952\n"
     ]
    }
   ],
   "source": [
    "design_comb = pd.read_excel(f'..\\\\assets\\\\design_comb.xlsx', header=None, usecols=range(3,10))\n",
    "design_comb.columns = columns\n",
    "X_comb = x2fx(design_comb.to_numpy(), model_enc)\n",
    "M_comb = X_comb.T @ np.linalg.solve(V, X_comb)\n",
    "\n",
    "det_val = np.linalg.det(M_comb)**(1/len(model))\n",
    "print(det_val)"
   ]
  },
  {
   "cell_type": "markdown",
   "metadata": {},
   "source": [
    "#### Design optim"
   ]
  },
  {
   "cell_type": "code",
   "execution_count": 4,
   "metadata": {},
   "outputs": [
    {
     "name": "stdout",
     "output_type": "stream",
     "text": [
      "12.72672630249043\n"
     ]
    }
   ],
   "source": [
    "design_optim = pd.read_excel(f'..\\\\assets\\\\design_optim.xlsx')\n",
    "X_optim = x2fx(design_optim.to_numpy(), model_enc)\n",
    "M_optim = X_optim.T @ np.linalg.solve(V, X_optim)\n",
    "\n",
    "det_val = np.linalg.det(M_optim)**(1/len(model))\n",
    "print(det_val)"
   ]
  },
  {
   "cell_type": "code",
   "execution_count": 5,
   "metadata": {},
   "outputs": [],
   "source": [
    "extr = np.arange(len(M_optim)), np.arange(len(M_optim))\n",
    "Mratio = np.linalg.inv(M_comb)[extr] / np.linalg.inv(M_optim)[extr]\n",
    "\n",
    "import plotly.graph_objects as go\n",
    "from plotly.subplots import make_subplots\n",
    "\n",
    "fig = make_subplots(3, 1)\n",
    "fig.add_trace(go.Heatmap(\n",
    "    z=Mratio[:14][np.newaxis, :],\n",
    "    text=Mratio[:14][np.newaxis, :],\n",
    "    texttemplate='%{text:.2f}',\n",
    "    coloraxis='coloraxis',\n",
    "    x=terms[:14]\n",
    "), 1, 1)\n",
    "fig.add_trace(go.Heatmap(\n",
    "    z=Mratio[14:20][np.newaxis, :],\n",
    "    text=Mratio[14:20][np.newaxis, :],\n",
    "    texttemplate='%{text:.2f}',\n",
    "    coloraxis='coloraxis',\n",
    "    x=terms[14:20]\n",
    "), 2, 1)\n",
    "fig.add_trace(go.Heatmap(\n",
    "    z=Mratio[20:][np.newaxis, :],\n",
    "    text=Mratio[20:][np.newaxis, :],\n",
    "    texttemplate='%{text:.2f}',\n",
    "    coloraxis='coloraxis',\n",
    "    x=terms[20:]\n",
    "), 3, 1)\n",
    "fig.update_layout(\n",
    "    coloraxis={'colorscale': 'viridis'},\n",
    "    margin=dict(\n",
    "        l=10, r=0, b=0, t=10\n",
    "    )\n",
    ")\n",
    "fig.update_yaxes(showticklabels=False)\n",
    "fig.update_xaxes(tickangle=0, tickfont=dict(size=10))\n",
    "fig.update_xaxes(tickangle=45, row=3, col=1)\n",
    "\n",
    "fig.write_image('../figures/variance_ratios.png')"
   ]
  },
  {
   "cell_type": "code",
   "execution_count": 18,
   "metadata": {},
   "outputs": [
    {
     "name": "stdout",
     "output_type": "stream",
     "text": [
      "$icept$ & 1.547 & 1.684 & 0.919\\\\\n",
      "\\hline\n",
      "$D$ & 0.784 & 0.776 & 1.011\\\\\n",
      "\\hline\n",
      "$C$ & 0.406 & 0.388 & 1.044\\\\\n",
      "\\hline\n",
      "$C^2$ & 1.172 & 1.192 & 0.983\\\\\n",
      "\\hline\n",
      "$D \\times C$ & 0.416 & 0.421 & 0.987\\\\\n",
      "\\hline\n",
      "$B$ & 0.318 & 0.284 & 1.118\\\\\n",
      "\\hline\n",
      "$A$ & 0.340 & 0.296 & 1.147\\\\\n",
      "\\hline\n",
      "$D \\times B$ & 0.103 & 0.093 & 1.114\\\\\n",
      "\\hline\n",
      "$D \\times A$ & 0.097 & 0.094 & 1.028\\\\\n",
      "\\hline\n",
      "$C \\times B$ & 0.169 & 0.171 & 0.991\\\\\n",
      "\\hline\n",
      "$C^2 \\times B$ & 0.497 & 0.474 & 1.048\\\\\n",
      "\\hline\n",
      "$C \\times A$ & 0.164 & 0.166 & 0.988\\\\\n",
      "\\hline\n",
      "$C^2 \\times A$ & 0.499 & 0.470 & 1.061\\\\\n",
      "\\hline\n",
      "$B \\times A$ & 0.099 & 0.094 & 1.053\\\\\n",
      "\\hline\n",
      "$LOC$ & 0.098 & 0.073 & 1.339\\\\\n",
      "\\hline\n",
      "$LOC^2$ & 0.184 & 0.193 & 0.952\\\\\n",
      "\\hline\n",
      "$Cap$ & 0.097 & 0.082 & 1.185\\\\\n",
      "\\hline\n",
      "$Cap^2$ & 0.187 & 0.199 & 0.941\\\\\n",
      "\\hline\n",
      "$RPM$ & 0.097 & 0.079 & 1.229\\\\\n",
      "\\hline\n",
      "$RPM^2$ & 0.233 & 0.229 & 1.016\\\\\n",
      "\\hline\n",
      "$D \\times LOC$ & 0.040 & 0.025 & 1.623\\\\\n",
      "\\hline\n",
      "$D \\times Cap$ & 0.048 & 0.025 & 1.944\\\\\n",
      "\\hline\n",
      "$D \\times RPM$ & 0.042 & 0.025 & 1.710\\\\\n",
      "\\hline\n",
      "$C \\times LOC$ & 0.054 & 0.038 & 1.398\\\\\n",
      "\\hline\n",
      "$C^2 \\times LOC$ & 0.144 & 0.110 & 1.316\\\\\n",
      "\\hline\n",
      "$C \\times Cap$ & 0.053 & 0.036 & 1.460\\\\\n",
      "\\hline\n",
      "$C^2 \\times Cap$ & 0.169 & 0.118 & 1.436\\\\\n",
      "\\hline\n",
      "$C \\times RPM$ & 0.053 & 0.036 & 1.485\\\\\n",
      "\\hline\n",
      "$C^2 \\times RPM$ & 0.144 & 0.113 & 1.278\\\\\n",
      "\\hline\n",
      "$B \\times LOC$ & 0.048 & 0.025 & 1.897\\\\\n",
      "\\hline\n",
      "$B \\times Cap$ & 0.034 & 0.026 & 1.345\\\\\n",
      "\\hline\n",
      "$B \\times RPM$ & 0.039 & 0.025 & 1.565\\\\\n",
      "\\hline\n",
      "$A \\times LOC$ & 0.034 & 0.027 & 1.292\\\\\n",
      "\\hline\n",
      "$A \\times Cap$ & 0.033 & 0.027 & 1.238\\\\\n",
      "\\hline\n",
      "$A \\times RPM$ & 0.030 & 0.026 & 1.150\\\\\n",
      "\\hline\n",
      "$LOC \\times Cap$ & 0.047 & 0.038 & 1.231\\\\\n",
      "\\hline\n",
      "$LOC \\times RPM$ & 0.053 & 0.039 & 1.346\\\\\n",
      "\\hline\n",
      "$Cap \\times RPM$ & 0.053 & 0.030 & 1.753\n"
     ]
    }
   ],
   "source": [
    "extr = np.arange(len(M_optim)), np.arange(len(M_optim))\n",
    "M_comb_extr = np.linalg.inv(M_comb)[extr]\n",
    "M_optim_extr = np.linalg.inv(M_optim)[extr]\n",
    "\n",
    "table = '\\\\\\\\\\n\\\\hline\\n'.join([' & '.join(f'{y:.3f}' if isinstance(y, float) else str(y) for y in x) \n",
    "                                for x in zip(terms, M_comb_extr, M_optim_extr, M_comb_extr / M_optim_extr)])\n",
    "print(table)"
   ]
  }
 ],
 "metadata": {
  "kernelspec": {
   "display_name": "Python 3.8.10 ('venv': venv)",
   "language": "python",
   "name": "python3"
  },
  "language_info": {
   "codemirror_mode": {
    "name": "ipython",
    "version": 3
   },
   "file_extension": ".py",
   "mimetype": "text/x-python",
   "name": "python",
   "nbconvert_exporter": "python",
   "pygments_lexer": "ipython3",
   "version": "3.8.10"
  },
  "orig_nbformat": 4,
  "vscode": {
   "interpreter": {
    "hash": "60b632efd347e20e25c647ed7731ea15f30ac276af9e5a993cbe7dbb446a6ac7"
   }
  }
 },
 "nbformat": 4,
 "nbformat_minor": 2
}
