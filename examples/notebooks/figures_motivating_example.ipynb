{
 "cells": [
  {
   "cell_type": "code",
   "execution_count": 1,
   "metadata": {},
   "outputs": [],
   "source": [
    "import numpy as np\n",
    "import pandas as pd\n",
    "np.set_printoptions(precision=3)\n",
    "\n",
    "from optimal_splitk.doe import *\n",
    "from optimal_splitk.init import *\n",
    "from optimal_splitk.utils import *\n",
    "from optimal_splitk.validation import *"
   ]
  },
  {
   "cell_type": "markdown",
   "metadata": {},
   "source": [
    "## Design setup"
   ]
  },
  {
   "cell_type": "code",
   "execution_count": 2,
   "metadata": {},
   "outputs": [],
   "source": [
    "# The model\n",
    "model = pd.read_excel(f'..\\\\assets\\\\Grass2022_max_model.xlsx', index_col=0).to_numpy()\n",
    "columns = ['D', 'C', 'B', 'A', 'LOC', 'Cap', 'RPM']\n",
    "\n",
    "# The factor columns\n",
    "factors = np.array([\n",
    "    [3, 1],         # D\n",
    "    [2, 1],         # C\n",
    "    [1, 1],         # B\n",
    "    [1, 1],         # A\n",
    "    [0, 1],         # LOC\n",
    "    [0, 1],         # Capacity\n",
    "    [0, 1],         # RPM\n",
    "])\n",
    "\n",
    "# Plot sizes\n",
    "plot_sizes = np.array([3, 3, 3, 2], dtype=np.int64)\n",
    "\n",
    "# Compute V-matrix (observation correlation matrix)\n",
    "V = obs_var(plot_sizes)\n",
    "\n",
    "# Encode the model\n",
    "model_enc = encode_model(model, factors)\n",
    "\n",
    "# Validate the model\n",
    "validate_model(model, factors)\n",
    "\n",
    "terms = ['icept', 'D', 'C', 'C^2', 'D \\\\times C', 'B', 'A', 'D \\\\times B', 'D \\\\times A',\n",
    "         'C \\\\times B', 'C^2 \\\\times B', 'C \\\\times A', 'C^2 \\\\times A', 'B \\\\times A',\n",
    "         'LOC', 'LOC^2', 'Cap', 'Cap^2', 'RPM', 'RPM^2', 'D \\\\times LOC', 'D \\\\times Cap',\n",
    "         'D \\\\times RPM', 'C \\\\times LOC', 'C^2 \\\\times LOC', 'C \\\\times Cap', 'C^2 \\\\times Cap',\n",
    "         'C \\\\times RPM', 'C^2 \\\\times RPM', 'B \\\\times LOC', 'B \\\\times Cap', 'B \\\\times RPM',\n",
    "         'A \\\\times LOC', 'A \\\\times Cap', 'A \\\\times RPM', 'LOC \\\\times Cap', 'LOC \\\\times RPM',\n",
    "         'Cap \\\\times RPM']\n",
    "terms = [f'${t}$' for t in terms]"
   ]
  },
  {
   "cell_type": "markdown",
   "metadata": {},
   "source": [
    "#### Design combination"
   ]
  },
  {
   "cell_type": "code",
   "execution_count": 3,
   "metadata": {},
   "outputs": [
    {
     "name": "stdout",
     "output_type": "stream",
     "text": [
      "11.570656784896952\n"
     ]
    }
   ],
   "source": [
    "design_comb = pd.read_excel(f'..\\\\assets\\\\design_comb.xlsx', header=None, usecols=range(3,10))\n",
    "design_comb.columns = columns\n",
    "X_comb = x2fx(design_comb.to_numpy(), model_enc)\n",
    "M_comb = X_comb.T @ np.linalg.solve(V, X_comb)\n",
    "\n",
    "det_val = np.linalg.det(M_comb)**(1/len(model))\n",
    "print(det_val)"
   ]
  },
  {
   "cell_type": "markdown",
   "metadata": {},
   "source": [
    "#### Design optim"
   ]
  },
  {
   "cell_type": "code",
   "execution_count": 4,
   "metadata": {},
   "outputs": [
    {
     "name": "stdout",
     "output_type": "stream",
     "text": [
      "12.726726302490436\n"
     ]
    }
   ],
   "source": [
    "design_optim = pd.read_excel(f'..\\\\assets\\\\design_optim.xlsx')\n",
    "X_optim = x2fx(design_optim.to_numpy(), model_enc)\n",
    "M_optim = X_optim.T @ np.linalg.solve(V, X_optim)\n",
    "\n",
    "det_val = np.linalg.det(M_optim)**(1/len(model))\n",
    "print(det_val)"
   ]
  },
  {
   "cell_type": "code",
   "execution_count": 5,
   "metadata": {},
   "outputs": [
    {
     "data": {
      "application/vnd.plotly.v1+json": {
       "config": {
        "plotlyServerURL": "https://plot.ly"
       },
       "data": [
        {
         "coloraxis": "coloraxis",
         "text": [
          [
           0.9190107000577654,
           1.0107828717181997,
           1.0440893155197568,
           0.9833019406933243,
           0.9869807489732392,
           1.1184439082331803,
           1.1474114641045332,
           1.114064145010843,
           1.0279988929814101,
           0.9910979250970533,
           1.0484216661811487,
           0.9877366789894874,
           1.0609111842792922,
           1.0527547168523952
          ]
         ],
         "texttemplate": "%{text:.2f}",
         "type": "heatmap",
         "x": [
          "$icept$",
          "$D$",
          "$C$",
          "$C^2$",
          "$D \\times C$",
          "$B$",
          "$A$",
          "$D \\times B$",
          "$D \\times A$",
          "$C \\times B$",
          "$C^2 \\times B$",
          "$C \\times A$",
          "$C^2 \\times A$",
          "$B \\times A$"
         ],
         "xaxis": "x",
         "yaxis": "y",
         "z": [
          [
           0.9190107000577654,
           1.0107828717181997,
           1.0440893155197568,
           0.9833019406933243,
           0.9869807489732392,
           1.1184439082331803,
           1.1474114641045332,
           1.114064145010843,
           1.0279988929814101,
           0.9910979250970533,
           1.0484216661811487,
           0.9877366789894874,
           1.0609111842792922,
           1.0527547168523952
          ]
         ]
        },
        {
         "coloraxis": "coloraxis",
         "text": [
          [
           1.3394956894434729,
           0.9521265323696084,
           1.185167497492394,
           0.9410077699264023,
           1.2287249867711836,
           1.015667992253835,
           1.231056729789581,
           1.3464306947775273,
           1.7532107867495554
          ]
         ],
         "texttemplate": "%{text:.2f}",
         "type": "heatmap",
         "x": [
          "$LOC$",
          "$LOC^2$",
          "$Cap$",
          "$Cap^2$",
          "$RPM$",
          "$RPM^2$",
          "$LOC \\times Cap$",
          "$LOC \\times RPM$",
          "$Cap \\times RPM$"
         ],
         "xaxis": "x2",
         "yaxis": "y2",
         "z": [
          [
           1.3394956894434729,
           0.9521265323696084,
           1.185167497492394,
           0.9410077699264023,
           1.2287249867711836,
           1.015667992253835,
           1.231056729789581,
           1.3464306947775273,
           1.7532107867495554
          ]
         ]
        },
        {
         "coloraxis": "coloraxis",
         "text": [
          [
           1.6226470043558996,
           1.94411888372068,
           1.709811070018883,
           1.39804243861831,
           1.3159600062433916,
           1.4601483313599597,
           1.4360872850471504,
           1.484936954103819,
           1.2779902813964035,
           1.8971713235968934,
           1.3446599898415175,
           1.565087890253208,
           1.2915693736994824,
           1.2381814428573878,
           1.150360221782662
          ]
         ],
         "texttemplate": "%{text:.2f}",
         "type": "heatmap",
         "x": [
          "$D \\times LOC$",
          "$D \\times Cap$",
          "$D \\times RPM$",
          "$C \\times LOC$",
          "$C^2 \\times LOC$",
          "$C \\times Cap$",
          "$C^2 \\times Cap$",
          "$C \\times RPM$",
          "$C^2 \\times RPM$",
          "$B \\times LOC$",
          "$B \\times Cap$",
          "$B \\times RPM$",
          "$A \\times LOC$",
          "$A \\times Cap$",
          "$A \\times RPM$"
         ],
         "xaxis": "x3",
         "yaxis": "y3",
         "z": [
          [
           1.6226470043558996,
           1.94411888372068,
           1.709811070018883,
           1.39804243861831,
           1.3159600062433916,
           1.4601483313599597,
           1.4360872850471504,
           1.484936954103819,
           1.2779902813964035,
           1.8971713235968934,
           1.3446599898415175,
           1.565087890253208,
           1.2915693736994824,
           1.2381814428573878,
           1.150360221782662
          ]
         ]
        }
       ],
       "layout": {
        "coloraxis": {
         "colorscale": [
          [
           0,
           "#440154"
          ],
          [
           0.1111111111111111,
           "#482878"
          ],
          [
           0.2222222222222222,
           "#3e4989"
          ],
          [
           0.3333333333333333,
           "#31688e"
          ],
          [
           0.4444444444444444,
           "#26828e"
          ],
          [
           0.5555555555555556,
           "#1f9e89"
          ],
          [
           0.6666666666666666,
           "#35b779"
          ],
          [
           0.7777777777777778,
           "#6ece58"
          ],
          [
           0.8888888888888888,
           "#b5de2b"
          ],
          [
           1,
           "#fde725"
          ]
         ]
        },
        "margin": {
         "b": 0,
         "l": 10,
         "r": 0,
         "t": 10
        },
        "template": {
         "data": {
          "bar": [
           {
            "error_x": {
             "color": "#2a3f5f"
            },
            "error_y": {
             "color": "#2a3f5f"
            },
            "marker": {
             "line": {
              "color": "#E5ECF6",
              "width": 0.5
             },
             "pattern": {
              "fillmode": "overlay",
              "size": 10,
              "solidity": 0.2
             }
            },
            "type": "bar"
           }
          ],
          "barpolar": [
           {
            "marker": {
             "line": {
              "color": "#E5ECF6",
              "width": 0.5
             },
             "pattern": {
              "fillmode": "overlay",
              "size": 10,
              "solidity": 0.2
             }
            },
            "type": "barpolar"
           }
          ],
          "carpet": [
           {
            "aaxis": {
             "endlinecolor": "#2a3f5f",
             "gridcolor": "white",
             "linecolor": "white",
             "minorgridcolor": "white",
             "startlinecolor": "#2a3f5f"
            },
            "baxis": {
             "endlinecolor": "#2a3f5f",
             "gridcolor": "white",
             "linecolor": "white",
             "minorgridcolor": "white",
             "startlinecolor": "#2a3f5f"
            },
            "type": "carpet"
           }
          ],
          "choropleth": [
           {
            "colorbar": {
             "outlinewidth": 0,
             "ticks": ""
            },
            "type": "choropleth"
           }
          ],
          "contour": [
           {
            "colorbar": {
             "outlinewidth": 0,
             "ticks": ""
            },
            "colorscale": [
             [
              0,
              "#0d0887"
             ],
             [
              0.1111111111111111,
              "#46039f"
             ],
             [
              0.2222222222222222,
              "#7201a8"
             ],
             [
              0.3333333333333333,
              "#9c179e"
             ],
             [
              0.4444444444444444,
              "#bd3786"
             ],
             [
              0.5555555555555556,
              "#d8576b"
             ],
             [
              0.6666666666666666,
              "#ed7953"
             ],
             [
              0.7777777777777778,
              "#fb9f3a"
             ],
             [
              0.8888888888888888,
              "#fdca26"
             ],
             [
              1,
              "#f0f921"
             ]
            ],
            "type": "contour"
           }
          ],
          "contourcarpet": [
           {
            "colorbar": {
             "outlinewidth": 0,
             "ticks": ""
            },
            "type": "contourcarpet"
           }
          ],
          "heatmap": [
           {
            "colorbar": {
             "outlinewidth": 0,
             "ticks": ""
            },
            "colorscale": [
             [
              0,
              "#0d0887"
             ],
             [
              0.1111111111111111,
              "#46039f"
             ],
             [
              0.2222222222222222,
              "#7201a8"
             ],
             [
              0.3333333333333333,
              "#9c179e"
             ],
             [
              0.4444444444444444,
              "#bd3786"
             ],
             [
              0.5555555555555556,
              "#d8576b"
             ],
             [
              0.6666666666666666,
              "#ed7953"
             ],
             [
              0.7777777777777778,
              "#fb9f3a"
             ],
             [
              0.8888888888888888,
              "#fdca26"
             ],
             [
              1,
              "#f0f921"
             ]
            ],
            "type": "heatmap"
           }
          ],
          "heatmapgl": [
           {
            "colorbar": {
             "outlinewidth": 0,
             "ticks": ""
            },
            "colorscale": [
             [
              0,
              "#0d0887"
             ],
             [
              0.1111111111111111,
              "#46039f"
             ],
             [
              0.2222222222222222,
              "#7201a8"
             ],
             [
              0.3333333333333333,
              "#9c179e"
             ],
             [
              0.4444444444444444,
              "#bd3786"
             ],
             [
              0.5555555555555556,
              "#d8576b"
             ],
             [
              0.6666666666666666,
              "#ed7953"
             ],
             [
              0.7777777777777778,
              "#fb9f3a"
             ],
             [
              0.8888888888888888,
              "#fdca26"
             ],
             [
              1,
              "#f0f921"
             ]
            ],
            "type": "heatmapgl"
           }
          ],
          "histogram": [
           {
            "marker": {
             "pattern": {
              "fillmode": "overlay",
              "size": 10,
              "solidity": 0.2
             }
            },
            "type": "histogram"
           }
          ],
          "histogram2d": [
           {
            "colorbar": {
             "outlinewidth": 0,
             "ticks": ""
            },
            "colorscale": [
             [
              0,
              "#0d0887"
             ],
             [
              0.1111111111111111,
              "#46039f"
             ],
             [
              0.2222222222222222,
              "#7201a8"
             ],
             [
              0.3333333333333333,
              "#9c179e"
             ],
             [
              0.4444444444444444,
              "#bd3786"
             ],
             [
              0.5555555555555556,
              "#d8576b"
             ],
             [
              0.6666666666666666,
              "#ed7953"
             ],
             [
              0.7777777777777778,
              "#fb9f3a"
             ],
             [
              0.8888888888888888,
              "#fdca26"
             ],
             [
              1,
              "#f0f921"
             ]
            ],
            "type": "histogram2d"
           }
          ],
          "histogram2dcontour": [
           {
            "colorbar": {
             "outlinewidth": 0,
             "ticks": ""
            },
            "colorscale": [
             [
              0,
              "#0d0887"
             ],
             [
              0.1111111111111111,
              "#46039f"
             ],
             [
              0.2222222222222222,
              "#7201a8"
             ],
             [
              0.3333333333333333,
              "#9c179e"
             ],
             [
              0.4444444444444444,
              "#bd3786"
             ],
             [
              0.5555555555555556,
              "#d8576b"
             ],
             [
              0.6666666666666666,
              "#ed7953"
             ],
             [
              0.7777777777777778,
              "#fb9f3a"
             ],
             [
              0.8888888888888888,
              "#fdca26"
             ],
             [
              1,
              "#f0f921"
             ]
            ],
            "type": "histogram2dcontour"
           }
          ],
          "mesh3d": [
           {
            "colorbar": {
             "outlinewidth": 0,
             "ticks": ""
            },
            "type": "mesh3d"
           }
          ],
          "parcoords": [
           {
            "line": {
             "colorbar": {
              "outlinewidth": 0,
              "ticks": ""
             }
            },
            "type": "parcoords"
           }
          ],
          "pie": [
           {
            "automargin": true,
            "type": "pie"
           }
          ],
          "scatter": [
           {
            "fillpattern": {
             "fillmode": "overlay",
             "size": 10,
             "solidity": 0.2
            },
            "type": "scatter"
           }
          ],
          "scatter3d": [
           {
            "line": {
             "colorbar": {
              "outlinewidth": 0,
              "ticks": ""
             }
            },
            "marker": {
             "colorbar": {
              "outlinewidth": 0,
              "ticks": ""
             }
            },
            "type": "scatter3d"
           }
          ],
          "scattercarpet": [
           {
            "marker": {
             "colorbar": {
              "outlinewidth": 0,
              "ticks": ""
             }
            },
            "type": "scattercarpet"
           }
          ],
          "scattergeo": [
           {
            "marker": {
             "colorbar": {
              "outlinewidth": 0,
              "ticks": ""
             }
            },
            "type": "scattergeo"
           }
          ],
          "scattergl": [
           {
            "marker": {
             "colorbar": {
              "outlinewidth": 0,
              "ticks": ""
             }
            },
            "type": "scattergl"
           }
          ],
          "scattermapbox": [
           {
            "marker": {
             "colorbar": {
              "outlinewidth": 0,
              "ticks": ""
             }
            },
            "type": "scattermapbox"
           }
          ],
          "scatterpolar": [
           {
            "marker": {
             "colorbar": {
              "outlinewidth": 0,
              "ticks": ""
             }
            },
            "type": "scatterpolar"
           }
          ],
          "scatterpolargl": [
           {
            "marker": {
             "colorbar": {
              "outlinewidth": 0,
              "ticks": ""
             }
            },
            "type": "scatterpolargl"
           }
          ],
          "scatterternary": [
           {
            "marker": {
             "colorbar": {
              "outlinewidth": 0,
              "ticks": ""
             }
            },
            "type": "scatterternary"
           }
          ],
          "surface": [
           {
            "colorbar": {
             "outlinewidth": 0,
             "ticks": ""
            },
            "colorscale": [
             [
              0,
              "#0d0887"
             ],
             [
              0.1111111111111111,
              "#46039f"
             ],
             [
              0.2222222222222222,
              "#7201a8"
             ],
             [
              0.3333333333333333,
              "#9c179e"
             ],
             [
              0.4444444444444444,
              "#bd3786"
             ],
             [
              0.5555555555555556,
              "#d8576b"
             ],
             [
              0.6666666666666666,
              "#ed7953"
             ],
             [
              0.7777777777777778,
              "#fb9f3a"
             ],
             [
              0.8888888888888888,
              "#fdca26"
             ],
             [
              1,
              "#f0f921"
             ]
            ],
            "type": "surface"
           }
          ],
          "table": [
           {
            "cells": {
             "fill": {
              "color": "#EBF0F8"
             },
             "line": {
              "color": "white"
             }
            },
            "header": {
             "fill": {
              "color": "#C8D4E3"
             },
             "line": {
              "color": "white"
             }
            },
            "type": "table"
           }
          ]
         },
         "layout": {
          "annotationdefaults": {
           "arrowcolor": "#2a3f5f",
           "arrowhead": 0,
           "arrowwidth": 1
          },
          "autotypenumbers": "strict",
          "coloraxis": {
           "colorbar": {
            "outlinewidth": 0,
            "ticks": ""
           }
          },
          "colorscale": {
           "diverging": [
            [
             0,
             "#8e0152"
            ],
            [
             0.1,
             "#c51b7d"
            ],
            [
             0.2,
             "#de77ae"
            ],
            [
             0.3,
             "#f1b6da"
            ],
            [
             0.4,
             "#fde0ef"
            ],
            [
             0.5,
             "#f7f7f7"
            ],
            [
             0.6,
             "#e6f5d0"
            ],
            [
             0.7,
             "#b8e186"
            ],
            [
             0.8,
             "#7fbc41"
            ],
            [
             0.9,
             "#4d9221"
            ],
            [
             1,
             "#276419"
            ]
           ],
           "sequential": [
            [
             0,
             "#0d0887"
            ],
            [
             0.1111111111111111,
             "#46039f"
            ],
            [
             0.2222222222222222,
             "#7201a8"
            ],
            [
             0.3333333333333333,
             "#9c179e"
            ],
            [
             0.4444444444444444,
             "#bd3786"
            ],
            [
             0.5555555555555556,
             "#d8576b"
            ],
            [
             0.6666666666666666,
             "#ed7953"
            ],
            [
             0.7777777777777778,
             "#fb9f3a"
            ],
            [
             0.8888888888888888,
             "#fdca26"
            ],
            [
             1,
             "#f0f921"
            ]
           ],
           "sequentialminus": [
            [
             0,
             "#0d0887"
            ],
            [
             0.1111111111111111,
             "#46039f"
            ],
            [
             0.2222222222222222,
             "#7201a8"
            ],
            [
             0.3333333333333333,
             "#9c179e"
            ],
            [
             0.4444444444444444,
             "#bd3786"
            ],
            [
             0.5555555555555556,
             "#d8576b"
            ],
            [
             0.6666666666666666,
             "#ed7953"
            ],
            [
             0.7777777777777778,
             "#fb9f3a"
            ],
            [
             0.8888888888888888,
             "#fdca26"
            ],
            [
             1,
             "#f0f921"
            ]
           ]
          },
          "colorway": [
           "#636efa",
           "#EF553B",
           "#00cc96",
           "#ab63fa",
           "#FFA15A",
           "#19d3f3",
           "#FF6692",
           "#B6E880",
           "#FF97FF",
           "#FECB52"
          ],
          "font": {
           "color": "#2a3f5f"
          },
          "geo": {
           "bgcolor": "white",
           "lakecolor": "white",
           "landcolor": "#E5ECF6",
           "showlakes": true,
           "showland": true,
           "subunitcolor": "white"
          },
          "hoverlabel": {
           "align": "left"
          },
          "hovermode": "closest",
          "mapbox": {
           "style": "light"
          },
          "paper_bgcolor": "white",
          "plot_bgcolor": "#E5ECF6",
          "polar": {
           "angularaxis": {
            "gridcolor": "white",
            "linecolor": "white",
            "ticks": ""
           },
           "bgcolor": "#E5ECF6",
           "radialaxis": {
            "gridcolor": "white",
            "linecolor": "white",
            "ticks": ""
           }
          },
          "scene": {
           "xaxis": {
            "backgroundcolor": "#E5ECF6",
            "gridcolor": "white",
            "gridwidth": 2,
            "linecolor": "white",
            "showbackground": true,
            "ticks": "",
            "zerolinecolor": "white"
           },
           "yaxis": {
            "backgroundcolor": "#E5ECF6",
            "gridcolor": "white",
            "gridwidth": 2,
            "linecolor": "white",
            "showbackground": true,
            "ticks": "",
            "zerolinecolor": "white"
           },
           "zaxis": {
            "backgroundcolor": "#E5ECF6",
            "gridcolor": "white",
            "gridwidth": 2,
            "linecolor": "white",
            "showbackground": true,
            "ticks": "",
            "zerolinecolor": "white"
           }
          },
          "shapedefaults": {
           "line": {
            "color": "#2a3f5f"
           }
          },
          "ternary": {
           "aaxis": {
            "gridcolor": "white",
            "linecolor": "white",
            "ticks": ""
           },
           "baxis": {
            "gridcolor": "white",
            "linecolor": "white",
            "ticks": ""
           },
           "bgcolor": "#E5ECF6",
           "caxis": {
            "gridcolor": "white",
            "linecolor": "white",
            "ticks": ""
           }
          },
          "title": {
           "x": 0.05
          },
          "xaxis": {
           "automargin": true,
           "gridcolor": "white",
           "linecolor": "white",
           "ticks": "",
           "title": {
            "standoff": 15
           },
           "zerolinecolor": "white",
           "zerolinewidth": 2
          },
          "yaxis": {
           "automargin": true,
           "gridcolor": "white",
           "linecolor": "white",
           "ticks": "",
           "title": {
            "standoff": 15
           },
           "zerolinecolor": "white",
           "zerolinewidth": 2
          }
         }
        },
        "xaxis": {
         "anchor": "y",
         "domain": [
          0,
          1
         ],
         "tickangle": 0,
         "tickfont": {
          "size": 10
         }
        },
        "xaxis2": {
         "anchor": "y2",
         "domain": [
          0,
          1
         ],
         "tickangle": 0,
         "tickfont": {
          "size": 10
         }
        },
        "xaxis3": {
         "anchor": "y3",
         "domain": [
          0,
          1
         ],
         "tickangle": 45,
         "tickfont": {
          "size": 10
         }
        },
        "yaxis": {
         "anchor": "x",
         "domain": [
          0.7333333333333333,
          1
         ],
         "showticklabels": false
        },
        "yaxis2": {
         "anchor": "x2",
         "domain": [
          0.36666666666666664,
          0.6333333333333333
         ],
         "showticklabels": false
        },
        "yaxis3": {
         "anchor": "x3",
         "domain": [
          0,
          0.26666666666666666
         ],
         "showticklabels": false
        }
       }
      }
     },
     "metadata": {},
     "output_type": "display_data"
    }
   ],
   "source": [
    "extr = np.arange(len(M_optim)), np.arange(len(M_optim))\n",
    "Mratio = np.linalg.inv(M_comb)[extr] / np.linalg.inv(M_optim)[extr]\n",
    "\n",
    "import plotly.graph_objects as go\n",
    "from plotly.subplots import make_subplots\n",
    "\n",
    "fig = make_subplots(3, 1)\n",
    "fig.add_trace(go.Heatmap(\n",
    "    z=Mratio[:14][np.newaxis, :],\n",
    "    text=Mratio[:14][np.newaxis, :],\n",
    "    texttemplate='%{text:.2f}',\n",
    "    coloraxis='coloraxis',\n",
    "    x=terms[:14]\n",
    "), 1, 1)\n",
    "fig.add_trace(go.Heatmap(\n",
    "    z=np.concatenate((Mratio[14:20], Mratio[-3:]))[np.newaxis, :],\n",
    "    text=np.concatenate((Mratio[14:20], Mratio[-3:]))[np.newaxis, :],\n",
    "    texttemplate='%{text:.2f}',\n",
    "    coloraxis='coloraxis',\n",
    "    x=np.concatenate((terms[14:20], terms[-3:]))\n",
    "), 2, 1)\n",
    "fig.add_trace(go.Heatmap(\n",
    "    z=Mratio[20:-3][np.newaxis, :],\n",
    "    text=Mratio[20:-3][np.newaxis, :],\n",
    "    texttemplate='%{text:.2f}',\n",
    "    coloraxis='coloraxis',\n",
    "    x=terms[20:-3]\n",
    "), 3, 1)\n",
    "fig.update_layout(\n",
    "    coloraxis={'colorscale': 'viridis'},\n",
    "    margin=dict(\n",
    "        l=10, r=0, b=0, t=10\n",
    "    )\n",
    ")\n",
    "fig.update_yaxes(showticklabels=False)\n",
    "fig.update_xaxes(tickangle=0, tickfont=dict(size=10))\n",
    "fig.update_xaxes(tickangle=45, row=3, col=1)\n",
    "\n",
    "# fig.write_image('../figures/variance_ratios.png')"
   ]
  },
  {
   "cell_type": "code",
   "execution_count": 8,
   "metadata": {},
   "outputs": [
    {
     "name": "stdout",
     "output_type": "stream",
     "text": [
      "$1$ & $-1$ & $1$ & $-1$ & $0$ & $1$ & $0$\\\\\n",
      "$1$ & $-1$ & $1$ & $-1$ & $1$ & $-1$ & $-1$\\\\\n",
      "$1$ & $-1$ & $1$ & $-1$ & $-1$ & $-1$ & $1$\\\\\n",
      "$1$ & $-1$ & $1$ & $1$ & $1$ & $-1$ & $1$\\\\\n",
      "$1$ & $-1$ & $1$ & $1$ & $-1$ & $1$ & $1$\\\\\n",
      "$1$ & $-1$ & $1$ & $1$ & $0$ & $0$ & $-1$\\\\\n",
      "$1$ & $-1$ & $-1$ & $1$ & $-1$ & $-1$ & $1$\\\\\n",
      "$1$ & $-1$ & $-1$ & $1$ & $1$ & $1$ & $1$\\\\\n",
      "$1$ & $-1$ & $-1$ & $1$ & $-1$ & $1$ & $-1$\\\\\n",
      "$1$ & $0$ & $-1$ & $-1$ & $1$ & $-1$ & $1$\\\\\n",
      "$1$ & $0$ & $-1$ & $-1$ & $1$ & $1$ & $-1$\\\\\n",
      "$1$ & $0$ & $-1$ & $-1$ & $-1$ & $-1$ & $-1$\\\\\n",
      "$1$ & $0$ & $-1$ & $1$ & $-1$ & $0$ & $1$\\\\\n",
      "$1$ & $0$ & $-1$ & $1$ & $-1$ & $-1$ & $-1$\\\\\n",
      "$1$ & $0$ & $-1$ & $1$ & $0$ & $1$ & $0$\\\\\n",
      "$1$ & $0$ & $1$ & $-1$ & $-1$ & $-1$ & $1$\\\\\n",
      "$1$ & $0$ & $1$ & $-1$ & $1$ & $-1$ & $-1$\\\\\n",
      "$1$ & $0$ & $1$ & $-1$ & $-1$ & $1$ & $-1$\\\\\n",
      "$1$ & $1$ & $1$ & $1$ & $-1$ & $-1$ & $-1$\\\\\n",
      "$1$ & $1$ & $1$ & $1$ & $1$ & $1$ & $-1$\\\\\n",
      "$1$ & $1$ & $1$ & $1$ & $0$ & $0$ & $1$\\\\\n",
      "$1$ & $1$ & $1$ & $-1$ & $1$ & $1$ & $-1$\\\\\n",
      "$1$ & $1$ & $1$ & $-1$ & $-1$ & $1$ & $1$\\\\\n",
      "$1$ & $1$ & $1$ & $-1$ & $1$ & $-1$ & $1$\\\\\n",
      "$1$ & $1$ & $-1$ & $-1$ & $-1$ & $1$ & $-1$\\\\\n",
      "$1$ & $1$ & $-1$ & $-1$ & $1$ & $0$ & $0$\\\\\n",
      "$1$ & $1$ & $-1$ & $-1$ & $-1$ & $-1$ & $1$\\\\\n",
      "$-1$ & $-1$ & $-1$ & $-1$ & $-1$ & $-1$ & $-1$\\\\\n",
      "$-1$ & $-1$ & $-1$ & $-1$ & $1$ & $-1$ & $1$\\\\\n",
      "$-1$ & $-1$ & $-1$ & $-1$ & $-1$ & $1$ & $1$\\\\\n",
      "$-1$ & $-1$ & $1$ & $-1$ & $0$ & $-1$ & $0$\\\\\n",
      "$-1$ & $-1$ & $1$ & $-1$ & $-1$ & $1$ & $-1$\\\\\n",
      "$-1$ & $-1$ & $1$ & $-1$ & $1$ & $1$ & $1$\\\\\n",
      "$-1$ & $-1$ & $1$ & $1$ & $-1$ & $-1$ & $0$\\\\\n",
      "$-1$ & $-1$ & $1$ & $1$ & $1$ & $0$ & $-1$\\\\\n",
      "$-1$ & $-1$ & $1$ & $1$ & $0$ & $1$ & $1$\\\\\n",
      "$-1$ & $0$ & $1$ & $1$ & $-1$ & $0$ & $-1$\\\\\n",
      "$-1$ & $0$ & $1$ & $1$ & $0$ & $-1$ & $1$\\\\\n",
      "$-1$ & $0$ & $1$ & $1$ & $1$ & $1$ & $0$\\\\\n",
      "$-1$ & $0$ & $-1$ & $1$ & $-1$ & $1$ & $0$\\\\\n",
      "$-1$ & $0$ & $-1$ & $1$ & $0$ & $-1$ & $-1$\\\\\n",
      "$-1$ & $0$ & $-1$ & $1$ & $1$ & $0$ & $1$\\\\\n",
      "$-1$ & $0$ & $1$ & $-1$ & $1$ & $1$ & $1$\\\\\n",
      "$-1$ & $0$ & $1$ & $-1$ & $1$ & $-1$ & $-1$\\\\\n",
      "$-1$ & $0$ & $1$ & $-1$ & $-1$ & $0$ & $0$\\\\\n",
      "$-1$ & $1$ & $1$ & $1$ & $1$ & $-1$ & $-1$\\\\\n",
      "$-1$ & $1$ & $1$ & $1$ & $-1$ & $0$ & $0$\\\\\n",
      "$-1$ & $1$ & $1$ & $1$ & $0$ & $1$ & $-1$\\\\\n",
      "$-1$ & $1$ & $-1$ & $-1$ & $1$ & $1$ & $-1$\\\\\n",
      "$-1$ & $1$ & $-1$ & $-1$ & $-1$ & $1$ & $1$\\\\\n",
      "$-1$ & $1$ & $-1$ & $-1$ & $0$ & $0$ & $0$\\\\\n",
      "$-1$ & $1$ & $-1$ & $1$ & $1$ & $-1$ & $0$\\\\\n",
      "$-1$ & $1$ & $-1$ & $1$ & $0$ & $0$ & $-1$\\\\\n",
      "$-1$ & $1$ & $-1$ & $1$ & $1$ & $1$ & $1$\n"
     ]
    }
   ],
   "source": [
    "table = '\\\\\\\\\\n'.join([' & '.join(f'${y}$' if isinstance(y, float) else '$' + str(y) + '$' for y in x) \n",
    "                                for _, x in design_comb.iterrows()])\n",
    "print(table)"
   ]
  },
  {
   "cell_type": "code",
   "execution_count": 22,
   "metadata": {},
   "outputs": [
    {
     "name": "stdout",
     "output_type": "stream",
     "text": [
      "$1$ & $-1$ & $-1$ & $-1$ & $1$ & $1$ & $1$\\\\\n",
      "\\hline\\\\\n",
      "$1$ & $-1$ & $-1$ & $-1$ & $1$ & $-1$ & $-1$\\\\\n",
      "\\hline\\\\\n",
      "$1$ & $-1$ & $-1$ & $-1$ & $-1$ & $1$ & $-1$\\\\\n",
      "\\hline\\\\\n",
      "$1$ & $-1$ & $1$ & $-1$ & $-1$ & $1$ & $1$\\\\\n",
      "\\hline\\\\\n",
      "$1$ & $-1$ & $1$ & $-1$ & $1$ & $1$ & $-1$\\\\\n",
      "\\hline\\\\\n",
      "$1$ & $-1$ & $1$ & $-1$ & $0$ & $-1$ & $0$\\\\\n",
      "\\hline\\\\\n",
      "$1$ & $-1$ & $1$ & $1$ & $-1$ & $-1$ & $1$\\\\\n",
      "\\hline\\\\\n",
      "$1$ & $-1$ & $1$ & $1$ & $1$ & $1$ & $1$\\\\\n",
      "\\hline\\\\\n",
      "$1$ & $-1$ & $1$ & $1$ & $0$ & $0$ & $-1$\\\\\n",
      "\\hline\\\\\n",
      "$1$ & $0$ & $-1$ & $-1$ & $1$ & $1$ & $-1$\\\\\n",
      "\\hline\\\\\n",
      "$1$ & $0$ & $-1$ & $-1$ & $1$ & $-1$ & $-1$\\\\\n",
      "\\hline\\\\\n",
      "$1$ & $0$ & $-1$ & $-1$ & $-1$ & $-1$ & $1$\\\\\n",
      "\\hline\\\\\n",
      "$1$ & $0$ & $-1$ & $1$ & $-1$ & $0$ & $-1$\\\\\n",
      "\\hline\\\\\n",
      "$1$ & $0$ & $-1$ & $1$ & $-1$ & $1$ & $1$\\\\\n",
      "\\hline\\\\\n",
      "$1$ & $0$ & $-1$ & $1$ & $1$ & $-1$ & $1$\\\\\n",
      "\\hline\\\\\n",
      "$1$ & $0$ & $1$ & $1$ & $-1$ & $1$ & $0$\\\\\n",
      "\\hline\\\\\n",
      "$1$ & $0$ & $1$ & $1$ & $-1$ & $-1$ & $-1$\\\\\n",
      "\\hline\\\\\n",
      "$1$ & $0$ & $1$ & $1$ & $1$ & $0$ & $1$\\\\\n",
      "\\hline\\\\\n",
      "$1$ & $1$ & $-1$ & $1$ & $-1$ & $0$ & $1$\\\\\n",
      "\\hline\\\\\n",
      "$1$ & $1$ & $-1$ & $1$ & $1$ & $1$ & $-1$\\\\\n",
      "\\hline\\\\\n",
      "$1$ & $1$ & $-1$ & $1$ & $-1$ & $-1$ & $-1$\\\\\n",
      "\\hline\\\\\n",
      "$1$ & $1$ & $1$ & $1$ & $1$ & $-1$ & $-1$\\\\\n",
      "\\hline\\\\\n",
      "$1$ & $1$ & $1$ & $1$ & $-1$ & $1$ & $-1$\\\\\n",
      "\\hline\\\\\n",
      "$1$ & $1$ & $1$ & $1$ & $0$ & $-1$ & $1$\\\\\n",
      "\\hline\\\\\n",
      "$1$ & $1$ & $1$ & $-1$ & $0$ & $1$ & $1$\\\\\n",
      "\\hline\\\\\n",
      "$1$ & $1$ & $1$ & $-1$ & $1$ & $-1$ & $1$\\\\\n",
      "\\hline\\\\\n",
      "$1$ & $1$ & $1$ & $-1$ & $-1$ & $-1$ & $-1$\\\\\n",
      "\\hline\\\\\n",
      "$-1$ & $-1$ & $-1$ & $1$ & $-1$ & $-1$ & $1$\\\\\n",
      "\\hline\\\\\n",
      "$-1$ & $-1$ & $-1$ & $1$ & $-1$ & $1$ & $0$\\\\\n",
      "\\hline\\\\\n",
      "$-1$ & $-1$ & $-1$ & $1$ & $1$ & $-1$ & $-1$\\\\\n",
      "\\hline\\\\\n",
      "$-1$ & $-1$ & $-1$ & $-1$ & $1$ & $1$ & $-1$\\\\\n",
      "\\hline\\\\\n",
      "$-1$ & $-1$ & $-1$ & $-1$ & $0$ & $0$ & $1$\\\\\n",
      "\\hline\\\\\n",
      "$-1$ & $-1$ & $-1$ & $-1$ & $-1$ & $-1$ & $-1$\\\\\n",
      "\\hline\\\\\n",
      "$-1$ & $-1$ & $1$ & $1$ & $-1$ & $-1$ & $-1$\\\\\n",
      "\\hline\\\\\n",
      "$-1$ & $-1$ & $1$ & $1$ & $0$ & $1$ & $1$\\\\\n",
      "\\hline\\\\\n",
      "$-1$ & $-1$ & $1$ & $1$ & $1$ & $-1$ & $1$\\\\\n",
      "\\hline\\\\\n",
      "$-1$ & $0$ & $1$ & $-1$ & $1$ & $1$ & $1$\\\\\n",
      "\\hline\\\\\n",
      "$-1$ & $0$ & $1$ & $-1$ & $1$ & $-1$ & $-1$\\\\\n",
      "\\hline\\\\\n",
      "$-1$ & $0$ & $1$ & $-1$ & $-1$ & $1$ & $-1$\\\\\n",
      "\\hline\\\\\n",
      "$-1$ & $0$ & $-1$ & $1$ & $0$ & $1$ & $1$\\\\\n",
      "\\hline\\\\\n",
      "$-1$ & $0$ & $-1$ & $1$ & $1$ & $0$ & $0$\\\\\n",
      "\\hline\\\\\n",
      "$-1$ & $0$ & $-1$ & $1$ & $-1$ & $-1$ & $-1$\\\\\n",
      "\\hline\\\\\n",
      "$-1$ & $0$ & $1$ & $1$ & $0$ & $-1$ & $0$\\\\\n",
      "\\hline\\\\\n",
      "$-1$ & $0$ & $1$ & $1$ & $1$ & $1$ & $-1$\\\\\n",
      "\\hline\\\\\n",
      "$-1$ & $0$ & $1$ & $1$ & $-1$ & $0$ & $1$\\\\\n",
      "\\hline\\\\\n",
      "$-1$ & $1$ & $-1$ & $1$ & $-1$ & $-1$ & $0$\\\\\n",
      "\\hline\\\\\n",
      "$-1$ & $1$ & $-1$ & $1$ & $-1$ & $1$ & $-1$\\\\\n",
      "\\hline\\\\\n",
      "$-1$ & $1$ & $-1$ & $1$ & $1$ & $1$ & $1$\\\\\n",
      "\\hline\\\\\n",
      "$-1$ & $1$ & $1$ & $-1$ & $0$ & $-1$ & $-1$\\\\\n",
      "\\hline\\\\\n",
      "$-1$ & $1$ & $1$ & $-1$ & $-1$ & $-1$ & $1$\\\\\n",
      "\\hline\\\\\n",
      "$-1$ & $1$ & $1$ & $-1$ & $1$ & $1$ & $0$\\\\\n",
      "\\hline\\\\\n",
      "$-1$ & $1$ & $-1$ & $-1$ & $1$ & $0$ & $-1$\\\\\n",
      "\\hline\\\\\n",
      "$-1$ & $1$ & $-1$ & $-1$ & $1$ & $-1$ & $1$\\\\\n",
      "\\hline\\\\\n",
      "$-1$ & $1$ & $-1$ & $-1$ & $-1$ & $1$ & $1$\n"
     ]
    }
   ],
   "source": [
    "table = '\\\\\\\\\\n\\\\hline\\\\\\\\\\n'.join([' & '.join(f'${y}$' if isinstance(y, float) else '$' + str(y) + '$' for y in x) \n",
    "                                for _, x in design_optim.iterrows()])\n",
    "print(table)"
   ]
  },
  {
   "cell_type": "code",
   "execution_count": 21,
   "metadata": {},
   "outputs": [
    {
     "name": "stdout",
     "output_type": "stream",
     "text": [
      "$icept$ & 1.547 & 1.684 & 0.919\\\\\n",
      "\\hline\\\\\n",
      "$D$ & 0.784 & 0.776 & 1.011\\\\\n",
      "\\hline\\\\\n",
      "$C$ & 0.406 & 0.388 & 1.044\\\\\n",
      "\\hline\\\\\n",
      "$C^2$ & 1.172 & 1.192 & 0.983\\\\\n",
      "\\hline\\\\\n",
      "$D \\times C$ & 0.416 & 0.421 & 0.987\\\\\n",
      "\\hline\\\\\n",
      "$B$ & 0.318 & 0.284 & 1.118\\\\\n",
      "\\hline\\\\\n",
      "$A$ & 0.340 & 0.296 & 1.147\\\\\n",
      "\\hline\\\\\n",
      "$D \\times B$ & 0.103 & 0.093 & 1.114\\\\\n",
      "\\hline\\\\\n",
      "$D \\times A$ & 0.097 & 0.094 & 1.028\\\\\n",
      "\\hline\\\\\n",
      "$C \\times B$ & 0.169 & 0.171 & 0.991\\\\\n",
      "\\hline\\\\\n",
      "$C^2 \\times B$ & 0.497 & 0.474 & 1.048\\\\\n",
      "\\hline\\\\\n",
      "$C \\times A$ & 0.164 & 0.166 & 0.988\\\\\n",
      "\\hline\\\\\n",
      "$C^2 \\times A$ & 0.499 & 0.470 & 1.061\\\\\n",
      "\\hline\\\\\n",
      "$B \\times A$ & 0.099 & 0.094 & 1.053\\\\\n",
      "\\hline\\\\\n",
      "$LOC$ & 0.098 & 0.073 & 1.339\\\\\n",
      "\\hline\\\\\n",
      "$LOC^2$ & 0.184 & 0.193 & 0.952\\\\\n",
      "\\hline\\\\\n",
      "$Cap$ & 0.097 & 0.082 & 1.185\\\\\n",
      "\\hline\\\\\n",
      "$Cap^2$ & 0.187 & 0.199 & 0.941\\\\\n",
      "\\hline\\\\\n",
      "$RPM$ & 0.097 & 0.079 & 1.229\\\\\n",
      "\\hline\\\\\n",
      "$RPM^2$ & 0.233 & 0.229 & 1.016\\\\\n",
      "\\hline\\\\\n",
      "$D \\times LOC$ & 0.040 & 0.025 & 1.623\\\\\n",
      "\\hline\\\\\n",
      "$D \\times Cap$ & 0.048 & 0.025 & 1.944\\\\\n",
      "\\hline\\\\\n",
      "$D \\times RPM$ & 0.042 & 0.025 & 1.710\\\\\n",
      "\\hline\\\\\n",
      "$C \\times LOC$ & 0.054 & 0.038 & 1.398\\\\\n",
      "\\hline\\\\\n",
      "$C^2 \\times LOC$ & 0.144 & 0.110 & 1.316\\\\\n",
      "\\hline\\\\\n",
      "$C \\times Cap$ & 0.053 & 0.036 & 1.460\\\\\n",
      "\\hline\\\\\n",
      "$C^2 \\times Cap$ & 0.169 & 0.118 & 1.436\\\\\n",
      "\\hline\\\\\n",
      "$C \\times RPM$ & 0.053 & 0.036 & 1.485\\\\\n",
      "\\hline\\\\\n",
      "$C^2 \\times RPM$ & 0.144 & 0.113 & 1.278\\\\\n",
      "\\hline\\\\\n",
      "$B \\times LOC$ & 0.048 & 0.025 & 1.897\\\\\n",
      "\\hline\\\\\n",
      "$B \\times Cap$ & 0.034 & 0.026 & 1.345\\\\\n",
      "\\hline\\\\\n",
      "$B \\times RPM$ & 0.039 & 0.025 & 1.565\\\\\n",
      "\\hline\\\\\n",
      "$A \\times LOC$ & 0.034 & 0.027 & 1.292\\\\\n",
      "\\hline\\\\\n",
      "$A \\times Cap$ & 0.033 & 0.027 & 1.238\\\\\n",
      "\\hline\\\\\n",
      "$A \\times RPM$ & 0.030 & 0.026 & 1.150\\\\\n",
      "\\hline\\\\\n",
      "$LOC \\times Cap$ & 0.047 & 0.038 & 1.231\\\\\n",
      "\\hline\\\\\n",
      "$LOC \\times RPM$ & 0.053 & 0.039 & 1.346\\\\\n",
      "\\hline\\\\\n",
      "$Cap \\times RPM$ & 0.053 & 0.030 & 1.753\n"
     ]
    }
   ],
   "source": [
    "extr = np.arange(len(M_optim)), np.arange(len(M_optim))\n",
    "M_comb_extr = np.linalg.inv(M_comb)[extr]\n",
    "M_optim_extr = np.linalg.inv(M_optim)[extr]\n",
    "\n",
    "table = '\\\\\\\\\\n\\\\hline\\\\\\\\\\n'.join([' & '.join(f'{y:.3f}' if isinstance(y, float) else str(y) for y in x) \n",
    "                                for x in zip(terms, M_comb_extr, M_optim_extr, M_comb_extr / M_optim_extr)])\n",
    "print(table)"
   ]
  }
 ],
 "metadata": {
  "kernelspec": {
   "display_name": "Python 3.8.10 ('venv': venv)",
   "language": "python",
   "name": "python3"
  },
  "language_info": {
   "codemirror_mode": {
    "name": "ipython",
    "version": 3
   },
   "file_extension": ".py",
   "mimetype": "text/x-python",
   "name": "python",
   "nbconvert_exporter": "python",
   "pygments_lexer": "ipython3",
   "version": "3.8.10"
  },
  "orig_nbformat": 4,
  "vscode": {
   "interpreter": {
    "hash": "60b632efd347e20e25c647ed7731ea15f30ac276af9e5a993cbe7dbb446a6ac7"
   }
  }
 },
 "nbformat": 4,
 "nbformat_minor": 2
}
